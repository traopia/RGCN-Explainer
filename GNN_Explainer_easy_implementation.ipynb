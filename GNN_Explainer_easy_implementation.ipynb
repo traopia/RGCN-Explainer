{
 "cells": [
  {
   "attachments": {},
   "cell_type": "markdown",
   "metadata": {},
   "source": [
    "# UNDERSTANDING GNN EXPLAINER\n",
    "\n",
    "In this tutorial we are going to explore how GNN Explainer works by breaking it down in pieces that will hopefully make it more intuitevely understandable.\n",
    "\n",
    "The goal of this is to get a full understanding of the method such that the user can expand it to its use.\n",
    "\n",
    "We will work on the Cora dataset to show all the steps involved, and the model that we will explain is a small GCN model."
   ]
  },
  {
   "cell_type": "code",
   "execution_count": 1,
   "metadata": {},
   "outputs": [],
   "source": [
    "#Here we import the necessary libraries\n",
    "import networkx as nx\n",
    "import numpy as np\n",
    "import pandas as pd\n",
    "import seaborn as sns\n",
    "import torch\n",
    "from tqdm import tqdm\n",
    "\n",
    "#for the model \n",
    "from torch_geometric.nn import GCNConv\n",
    "import torch.nn.functional as F\n",
    "\n",
    "\n",
    "import matplotlib.pyplot as plt\n",
    "#Explain Module\n",
    "import torch.nn as nn\n",
    "import math\n",
    "\n",
    "#to import the data\n",
    "from torch_geometric.datasets import Planetoid\n",
    "from torch_geometric.transforms import NormalizeFeatures\n",
    "from torch_geometric.utils import to_networkx"
   ]
  },
  {
   "cell_type": "code",
   "execution_count": 2,
   "metadata": {},
   "outputs": [
    {
     "name": "stdout",
     "output_type": "stream",
     "text": [
      "Number of graphs: 1\n",
      "Number of features: 1433\n",
      "Number of classes: 7\n",
      "dataset under study\n",
      "Number of nodes: 2708\n",
      "Number of edges: 10556\n"
     ]
    }
   ],
   "source": [
    "#Here we import the Cora dataset. We use the Cora dataset because it is a small dataset and it is easy to understand.\n",
    "#We import the dataset from the Pytorch Geometric library as it is already preprocessed - and the goal is then to further expand the GNN implementation to other datasets starting from the PYG implementation.\n",
    "\n",
    "#import the dataset and print some information about it\n",
    "dataset = Planetoid(root='data/Planetoid', name='Cora', transform=NormalizeFeatures())\n",
    "print(f'Number of graphs: {len(dataset)}')\n",
    "print(f'Number of features: {dataset.num_features}')\n",
    "print(f'Number of classes: {dataset.num_classes}')\n",
    "data = dataset[0]\n",
    "print('dataset under study')\n",
    "print(f'Number of nodes: {data.num_nodes}')\n",
    "print(f'Number of edges: {data.num_edges}')\n"
   ]
  },
  {
   "cell_type": "code",
   "execution_count": 3,
   "metadata": {},
   "outputs": [
    {
     "data": {
      "text/plain": [
       "tensor([[   0,    0,    0,  ..., 2707, 2707, 2707],\n",
       "        [ 633, 1862, 2582,  ...,  598, 1473, 2706]])"
      ]
     },
     "execution_count": 3,
     "metadata": {},
     "output_type": "execute_result"
    }
   ],
   "source": [
    "data.edge_index"
   ]
  },
  {
   "cell_type": "code",
   "execution_count": 4,
   "metadata": {},
   "outputs": [
    {
     "name": "stdout",
     "output_type": "stream",
     "text": [
      "tensor([[   0,    0,    0,  ..., 2707, 2707, 2707],\n",
      "        [ 633, 1862, 2582,  ...,  598, 1473, 2706]])\n"
     ]
    }
   ],
   "source": [
    "print(data.edge_index[:10])"
   ]
  },
  {
   "cell_type": "code",
   "execution_count": 5,
   "metadata": {},
   "outputs": [],
   "source": [
    "#for convention to how things are named we rename the data\n",
    "label = data.y\n",
    "feat = data.x"
   ]
  },
  {
   "attachments": {},
   "cell_type": "markdown",
   "metadata": {},
   "source": [
    "Since we want to visualize the graph, we need to convert the data into a networkx graph. We can then use the networkx library to visualize the graph. Each node color represents a different class in the dataset."
   ]
  },
  {
   "cell_type": "code",
   "execution_count": 6,
   "metadata": {},
   "outputs": [],
   "source": [
    "\n",
    "G = to_networkx(data, to_undirected=True)\n",
    "#nx.draw(G, with_labels=False, node_color=data.y)"
   ]
  },
  {
   "attachments": {},
   "cell_type": "markdown",
   "metadata": {},
   "source": [
    "Another cool thing about importing our graph into a networkx object is that we can easily extract its adjacency matrix - which we will need to dig into the GNN Explainer method.\n",
    "\n",
    "We can easily see from the Adjacency matrix that the graph is directed as adj is not symmetric, but indeed as it should be is a square matrix.\n",
    "\n",
    "Just a reminder: what is an Adjacency matrix of a graph?\n",
    "\n",
    "It is a matrix where each row correspond to a node, and the row/column combination represent the connectivity between two nodes. \n",
    "In particular for node 1, we can see that it has a connection towards node 2, because it is a non zero element of the node 1 row.\n"
   ]
  },
  {
   "cell_type": "code",
   "execution_count": 7,
   "metadata": {},
   "outputs": [
    {
     "name": "stdout",
     "output_type": "stream",
     "text": [
      "Connectivity for node 1: \n",
      " we can see that it is connected to node 2 [0 0 1 0 0 0 0 0 0 0]\n"
     ]
    }
   ],
   "source": [
    "adj = nx.adjacency_matrix(G).todense()\n",
    "print('Connectivity for node 1: \\n we can see that it is connected to node 2',adj[1][0:10])"
   ]
  },
  {
   "attachments": {},
   "cell_type": "markdown",
   "metadata": {},
   "source": [
    "We are now ready to start exploring the GNN Explainer implementation.\n",
    "\n",
    "The explain module (explain.py) is made of two classes:\n",
    "- ExplainModule - which is a nn.Module\n",
    "- Explainer - which uses ExplainModule to perform the explanation\n",
    "\n",
    "# Class Explainer:\n",
    "explain: Given a node index it returns the masked adjacency matrix for that node:\n",
    "1. Extract the neighborhood of the given node\n",
    "2. Get the original label of the node\n",
    "3. Get the predicted label of the node (argmax from the softmax layer of the network)\n",
    "4. Call the ExplainModule to do the dirty jobs"
   ]
  },
  {
   "attachments": {},
   "cell_type": "markdown",
   "metadata": {},
   "source": [
    "1. Extract the neighborhood of the given node\n",
    "- We are interested in getting a neighborhood not just in terms of actual neighbors but also in terms of potentian neighbors - namely node which are not directly connected but they would be connected if we consider a different number of hops.\n",
    "\n",
    "- For instance in a simple graph a-b-c: a is connected to c if we consider 2 hops.\n",
    "\n",
    "- We want to have a function that gets that for all our graph - so we rely on the adjacency matrix and we modify it according to the number of hops that we want to take into consideration.\n",
    "\n",
    "- We add self loops as well in terms of connections\n",
    "\n",
    "#from graph_utils import neighborhoods"
   ]
  },
  {
   "cell_type": "code",
   "execution_count": 8,
   "metadata": {},
   "outputs": [
    {
     "name": "stdout",
     "output_type": "stream",
     "text": [
      " 2 hops Connectivity for node 1: \n",
      " we can see that it is connected to node 2 [0 1 1 ... 0 0 0]\n"
     ]
    }
   ],
   "source": [
    "#line 147 in utils/graph_utils.py\n",
    "def neighborhoods(adj, n_hops):\n",
    "    \"\"\"Returns the n_hops degree adjacency matrix adj.\"\"\"\n",
    "\n",
    "    adj = torch.tensor(adj, dtype=torch.float)\n",
    "    hop_adj = power_adj = adj\n",
    "    for i in range(n_hops - 1):\n",
    "        power_adj = power_adj @ adj\n",
    "        prev_hop_adj = hop_adj\n",
    "        hop_adj = hop_adj + power_adj\n",
    "        #print(type(hop_adj))\n",
    "        hop_adj = (hop_adj > 0).float()\n",
    "        #print(hop_adj)\n",
    "    return hop_adj.cpu().numpy().astype(int)\n",
    "n_hops = 2\n",
    "adj_hop = neighborhoods(adj, n_hops)\n",
    "print(' 2 hops Connectivity for node 1: \\n we can see that it is connected to node 2',adj_hop[1,:])\n"
   ]
  },
  {
   "attachments": {},
   "cell_type": "markdown",
   "metadata": {},
   "source": [
    "### Extract neighborhood\n",
    "We are simplifying the function as we are working with 1 graph only (indeed we are working on node mode)\n",
    "\n",
    "Extract neighborhood which returns the new index node, the adjacency matrix of the neighboor, the features of the neighboor, the label and the actual neighbors.\n",
    "\n",
    "\n",
    "- So the neighbors are indeed the neighbros as defined to be the neighbors according to the number of hops used\n",
    "- the sub adj: is the adjacency matrix of the neighbors (adjacency where select only row and cols of the neighbor ) -- thus its size depends on how many neighbors the node has\n",
    "- new index usually just zero"
   ]
  },
  {
   "cell_type": "code",
   "execution_count": 9,
   "metadata": {},
   "outputs": [
    {
     "data": {
      "text/plain": [
       "(0,\n",
       " array([[0, 1, 0, 0, 1, 1, 0, 0, 0],\n",
       "        [1, 0, 1, 0, 0, 0, 1, 1, 1],\n",
       "        [0, 1, 0, 0, 0, 0, 0, 0, 0],\n",
       "        [0, 0, 0, 0, 1, 0, 0, 0, 0],\n",
       "        [1, 0, 0, 1, 0, 0, 0, 0, 0],\n",
       "        [1, 0, 0, 0, 0, 0, 0, 0, 0],\n",
       "        [0, 1, 0, 0, 0, 0, 0, 0, 0],\n",
       "        [0, 1, 0, 0, 0, 0, 0, 0, 0],\n",
       "        [0, 1, 0, 0, 0, 0, 0, 0, 0]]),\n",
       " tensor([[0., 0., 0.,  ..., 0., 0., 0.],\n",
       "         [0., 0., 0.,  ..., 0., 0., 0.],\n",
       "         [0., 0., 0.,  ..., 0., 0., 0.],\n",
       "         ...,\n",
       "         [0., 0., 0.,  ..., 0., 0., 0.],\n",
       "         [0., 0., 0.,  ..., 0., 0., 0.],\n",
       "         [0., 0., 0.,  ..., 0., 0., 0.]]),\n",
       " tensor([4, 4, 3, 4, 4, 4, 4, 3, 3]),\n",
       " array([   1,    2,  332,  470,  652,  654, 1454, 1666, 1986]))"
      ]
     },
     "execution_count": 9,
     "metadata": {},
     "output_type": "execute_result"
    }
   ],
   "source": [
    "#line 506 in explain.py\n",
    "\n",
    "def extract_neighborhood(node_idx,adj,feat,label,n_hops):\n",
    "    \"\"\"Returns the neighborhood of a given ndoe.\"\"\"\n",
    "    neighbors_adj_row = neighborhoods(adj,n_hops)[node_idx, :] #take row of the node in the new adj matrix\n",
    "    # index of the query node in the new adj\n",
    "    node_idx_new = sum(neighbors_adj_row[:node_idx]) #sum of all the nodes before the query node (since they are 1 or 0) - it becomes count of nodes before the query node\n",
    "    neighbors = np.nonzero(neighbors_adj_row)[0] #return the indices of the nodes that are connected to the query node (and thus are non zero)\n",
    "    sub_adj = adj[neighbors][:, neighbors]\n",
    "    sub_feat = feat[neighbors]\n",
    "    sub_label = label[neighbors]\n",
    "    return node_idx_new, sub_adj, sub_feat, sub_label, neighbors\n",
    "\n",
    "node_idx_new, sub_adj, sub_feat, sub_label, neighbors = extract_neighborhood(1,adj,feat,label,n_hops)\n",
    "node_idx_new, sub_adj, sub_feat, sub_label, neighbors"
   ]
  },
  {
   "attachments": {},
   "cell_type": "markdown",
   "metadata": {},
   "source": [
    "Now we can visualize the neighbors for a given node and for a given number of hops!\n",
    "\n",
    "Due to the message passing idea of GNN, this is the structure which is going to be the most influential for the node classification task (namely: number of hops more and less corresponds to the number of layers in our model - IS IT CORRECT???)\n"
   ]
  },
  {
   "cell_type": "code",
   "execution_count": 10,
   "metadata": {},
   "outputs": [
    {
     "data": {
      "image/png": "[encoded data removed]",
      "text/plain": [
       "<Figure size 640x480 with 1 Axes>"
      ]
     },
     "metadata": {},
     "output_type": "display_data"
    }
   ],
   "source": [
    "\n",
    "def visualize_hop_neighbor_subgraph(node_idx, data, neighbors, n_hops,adj,feat,label):\n",
    "    \"\"\"Visualizes the n-hop neighborhood of a given node.\"\"\"\n",
    "    node_idx_new, sub_adj, sub_feat, sub_label, neighbors = extract_neighborhood(node_idx,adj,feat,label,n_hops)\n",
    "    subdata = data.subgraph(torch.tensor(neighbors))\n",
    "    subindex = subdata.edge_index\n",
    "    Gsub = G = to_networkx(subdata, to_undirected=False)\n",
    "    labeldict = {}\n",
    "    for i,j in zip(range(len(neighbors)),neighbors):\n",
    "        labeldict[i] = j\n",
    "    nx.draw(Gsub, labels = labeldict, node_color = data.y[neighbors], cmap=\"Set2\")\n",
    "    return subdata, subindex\n",
    "\n",
    "\n",
    "node_idx = 1\n",
    "subdata_Data, subindex = visualize_hop_neighbor_subgraph(node_idx, data, neighbors, 2,adj,feat,label)\n",
    "subdata = subdata_Data.x\n"
   ]
  },
  {
   "attachments": {},
   "cell_type": "markdown",
   "metadata": {},
   "source": [
    "2. Get the original label of the node - we already have it \n",
    "3. Get the predicted label of the node:\n",
    "\n",
    "A. Here is where we have to start thinking about the model that we want to explain.\n",
    "In this next section we will thus implement a very straight - forward GCN model adapted to how the models in GNN explainer have been designed. \n",
    "\n",
    "B. Another option implies taking a very straightforward model and then modify the structure of the explainer such that we can actually use that model\n",
    "\n",
    "\n",
    "For the sake of simplicity we first work on B."
   ]
  },
  {
   "cell_type": "code",
   "execution_count": 11,
   "metadata": {},
   "outputs": [
    {
     "data": {
      "text/plain": [
       "tensor([[0., 0., 0.,  ..., 0., 0., 0.],\n",
       "        [0., 0., 1.,  ..., 0., 0., 0.],\n",
       "        [0., 1., 0.,  ..., 0., 0., 0.],\n",
       "        ...,\n",
       "        [0., 0., 0.,  ..., 0., 0., 0.],\n",
       "        [0., 0., 0.,  ..., 0., 0., 1.],\n",
       "        [0., 0., 0.,  ..., 0., 1., 0.]])"
      ]
     },
     "execution_count": 11,
     "metadata": {},
     "output_type": "execute_result"
    }
   ],
   "source": [
    "def get_adjacency(data):\n",
    "    adj = torch.zeros(data.num_nodes, data.num_nodes)\n",
    "    for edge in data.edge_index.t():\n",
    "        adj[edge[0]][edge[1]] = 1\n",
    "    return adj\n",
    "\n",
    "adj = get_adjacency(data)\n",
    "#torch.save(adj, 'cora_chk/adj_cora')\n",
    "adj"
   ]
  },
  {
   "cell_type": "code",
   "execution_count": 12,
   "metadata": {},
   "outputs": [],
   "source": [
    "#DEFINE THE MODEL\n",
    "class Net(torch.nn.Module):\n",
    "    def __init__(self):\n",
    "        super().__init__()\n",
    "        torch.manual_seed(1234567)\n",
    "        self.conv1 = GCNConv(dataset.num_features, 16)\n",
    "        self.conv2 = GCNConv(16, dataset.num_classes)\n",
    "\n",
    "    def forward(self, x, adj):\n",
    "        edge_index = adj.nonzero().t()\n",
    "        x = F.relu(self.conv1(x, edge_index))\n",
    "        x = F.dropout(x, training=self.training)\n",
    "        x = self.conv2(x, edge_index)\n",
    "        return F.log_softmax(x, dim=1), adj"
   ]
  },
  {
   "cell_type": "code",
   "execution_count": 13,
   "metadata": {},
   "outputs": [
    {
     "name": "stderr",
     "output_type": "stream",
     "text": [
      "100%|██████████| 400/400 [01:00<00:00,  6.63it/s]\n"
     ]
    },
    {
     "name": "stdout",
     "output_type": "stream",
     "text": [
      "Test Accuracy: 0.8080\n",
      "Predicted labels for node index, 1 with hops 2: \n",
      "  tensor([4, 4, 4, 4, 4, 4, 4, 4, 3]) \n",
      " Actual labels for node index, 1 with hops 2: \n",
      "  tensor([4, 4, 3, 4, 4, 4, 4, 3, 3])\n"
     ]
    }
   ],
   "source": [
    "#TRAIN THE MODEL\n",
    "\n",
    "\n",
    "\n",
    "device = torch.device('cuda' if torch.cuda.is_available() else 'cpu')\n",
    "model = Net().to(device)\n",
    "data = data.to(device)\n",
    "optimizer = torch.optim.Adam(model.parameters(), lr=0.01, weight_decay=5e-4)\n",
    "\n",
    "\n",
    "\n",
    "optimizer = torch.optim.Adam(model.parameters(), lr=0.01, weight_decay=5e-4)\n",
    "criterion = torch.nn.CrossEntropyLoss()\n",
    "\n",
    "def train():\n",
    "      model.train()\n",
    "      optimizer.zero_grad()  # Clear gradients.\n",
    "      out, adj = model(data.x, get_adjacency(data))  # Perform a single forward pass.\n",
    "      loss = criterion(out[data.train_mask], data.y[data.train_mask])  # Compute the loss solely based on the training nodes.\n",
    "      loss.backward()  # Derive gradients.\n",
    "      optimizer.step()  # Update parameters based on gradients.\n",
    "      return loss\n",
    "\n",
    "def test():\n",
    "      model.eval()\n",
    "      out, adj = model(data.x, get_adjacency(data))\n",
    "      pred = out.argmax(dim=1)  # Use the class with highest probability.\n",
    "      test_correct = pred[data.test_mask] == data.y[data.test_mask]  # Check against ground-truth labels.\n",
    "      test_acc = int(test_correct.sum()) / int(data.test_mask.sum())  # Derive ratio of correct predictions.\n",
    "      torch.save(out, 'cora_chk/prediction_cora')\n",
    "      return test_acc\n",
    "\n",
    "\n",
    "for epoch in tqdm(range(1, 401)):\n",
    "    loss = train()\n",
    "\n",
    "test_acc = test()\n",
    "print(f'Test Accuracy: {test_acc:.4f}') \n",
    "\n",
    "\n",
    "model.eval()\n",
    "torch.save(model, 'cora_chk/model_cora')\n",
    "\n",
    "pred, adj = model(data.x, get_adjacency(data))\n",
    "pred_label = pred.argmax(dim=1)\n",
    "\n",
    "\n",
    "#we will only be interested in the predicted labels for the neighbirhood of the query node\n",
    "print(f'Predicted labels for node index, {node_idx} with hops {n_hops}: \\n ',pred_label[neighbors], \n",
    "      f'\\n Actual labels for node index, {node_idx} with hops {n_hops}: \\n ',data.y[neighbors])\n"
   ]
  },
  {
   "attachments": {},
   "cell_type": "markdown",
   "metadata": {},
   "source": [
    "So now we have the predicted labels for each node stored in pred.\n",
    "4. Call the ExplainModule into an obejct : we will have to dig in the ExplainModule class before going forward with the explanation of the Explainer module"
   ]
  },
  {
   "attachments": {},
   "cell_type": "markdown",
   "metadata": {},
   "source": [
    "# Explain Module\n",
    "inputs: adj, x, model, label \n",
    "\n",
    "1. get mask and mask bias -> construct edge_mask (line 656) - in a similar way the feature masks are initialized\n",
    "\n",
    "->Mask are a torch.nn.parameter.Parameter object randomly initialized with dimension equal to the number of nodes in the neighborhood x number of nodes in the neighborhood (according to different initialization strategies: normal and constant are defined)\n",
    "\n",
    "Feature mask built in a similar way : the size of the nn.Parameter is the size of the last dimension of x (and thus the number of features for the node)\n",
    "Diagonal mask is a  tensor of 1s with 0s on the diagonal \n",
    "\n",
    "2. Forward function ( line 703 )\n",
    "Masked adjacency : (_masked_asdj) is the non linear activated mask (sym_mask: it is symmetric because we add its transpose and then divide by 2) multiplied by the adjacency matrix and the diagonal mask (in this way the diagonal elements are 0s out) -> remember that the adjacency matrix we see here is the one of the neighborhood already so the shapes match \n",
    "??? So the whole idea about masking is that we perturbate the adjacency matrix  - so that the values inside the matrix are not 0s and 1s but can get different values (according to the initialization)\n",
    "Then in the forward:\n",
    "Ypred and adj_att are the model prediction on the node given the masked adjacency matrix (we take the softmax of the node prediction - so the result is a vector of probabilities - and we will be able to inquire how the probability of the correct class change given that we did perturb the graph)"
   ]
  },
  {
   "attachments": {},
   "cell_type": "markdown",
   "metadata": {},
   "source": [
    "## Mask functions\n"
   ]
  },
  {
   "cell_type": "code",
   "execution_count": 14,
   "metadata": {},
   "outputs": [],
   "source": [
    "#Num nodes: is how many nodes in the neighborhood (computed as the sum of 1s over the row of the node of interest - as there is a 1 only if the node is connected to other nodes)\n",
    "\n",
    "num_nodes = len(neighbors)\n",
    "diag_mask = torch.ones(num_nodes, num_nodes) - torch.eye(num_nodes) #create a diag mask of 1 and 0s on the diagonal\n"
   ]
  },
  {
   "attachments": {},
   "cell_type": "markdown",
   "metadata": {},
   "source": [
    "### Construct mask\n",
    "Edge and feature masks: initialization of masks"
   ]
  },
  {
   "cell_type": "code",
   "execution_count": 15,
   "metadata": {},
   "outputs": [],
   "source": [
    "def construct_edge_mask( num_nodes, init_strategy=\"normal\", const_val=1.0):\n",
    "    \"\"\"\n",
    "    Construct edge mask\n",
    "    input;\n",
    "        num_nodes: number of nodes in the neighborhood\n",
    "        init_strategy: initialization strategy for the mask\n",
    "        const_val: constant value for the mask\n",
    "    output:\n",
    "        mask: edge mask    \n",
    "    \"\"\"\n",
    "    mask = nn.Parameter(torch.FloatTensor(num_nodes, num_nodes))  #initialize the mask\n",
    "    if init_strategy == \"normal\":\n",
    "        std = nn.init.calculate_gain(\"relu\") * math.sqrt(\n",
    "            2.0 / (num_nodes + num_nodes)\n",
    "        )\n",
    "        with torch.no_grad():\n",
    "            mask.normal_(1.0, std)\n",
    "    elif init_strategy == \"const\":\n",
    "        nn.init.constant_(mask, const_val)\n",
    "    return mask\n",
    "\n",
    "edge_mask = construct_edge_mask(num_nodes, init_strategy=\"normal\", const_val=1.0)\n",
    "#edge mask is a matrix of size num_nodes x num_nodes initialized with random values from a normal distribution with mean 1 and std calculated using the formula given "
   ]
  },
  {
   "cell_type": "code",
   "execution_count": 16,
   "metadata": {},
   "outputs": [],
   "source": [
    "feat_dim = data.num_features\n",
    "def construct_feat_mask( feat_dim, init_strategy=\"normal\"):\n",
    "    \"\"\"\n",
    "    Construct feature mask\n",
    "    input:\n",
    "        feat_dim: dimension of the feature\n",
    "        init_strategy: initialization strategy\n",
    "    output:\n",
    "        mask: feature mask    \n",
    "    \"\"\"\n",
    "    mask = nn.Parameter(torch.FloatTensor(feat_dim))\n",
    "    if init_strategy == \"normal\":\n",
    "        std = 0.1\n",
    "        with torch.no_grad():\n",
    "            mask.normal_(1.0, std)\n",
    "    elif init_strategy == \"constant\":\n",
    "        with torch.no_grad():\n",
    "            nn.init.constant_(mask, 0.0)\n",
    "            # mask[0] = 2\n",
    "    return mask\n",
    "\n",
    "feat_mask = construct_feat_mask(feat_dim, init_strategy=\"normal\")\n",
    "\n",
    "#feat mask is a vector of size feat_dim initialized with random values from a normal distribution with mean 1 and std 0.1 (if normal strategy is chosen)"
   ]
  },
  {
   "cell_type": "code",
   "execution_count": 17,
   "metadata": {},
   "outputs": [
    {
     "name": "stdout",
     "output_type": "stream",
     "text": [
      "original sub_adj: \n",
      " tensor([[0, 1, 0, 0, 1, 1, 0, 0, 0],\n",
      "        [1, 0, 1, 0, 0, 0, 1, 1, 1],\n",
      "        [0, 1, 0, 0, 0, 0, 0, 0, 0],\n",
      "        [0, 0, 0, 0, 1, 0, 0, 0, 0],\n",
      "        [1, 0, 0, 1, 0, 0, 0, 0, 0],\n",
      "        [1, 0, 0, 0, 0, 0, 0, 0, 0],\n",
      "        [0, 1, 0, 0, 0, 0, 0, 0, 0],\n",
      "        [0, 1, 0, 0, 0, 0, 0, 0, 0],\n",
      "        [0, 1, 0, 0, 0, 0, 0, 0, 0]]) \n",
      " masked_adj: \n",
      " tensor([[0.0000, 0.8011, 0.0000, 0.0000, 0.8071, 0.7909, 0.0000, 0.0000, 0.0000],\n",
      "        [0.8011, 0.0000, 0.8245, 0.0000, 0.0000, 0.0000, 0.7872, 0.6898, 0.7274],\n",
      "        [0.0000, 0.8245, 0.0000, 0.0000, 0.0000, 0.0000, 0.0000, 0.0000, 0.0000],\n",
      "        [0.0000, 0.0000, 0.0000, 0.0000, 0.6749, 0.0000, 0.0000, 0.0000, 0.0000],\n",
      "        [0.8071, 0.0000, 0.0000, 0.6749, 0.0000, 0.0000, 0.0000, 0.0000, 0.0000],\n",
      "        [0.7909, 0.0000, 0.0000, 0.0000, 0.0000, 0.0000, 0.0000, 0.0000, 0.0000],\n",
      "        [0.0000, 0.7872, 0.0000, 0.0000, 0.0000, 0.0000, 0.0000, 0.0000, 0.0000],\n",
      "        [0.0000, 0.6898, 0.0000, 0.0000, 0.0000, 0.0000, 0.0000, 0.0000, 0.0000],\n",
      "        [0.0000, 0.7274, 0.0000, 0.0000, 0.0000, 0.0000, 0.0000, 0.0000, 0.0000]],\n",
      "       grad_fn=<MulBackward0>)\n"
     ]
    }
   ],
   "source": [
    "def _masked_adj(mask,adj, diag_mask):\n",
    "    \"\"\" Masked adjacency matrix \n",
    "    input: edge_mask, sub_adj, diag_mask\n",
    "    output: masked_adj\n",
    "    \"\"\"\n",
    "    sym_mask = mask\n",
    "    sym_mask = torch.sigmoid(mask)\n",
    "    \n",
    "    sym_mask = (sym_mask + sym_mask.t()) / 2\n",
    "    adj = torch.tensor(adj)\n",
    "    masked_adj = adj * sym_mask\n",
    "\n",
    "    return masked_adj * diag_mask\n",
    "\n",
    "masked_adj = _masked_adj(edge_mask,sub_adj, diag_mask)\n",
    "masked_adj\n",
    "print('original sub_adj: \\n', torch.tensor(sub_adj), '\\n masked_adj: \\n', masked_adj)\n"
   ]
  },
  {
   "attachments": {},
   "cell_type": "markdown",
   "metadata": {},
   "source": [
    "The whole idea of masking the adjacency matrix is to add perturbations in the node connections - they are not connected with the same weights anymore."
   ]
  },
  {
   "attachments": {},
   "cell_type": "markdown",
   "metadata": {},
   "source": [
    "### Forward\n",
    "The method takes several arguments, but the most important one is node_idx, which appears to be the index of a node in a graph. The purpose of this method is to generate a prediction for that node, based on its features and the features of its neighbors, in the form of a softmax output.\n",
    "\n",
    "The method first checks whether the adjacency matrix should be constrained (i.e. symmetrical) or unconstrained, and generates a masked adjacency matrix accordingly. If the mask_features flag is set, it also masks the input features. If the marginalize flag is set, it generates a random noise vector and scales it according to the feature mask.\n",
    "\n",
    "The method then passes the masked input features and masked adjacency matrix to a model, which generates a prediction for the target node. If the graph_mode flag is set, it applies a softmax to the entire output, whereas if it is not set, it extracts the prediction for the target node and applies a softmax to that.\n",
    "\n",
    "Finally, the method returns the softmax output and the adjacency matrix attention, which may be used for visualization or analysis purposes."
   ]
  },
  {
   "attachments": {},
   "cell_type": "markdown",
   "metadata": {},
   "source": [
    "Here we are just exploring how the prediction works if we only consider the subadjacency and the subgraph \n"
   ]
  },
  {
   "attachments": {},
   "cell_type": "markdown",
   "metadata": {},
   "source": [
    "Ok so now we have to use the simplified version of this fancy more to make some training ---> then we want to try and explain this trained boy with the GNN Explainer simplified method. \n",
    "\n",
    "\n",
    "Let's see if everything will work out well :)"
   ]
  },
  {
   "attachments": {},
   "cell_type": "markdown",
   "metadata": {},
   "source": [
    "### Forward loop! and how the loss works\n",
    "\n",
    "\n",
    "#### LOSS\n",
    "The loss is - as for any ML task - our objective function that we want to minimize during training.\n",
    "\n",
    "#### many y!!\n",
    "Some notation to understand better what's going on.\n",
    "- y : ground thruth label value\n",
    "- y_hat : prediction of the label value made by the original model (that has access to the full graph)\n",
    "- y_e : prediction of the label value made on the sub_graph - (this gets update according to how the masked adjacency matrix gets updated)\n",
    "\n",
    "\n",
    "#### Losses\n",
    "- PRED LOSS: encourage y_e to be close to y_hat\n",
    "- MASK EDGE SIZE LOSS: encourage the mask to have the least amount of edges\n",
    "- MASK FEATURE SIZE LOSS: // of features\n",
    "- MASK EDGE ENTROPY LOSS: encourage the model to have a balanced level of uncertainty\n",
    "- MASK FEATURE ENTROPY LOSS\n",
    "- LAPLACIAN LOSS: encourage the smoothness of the mask over the graph "
   ]
  },
  {
   "cell_type": "code",
   "execution_count": 18,
   "metadata": {},
   "outputs": [
    {
     "name": "stderr",
     "output_type": "stream",
     "text": [
      "/var/folders/ww/33zq_rh50tx94n81lb4thx0w0000gn/T/ipykernel_62649/540427378.py:43: UserWarning: To copy construct from a tensor, it is recommended to use sourceTensor.clone().detach() or sourceTensor.clone().detach().requires_grad_(True), rather than torch.tensor(sourceTensor).\n",
      "  pred_label_t = torch.tensor(pred_label, dtype=torch.float)\n"
     ]
    },
    {
     "data": {
      "text/plain": [
       "tensor(1.6274, grad_fn=<AddBackward0>)"
      ]
     },
     "execution_count": 18,
     "metadata": {},
     "output_type": "execute_result"
    }
   ],
   "source": [
    "#FUNCTIONS THAT WE USE IN THE EXPLAIN.PY FILE\n",
    "\n",
    "def loss_fc(edge_mask, feat_mask, masked_adj,adj, pred, pred_label,label, node_idx, epoch, print=False):\n",
    "    \"\"\"\n",
    "    Args:\n",
    "        pred: y_e :  prediction made by current model\n",
    "        pred_label: y_hat : the label predicted by the original model.\n",
    "    \"\"\"\n",
    "    #PRED LOSS\n",
    "    pred_label_node = pred_label[node_idx] #pred label is the prediction made by the original model\n",
    "    gt_label_node = label[node_idx]\n",
    "\n",
    "    logit = pred[gt_label_node] #pred is the prediction made by the current model\n",
    "\n",
    "    pred_loss = -torch.log(logit) #this is basically taking the cross entropy loss\n",
    "\n",
    "    # MASK SIZE EDGE LOSS\n",
    "    \n",
    "    mask = edge_mask\n",
    "    mask = torch.sigmoid(mask)\n",
    "\n",
    "    size_loss = 0.005 * torch.sum(mask)\n",
    "\n",
    "    \n",
    "    #MASK SIZE FEATURE LOSS\n",
    "    feat_mask = (torch.sigmoid(feat_mask))\n",
    "    feat_size_loss = 1.0 * torch.mean(feat_mask)\n",
    "\n",
    "    # EDGE MASK ENTROPY LOSS\n",
    "    mask_ent = -mask * torch.log(mask) - (1 - mask) * torch.log(1 - mask)\n",
    "    mask_ent_loss = 1.0 * torch.mean(mask_ent)\n",
    "    \n",
    "    # FEATURE MASK ENTROPY LOSS\n",
    "    feat_mask_ent = - feat_mask * torch.log(feat_mask) - (1 - feat_mask) * torch.log(1 - feat_mask)\n",
    "\n",
    "    feat_mask_ent_loss = 0.1  * torch.mean(feat_mask_ent)\n",
    "\n",
    "    # LAPLACIAN LOSS\n",
    "    D = torch.diag(torch.sum(masked_adj, 0))\n",
    "    m_adj = masked_adj \n",
    "    L = D - m_adj\n",
    "\n",
    "    pred_label_t = torch.tensor(pred_label, dtype=torch.float)\n",
    "\n",
    "\n",
    "    lap_loss = ( 1.0\n",
    "        * (pred_label_t @ L @ pred_label_t)\n",
    "        / torch.Tensor(adj).numel())\n",
    "\n",
    "\n",
    "    loss = pred_loss + size_loss  + mask_ent_loss + feat_size_loss + lap_loss\n",
    "    if print== True:\n",
    "        print(\"optimization/size_loss\", size_loss, epoch)\n",
    "        print(\"optimization/feat_size_loss\", feat_size_loss, epoch)\n",
    "        print(\"optimization/mask_ent_loss\", mask_ent_loss, epoch)\n",
    "        print(\n",
    "            \"optimization/feat_mask_ent_loss\", mask_ent_loss, epoch\n",
    "        )\n",
    "\n",
    "        print(\"optimization/pred_loss\", pred_loss, epoch)\n",
    "        print(\"optimization/lap_loss\", lap_loss, epoch)\n",
    "        print(\"optimization/overall_loss\", loss, epoch)\n",
    "    return loss\n",
    "\n",
    "\n",
    "\n",
    "\n",
    "#SEE how the loss function is used in the explain.py file\n",
    "pred_label = torch.load('cora_chk/prediction_cora') #load prediction of original model\n",
    "pred_label = torch.argmax(pred_label[neighbors], dim=1) #get the prediction of the query node\n",
    "adj = torch.load('cora_chk/adj_cora') #load the adjacency matrix of the original model\n",
    "model = torch.load('cora_chk/model_cora') #load the original model\n",
    "\n",
    "#We are using the original model to get the prediction of the query node\n",
    "pred, adj = model.forward(torch.Tensor(subdata), torch.Tensor(sub_adj))\n",
    "node_pred = pred[node_idx_new, :] #get the prediction of the query node\n",
    "pred = nn.Softmax(dim=0)(node_pred) #apply softmax to it\n",
    "loss_fc( edge_mask, feat_mask, masked_adj,adj, pred, pred_label,data.y, node_idx, 1)"
   ]
  },
  {
   "cell_type": "code",
   "execution_count": 19,
   "metadata": {},
   "outputs": [
    {
     "data": {
      "text/plain": [
       "tensor([[0., 1., 1., 1., 1., 1., 1., 1., 1.],\n",
       "        [1., 0., 1., 1., 1., 1., 1., 1., 1.],\n",
       "        [1., 1., 0., 1., 1., 1., 1., 1., 1.],\n",
       "        [1., 1., 1., 0., 1., 1., 1., 1., 1.],\n",
       "        [1., 1., 1., 1., 0., 1., 1., 1., 1.],\n",
       "        [1., 1., 1., 1., 1., 0., 1., 1., 1.],\n",
       "        [1., 1., 1., 1., 1., 1., 0., 1., 1.],\n",
       "        [1., 1., 1., 1., 1., 1., 1., 0., 1.],\n",
       "        [1., 1., 1., 1., 1., 1., 1., 1., 0.]])"
      ]
     },
     "execution_count": 19,
     "metadata": {},
     "output_type": "execute_result"
    }
   ],
   "source": [
    "def construct_diag_mask(neighbors):\n",
    "    \"\"\"\n",
    "    Args:\n",
    "        adj: adjacency matrix of the graph\n",
    "    \"\"\"\n",
    "    num_nodes = len(neighbors)\n",
    "    diag_mask = torch.ones(num_nodes, num_nodes) - torch.eye(num_nodes) \n",
    "\n",
    "    return diag_mask\n",
    "\n",
    "construct_diag_mask(neighbors)"
   ]
  },
  {
   "cell_type": "code",
   "execution_count": 20,
   "metadata": {},
   "outputs": [
    {
     "data": {
      "text/plain": [
       "tensor(0.7137, grad_fn=<DivBackward0>)"
      ]
     },
     "execution_count": 20,
     "metadata": {},
     "output_type": "execute_result"
    }
   ],
   "source": [
    "def mask_density(edge_mask):\n",
    "    \"\"\"\n",
    "    Args:\n",
    "        mask: edge mask\n",
    "    \"\"\"\n",
    "    mask = torch.sigmoid(edge_mask)\n",
    "    return torch.sum(mask) / torch.Tensor(mask).numel()\n",
    "\n",
    "mask_density(edge_mask)"
   ]
  },
  {
   "cell_type": "code",
   "execution_count": 21,
   "metadata": {},
   "outputs": [],
   "source": [
    "def log_adj_grad(adj, masked_adj, node_idx, pred_label,pred_label_node, x, epoch, label=None):\n",
    "    \"\"\" \n",
    "    Computes the gradient of the adjacency matrix with respect to the loss\n",
    "    \n",
    "    \"\"\"\n",
    "    log_adj = False\n",
    "\n",
    "    predicted_label = pred_label\n",
    "    # adj_grad = torch.abs(self.adj_feat_grad(node_idx, predicted_label)[0])[self.graph_idx]\n",
    "    adj_grad, x_grad = adj_feat_grad(node_idx, pred_label_node, model , adj,x)\n",
    "    print('adj_grad: ', adj_grad)\n",
    "    adj_grad = torch.abs(adj_grad)\n",
    "    x_grad = x_grad[node_idx][:, np.newaxis]\n",
    "        # x_grad = torch.sum(x_grad[self.graph_idx], 0, keepdim=True).t()\n",
    "    adj_grad = (adj_grad + adj_grad.t()) / 2\n",
    "    adj_grad = (adj_grad * adj).squeeze()\n",
    "\n",
    "\n",
    "    masked_adj = masked_adj[0].cpu().detach().numpy()\n",
    "    return masked_adj"
   ]
  },
  {
   "cell_type": "code",
   "execution_count": 22,
   "metadata": {},
   "outputs": [],
   "source": [
    "def adj_feat_grad(node_idx, pred_label_node, model , adj,x, ):\n",
    "    \"\"\"\n",
    "    Compute the gradient of the prediction w.r.t. the adjacency matrix\n",
    "    and the node features.\n",
    "    \"\"\"\n",
    "    model.zero_grad()\n",
    "    adj.requires_grad = True\n",
    "    x.requires_grad = True\n",
    "    print('adj',adj)\n",
    "    if adj.grad is not None:\n",
    "        adj.grad.zero_() # zero out the gradient\n",
    "        x.grad.zero_() # zero out the gradient\n",
    "\n",
    "    x, adj = x, adj\n",
    "    ypred, _ = model(x, adj)\n",
    "\n",
    "    logit = nn.Softmax(dim=0)(ypred[ node_idx, :])\n",
    "    logit = logit[pred_label_node]\n",
    "    loss = -torch.log(logit)\n",
    "    loss.backward()\n",
    "    return adj.grad, x.grad"
   ]
  },
  {
   "cell_type": "code",
   "execution_count": 23,
   "metadata": {},
   "outputs": [
    {
     "name": "stdout",
     "output_type": "stream",
     "text": [
      "adj tensor([[0., 0., 0.,  ..., 0., 0., 0.],\n",
      "        [0., 0., 1.,  ..., 0., 0., 0.],\n",
      "        [0., 1., 0.,  ..., 0., 0., 0.],\n",
      "        ...,\n",
      "        [0., 0., 0.,  ..., 0., 0., 0.],\n",
      "        [0., 0., 0.,  ..., 0., 0., 1.],\n",
      "        [0., 0., 0.,  ..., 0., 1., 0.]], requires_grad=True)\n"
     ]
    },
    {
     "data": {
      "text/plain": [
       "(None,\n",
       " tensor([[0.0000e+00, 0.0000e+00, 0.0000e+00,  ..., 0.0000e+00, 0.0000e+00,\n",
       "          0.0000e+00],\n",
       "         [6.5486e-04, 2.6171e-03, 1.5889e-02,  ..., 8.0785e-03, 2.8308e-03,\n",
       "          5.5990e-03],\n",
       "         [1.3034e-04, 3.9236e-05, 4.1168e-03,  ..., 1.8827e-03, 5.9122e-05,\n",
       "          1.2444e-03],\n",
       "         ...,\n",
       "         [0.0000e+00, 0.0000e+00, 0.0000e+00,  ..., 0.0000e+00, 0.0000e+00,\n",
       "          0.0000e+00],\n",
       "         [0.0000e+00, 0.0000e+00, 0.0000e+00,  ..., 0.0000e+00, 0.0000e+00,\n",
       "          0.0000e+00],\n",
       "         [0.0000e+00, 0.0000e+00, 0.0000e+00,  ..., 0.0000e+00, 0.0000e+00,\n",
       "          0.0000e+00]]))"
      ]
     },
     "execution_count": 23,
     "metadata": {},
     "output_type": "execute_result"
    }
   ],
   "source": [
    "pred_label = torch.load('cora_chk/prediction_cora')\n",
    "pred_label = torch.argmax(pred_label[neighbors], dim=1)\n",
    "\n",
    "pred_label_node = pred_label[node_idx]\n",
    "adj = torch.load('cora_chk/adj_cora')\n",
    "x = data.x\n",
    "adj_feat_grad(node_idx, pred_label_node, model , adj,x, )\n",
    "#log_adj_grad(adj, masked_adj, node_idx, pred_label,pred_label_node, x, 1, label=None)"
   ]
  },
  {
   "attachments": {},
   "cell_type": "markdown",
   "metadata": {},
   "source": [
    "#### Explain\n",
    "In order to make our life easier for what concerns training we wrap up all the functions that we defined so far in a class - Explain.\n",
    "\n",
    "In addition to the existing funtion we define a forward, that basically just perform a forward using the already trained model using the data of the neighborhood of interest only (namely subdata and a sub-adjacency matrix - in the paper those are called as G_c and A_c)\n",
    "\n",
    "The goal that we want to achieve with training via backpropagation on the predefined loss is to find G_s and A_s (as referenced in the paper) such that we can maximize the MUTUAL information.\n",
    "\n",
    "--> Explanation for prediction yˆ is thus a subgraph GS that minimizes uncertainty of Φ when the GNN computation is limited to GS. \n",
    "\n",
    "We also define \n",
    "\n"
   ]
  },
  {
   "cell_type": "code",
   "execution_count": 37,
   "metadata": {},
   "outputs": [],
   "source": [
    "class Explain(nn.Module):\n",
    "    def __init__(self, model, data, node_idx, n_hops):\n",
    "        super(Explain, self).__init__()\n",
    "        #Those are the parameters of the original data and model\n",
    "        self.model = model\n",
    "        self.data = data\n",
    "        self.node_idx = node_idx\n",
    "        self.n_hops = n_hops\n",
    "        self.adj = get_adjacency(data)\n",
    "        self.label = torch.Tensor(data.y)\n",
    "        self.feat = torch.Tensor(data.x)\n",
    "        self.feat_dim = data.num_features\n",
    "        self.epoch = 1\n",
    "        self.x = data.x\n",
    "\n",
    "        self.pred_label = torch.load('cora_chk/prediction_cora')\n",
    "\n",
    "        self.node_idx_new, self.sub_adj, self.sub_feat, self.sub_label, self.neighbors = extract_neighborhood(self.node_idx, self.adj, self.feat, self.label, self.n_hops)\n",
    "        self.num_nodes = len(self.neighbors)\n",
    "        self.diag_mask = construct_diag_mask(self.neighbors)\n",
    "        self.subdata = torch.Tensor(data.subgraph(torch.tensor(self.neighbors)).x)\n",
    "        self.edge_mask = construct_edge_mask(self.num_nodes)\n",
    "        self.feat_mask = construct_feat_mask(self.feat_dim, init_strategy=\"normal\")\n",
    "\n",
    "\n",
    "\n",
    "    \n",
    "    def _masked_adj(self):\n",
    "        \"\"\" Masked adjacency matrix \n",
    "        input: edge_mask, sub_adj, diag_mask\n",
    "        output: masked_adj\n",
    "        \"\"\"\n",
    "        sym_mask = self.edge_mask\n",
    "        sym_mask = torch.sigmoid(sym_mask)\n",
    "        \n",
    "        sym_mask = (sym_mask + sym_mask.t()) / 2\n",
    "        adj = torch.tensor(self.sub_adj)\n",
    "        masked_adj = adj * sym_mask\n",
    "\n",
    "        return masked_adj * self.diag_mask\n",
    "    \n",
    "        \n",
    "        \n",
    "    def forward(self):\n",
    "        \"\"\"\n",
    "        Returns:\n",
    "            ypred: prediction of the query node made by the current model (on the subgraph)\n",
    "\n",
    "        \"\"\"\n",
    "\n",
    "        self.masked_adj = self._masked_adj()\n",
    "        feat_mask = (torch.sigmoid(self.feat_mask))\n",
    "        x = self.sub_feat * feat_mask\n",
    "        #ypred, adj_att = model(self.subdata, masked_adj)\n",
    "        ypred, adj_att = self.model(x, self.masked_adj)\n",
    "        node_pred = ypred[self.node_idx_new, :]\n",
    "        res = nn.Softmax(dim=0)(node_pred)\n",
    "        return res, adj_att, self.sub_adj\n",
    "    \n",
    "    def criterion(self, epoch):\n",
    "        \"\"\"\n",
    "        Computes the loss of the current model\n",
    "        \"\"\"\n",
    "        #prediction of explanation model\n",
    "        pred, adj_e, sub_adj = self.forward()\n",
    "\n",
    "        #prediction of original model\n",
    "        pred_label = torch.argmax(self.pred_label[self.neighbors], dim=1)\n",
    "\n",
    "\n",
    "        loss_val = loss_fc(self.edge_mask, self.feat_mask, self.masked_adj,self.adj, pred, pred_label, self.label,self.node_idx, self.epoch)\n",
    "\n",
    "        return loss_val \n",
    "    \n",
    "    def mask_density(self):\n",
    "        \"\"\"\n",
    "        Computes the density of the edge mask\n",
    "        \"\"\"\n",
    "        mask_sum = torch.sum(self.masked_adj)\n",
    "        adj_sum = torch.sum(self.adj)\n",
    "        return mask_sum / adj_sum\n",
    "    \n",
    "    def return_stuff(self):\n",
    "        pred_label = torch.argmax(self.pred_label[self.neighbors], dim=1)\n",
    "        return pred_label[self.node_idx], self.label[self.node_idx], self.neighbors, self.sub_label, self.sub_feat, self.n_hops\n",
    "    \n",
    "    def log_adj_grad(self, node_idx, pred_label, epoch, label=None):\n",
    "        \"\"\" \n",
    "        Computes the gradient of the adjacency matrix with respect to the loss\n",
    "        \n",
    "        \"\"\"\n",
    "        log_adj = False\n",
    "\n",
    "        predicted_label = pred_label\n",
    "        # adj_grad = torch.abs(self.adj_feat_grad(node_idx, predicted_label)[0])[self.graph_idx]\n",
    "        adj_grad, x_grad = self.adj_feat_grad(node_idx, predicted_label)\n",
    "        adj_grad = torch.abs(adj_grad)\n",
    "        x_grad = x_grad[node_idx][:, np.newaxis]\n",
    "            # x_grad = torch.sum(x_grad[self.graph_idx], 0, keepdim=True).t()\n",
    "        adj_grad = (adj_grad + adj_grad.t()) / 2\n",
    "        adj_grad = (adj_grad * self.adj).squeeze()\n",
    "\n",
    "\n",
    "        masked_adj = self.masked_adj[0].cpu().detach().numpy()\n",
    "\n",
    "\n",
    "    \n",
    "\n",
    "        adj_grad = adj_grad.detach().numpy()\n",
    "\n",
    "    def adj_feat_grad(self, node_idx, pred_label_node):\n",
    "        \"\"\"\n",
    "        Compute the gradient of the prediction w.r.t. the adjacency matrix\n",
    "        and the node features.\n",
    "        \"\"\"\n",
    "        self.model.zero_grad()\n",
    "        self.adj.requires_grad = True\n",
    "        self.x.requires_grad = True\n",
    "        if self.adj.grad is not None:\n",
    "            print('self.adj.grad', self.adj.grad)\n",
    "            self.adj.grad.zero_() # zero out the gradient\n",
    "            self.x.grad.zero_() # zero out the gradient\n",
    "\n",
    "        else:\n",
    "            x, adj = self.x, self.adj\n",
    "        ypred, _ = self.model(x, adj)\n",
    "\n",
    "\n",
    "        logit = nn.Softmax(dim=0)(ypred[ node_idx, :])\n",
    "        logit = logit[pred_label_node]\n",
    "        loss = -torch.log(logit)\n",
    "        loss.backward()\n",
    "        print('adj grad', self.adj.grad)\n",
    "        print('x grad',self.x.grad)\n",
    "        return self.adj, self.x.grad    \n",
    "    \n"
   ]
  },
  {
   "attachments": {},
   "cell_type": "markdown",
   "metadata": {},
   "source": [
    "### Create the explain object\n",
    "Here we create the explain object and we specify the node to explain and how big we consider its neighborhood to be "
   ]
  },
  {
   "cell_type": "code",
   "execution_count": 38,
   "metadata": {},
   "outputs": [
    {
     "name": "stderr",
     "output_type": "stream",
     "text": [
      "/var/folders/ww/33zq_rh50tx94n81lb4thx0w0000gn/T/ipykernel_62649/2699400499.py:5: UserWarning: To copy construct from a tensor, it is recommended to use sourceTensor.clone().detach() or sourceTensor.clone().detach().requires_grad_(True), rather than torch.tensor(sourceTensor).\n",
      "  adj = torch.tensor(adj, dtype=torch.float)\n"
     ]
    }
   ],
   "source": [
    "explainer = Explain(model = torch.load('cora_chk/model_cora'), data = data, node_idx = 1, n_hops=2)\n",
    "optimizer = torch.optim.Adam(explainer.parameters(), lr=0.01)"
   ]
  },
  {
   "attachments": {},
   "cell_type": "markdown",
   "metadata": {},
   "source": [
    "### TRAINING LOOP\n",
    "Here we perform the training loop:\n",
    "- zero out explainer and optimizer\n",
    "- forward on subgraph model\n",
    "- loss and backprop\n",
    "- optimizer step"
   ]
  },
  {
   "cell_type": "code",
   "execution_count": 39,
   "metadata": {},
   "outputs": [
    {
     "name": "stderr",
     "output_type": "stream",
     "text": [
      "/var/folders/ww/33zq_rh50tx94n81lb4thx0w0000gn/T/ipykernel_62649/4238674292.py:37: UserWarning: To copy construct from a tensor, it is recommended to use sourceTensor.clone().detach() or sourceTensor.clone().detach().requires_grad_(True), rather than torch.tensor(sourceTensor).\n",
      "  adj = torch.tensor(self.sub_adj)\n",
      "/var/folders/ww/33zq_rh50tx94n81lb4thx0w0000gn/T/ipykernel_62649/540427378.py:43: UserWarning: To copy construct from a tensor, it is recommended to use sourceTensor.clone().detach() or sourceTensor.clone().detach().requires_grad_(True), rather than torch.tensor(sourceTensor).\n",
      "  pred_label_t = torch.tensor(pred_label, dtype=torch.float)\n"
     ]
    },
    {
     "name": "stdout",
     "output_type": "stream",
     "text": [
      "adj grad None\n",
      "x grad tensor([[-0.0815, -0.0608, -0.3976,  ...,  0.3934,  0.2145,  0.4018],\n",
      "        [-0.0183,  0.1375,  0.1536,  ...,  0.3772, -0.0154,  0.3664],\n",
      "        [-0.0254, -0.0964, -0.0573,  ...,  0.5059, -0.1463,  0.4155],\n",
      "        ...,\n",
      "        [ 0.0000,  0.0000,  0.0000,  ...,  0.0000,  0.0000,  0.0000],\n",
      "        [ 0.0000,  0.0000,  0.0000,  ...,  0.0000,  0.0000,  0.0000],\n",
      "        [ 0.0000,  0.0000,  0.0000,  ...,  0.0000,  0.0000,  0.0000]])\n",
      "epoch:  0 ; loss:  2.010895252227783 ; mask density:  0.0011231444077566266 ; pred:  tensor([0.0074, 0.1278, 0.0302, 0.0462, 0.7710, 0.0027, 0.0145],\n",
      "       grad_fn=<SoftmaxBackward0>) ; labels equal:  tensor(True)\n",
      "epoch:  10 ; loss:  1.5621739625930786 ; mask density:  0.0011508442694321275 ; pred:  tensor([7.6690e-04, 1.2165e-04, 1.1232e-04, 5.5666e-05, 9.9861e-01, 3.1857e-04,\n",
      "        1.2654e-05], grad_fn=<SoftmaxBackward0>) ; labels equal:  tensor(True)\n",
      "epoch:  20 ; loss:  1.5281158685684204 ; mask density:  0.0011778837069869041 ; pred:  tensor([5.2694e-05, 2.8911e-05, 1.7958e-06, 3.6659e-05, 9.9983e-01, 3.0562e-05,\n",
      "        2.1644e-05], grad_fn=<SoftmaxBackward0>) ; labels equal:  tensor(True)\n",
      "adj grad None\n",
      "x grad tensor([[-0.0931, -0.0243, -0.4887,  ...,  0.5276,  0.1671,  0.5286],\n",
      "        [-0.0338,  0.2135,  0.2042,  ...,  0.5199, -0.1295,  0.4999],\n",
      "        [-0.0355, -0.1167, -0.0308,  ...,  0.5523, -0.1862,  0.4429],\n",
      "        ...,\n",
      "        [ 0.0000,  0.0000,  0.0000,  ...,  0.0000,  0.0000,  0.0000],\n",
      "        [ 0.0000,  0.0000,  0.0000,  ...,  0.0000,  0.0000,  0.0000],\n",
      "        [ 0.0000,  0.0000,  0.0000,  ...,  0.0000,  0.0000,  0.0000]])\n",
      "epoch:  30 ; loss:  1.4930816888809204 ; mask density:  0.001204362022690475 ; pred:  tensor([3.8867e-06, 4.3587e-06, 5.0940e-06, 9.6767e-07, 9.9997e-01, 7.7335e-06,\n",
      "        4.9967e-06], grad_fn=<SoftmaxBackward0>) ; labels equal:  tensor(True)\n",
      "epoch:  40 ; loss:  1.4538582563400269 ; mask density:  0.0012300850357860327 ; pred:  tensor([8.3711e-05, 1.2935e-07, 1.9298e-07, 3.8101e-07, 9.9991e-01, 9.3946e-06,\n",
      "        1.0191e-06], grad_fn=<SoftmaxBackward0>) ; labels equal:  tensor(True)\n",
      "adj grad None\n",
      "x grad tensor([[-0.0958, -0.0233, -0.4997,  ...,  0.5900,  0.1605,  0.5821],\n",
      "        [-0.0382,  0.2083,  0.2191,  ...,  0.5233, -0.1442,  0.4958],\n",
      "        [-0.0369, -0.1180, -0.0289,  ...,  0.5542, -0.1897,  0.4426],\n",
      "        ...,\n",
      "        [ 0.0000,  0.0000,  0.0000,  ...,  0.0000,  0.0000,  0.0000],\n",
      "        [ 0.0000,  0.0000,  0.0000,  ...,  0.0000,  0.0000,  0.0000],\n",
      "        [ 0.0000,  0.0000,  0.0000,  ...,  0.0000,  0.0000,  0.0000]])\n",
      "epoch:  50 ; loss:  1.4227992296218872 ; mask density:  0.0012547540245577693 ; pred:  tensor([1.2433e-05, 1.1104e-05, 4.2599e-06, 1.0009e-05, 9.9996e-01, 1.3110e-06,\n",
      "        8.5685e-07], grad_fn=<SoftmaxBackward0>) ; labels equal:  tensor(True)\n",
      "epoch:  60 ; loss:  1.3728429079055786 ; mask density:  0.0012780803954228759 ; pred:  tensor([2.8249e-04, 3.6284e-04, 2.0356e-03, 9.4928e-05, 9.9703e-01, 1.1869e-04,\n",
      "        8.0261e-05], grad_fn=<SoftmaxBackward0>) ; labels equal:  tensor(True)\n",
      "epoch:  70 ; loss:  1.3914366960525513 ; mask density:  0.001299844472669065 ; pred:  tensor([7.3859e-05, 3.4147e-06, 8.0708e-06, 5.5174e-06, 9.9990e-01, 5.8063e-06,\n",
      "        2.3160e-06], grad_fn=<SoftmaxBackward0>) ; labels equal:  tensor(True)\n",
      "adj grad None\n",
      "x grad tensor([[-0.1093,  0.0679, -0.6049,  ...,  0.7131,  0.1798,  0.7075],\n",
      "        [-0.0438,  0.2210,  0.2266,  ...,  0.5358, -0.1597,  0.4957],\n",
      "        [-0.0381, -0.1179, -0.0254,  ...,  0.5602, -0.1950,  0.4463],\n",
      "        ...,\n",
      "        [ 0.0000,  0.0000,  0.0000,  ...,  0.0000,  0.0000,  0.0000],\n",
      "        [ 0.0000,  0.0000,  0.0000,  ...,  0.0000,  0.0000,  0.0000],\n",
      "        [ 0.0000,  0.0000,  0.0000,  ...,  0.0000,  0.0000,  0.0000]])\n",
      "epoch:  80 ; loss:  1.283866047859192 ; mask density:  0.001319912844337523 ; pred:  tensor([5.9669e-05, 6.3759e-06, 1.4941e-07, 7.1056e-05, 9.9986e-01, 1.6092e-06,\n",
      "        1.3540e-07], grad_fn=<SoftmaxBackward0>) ; labels equal:  tensor(True)\n",
      "epoch:  90 ; loss:  1.239080548286438 ; mask density:  0.0013382366159930825 ; pred:  tensor([6.7018e-05, 3.0929e-04, 1.2868e-04, 6.6973e-04, 9.9879e-01, 3.2298e-05,\n",
      "        2.7961e-06], grad_fn=<SoftmaxBackward0>) ; labels equal:  tensor(True)\n"
     ]
    },
    {
     "data": {
      "text/plain": [
       "tensor([[0.0000, 0.7158, 0.0000, 0.0000, 0.7072, 0.7076, 0.0000, 0.0000, 0.0000],\n",
       "        [0.7158, 0.0000, 0.7097, 0.0000, 0.0000, 0.0000, 0.7079, 0.7163, 0.7072],\n",
       "        [0.0000, 0.7097, 0.0000, 0.0000, 0.0000, 0.0000, 0.0000, 0.0000, 0.0000],\n",
       "        [0.0000, 0.0000, 0.0000, 0.0000, 0.7040, 0.0000, 0.0000, 0.0000, 0.0000],\n",
       "        [0.7072, 0.0000, 0.0000, 0.7040, 0.0000, 0.0000, 0.0000, 0.0000, 0.0000],\n",
       "        [0.7076, 0.0000, 0.0000, 0.0000, 0.0000, 0.0000, 0.0000, 0.0000, 0.0000],\n",
       "        [0.0000, 0.7079, 0.0000, 0.0000, 0.0000, 0.0000, 0.0000, 0.0000, 0.0000],\n",
       "        [0.0000, 0.7163, 0.0000, 0.0000, 0.0000, 0.0000, 0.0000, 0.0000, 0.0000],\n",
       "        [0.0000, 0.7072, 0.0000, 0.0000, 0.0000, 0.0000, 0.0000, 0.0000, 0.0000]],\n",
       "       grad_fn=<MulBackward0>)"
      ]
     },
     "execution_count": 39,
     "metadata": {},
     "output_type": "execute_result"
    }
   ],
   "source": [
    "explainer.train()\n",
    "for epoch in range(100):\n",
    "    explainer.zero_grad()\n",
    "    optimizer.zero_grad()\n",
    "    ypred, adj_atts, sub_adj = explainer.forward()\n",
    "    loss = explainer.criterion(epoch)\n",
    "    pred_label, original_label, neighbors, sub_label, sub_feat, num_hops = explainer.return_stuff()\n",
    "    \n",
    "\n",
    "\n",
    "\n",
    "    loss.backward(retain_graph=True)\n",
    "    optimizer.step()\n",
    "    mask_density = explainer.mask_density()\n",
    "    single_subgraph_label = sub_label.squeeze()\n",
    "    if epoch % 25 == 0:\n",
    "    # #     explainer.log_mask(epoch)\n",
    "    # #     explainer.log_masked_adj(\n",
    "    # #         node_idx_new, epoch, label=single_subgraph_label\n",
    "    # #     )\n",
    "\n",
    "\n",
    "        explainer.log_adj_grad(\n",
    "            node_idx_new, pred_label, epoch, label=single_subgraph_label)\n",
    "\n",
    "\n",
    "\n",
    "    if epoch % 10 == 0:\n",
    "\n",
    "        print(\n",
    "        \"epoch: \",\n",
    "        epoch,\n",
    "        \"; loss: \",\n",
    "        loss.item(),\n",
    "        \"; mask density: \",\n",
    "        mask_density.item(),\n",
    "        \"; pred: \",\n",
    "        ypred,\n",
    "        \"; labels equal: \",\n",
    "        torch.argmax(ypred) == original_label== pred_label,\n",
    "\n",
    "    )\n",
    "\n",
    "\n",
    "adj_atts = torch.sigmoid(adj_atts).squeeze()\n",
    "masked_adj = adj_atts * sub_adj.squeeze()\n",
    "masked_adj"
   ]
  },
  {
   "cell_type": "code",
   "execution_count": 29,
   "metadata": {},
   "outputs": [],
   "source": [
    "# pred, adj = model.forward(torch.Tensor(subdata), torch.Tensor(masked_adj))\n",
    "# node_pred = pred[node_idx_new, :]\n",
    "# res = nn.Softmax(dim=0)(node_pred)\n",
    "# res"
   ]
  },
  {
   "attachments": {},
   "cell_type": "markdown",
   "metadata": {},
   "source": [
    "### VISUALIZATION \n",
    "We visualize the output according to how strong the model has imputed the connections between the nodes of the neighborhood to be for the sake of prediction of the node of interest"
   ]
  },
  {
   "cell_type": "code",
   "execution_count": 40,
   "metadata": {},
   "outputs": [
    {
     "name": "stdout",
     "output_type": "stream",
     "text": [
      "[0.71581775, 0.70721656, 0.7075826, 0.7097097, 0.70785505, 0.71625644, 0.70719665, 0.7039822]\n"
     ]
    },
    {
     "name": "stderr",
     "output_type": "stream",
     "text": [
      "/var/folders/ww/33zq_rh50tx94n81lb4thx0w0000gn/T/ipykernel_62649/2378129677.py:24: MatplotlibDeprecationWarning: Unable to determine Axes to steal space for Colorbar. Using gca(), but will raise in the future. Either provide the *cax* argument to use as the Axes for the Colorbar, provide the *ax* argument to steal space from it, or add *mappable* to an Axes.\n",
      "  cbar = plt.colorbar(sm)\n"
     ]
    },
    {
     "data": {
      "image/png": "[encoded data removed]",
      "text/plain": [
       "<Figure size 640x480 with 2 Axes>"
      ]
     },
     "metadata": {},
     "output_type": "display_data"
    }
   ],
   "source": [
    "def visualize_result(node_idx, masked_adj, neighbors, data, num_hops):\n",
    "    \"\"\"Visualizes the n-hop neighborhood of a given node.\"\"\"\n",
    "    G = nx.from_pandas_adjacency(pd.DataFrame(masked_adj.detach().numpy()))\n",
    "\n",
    "    labeldict = {}\n",
    "    for i,j in zip(range(len(neighbors)),neighbors):\n",
    "        labeldict[i] = j\n",
    "    #print(labeldict)    \n",
    "    a = nx.get_edge_attributes(G,'weight')\n",
    "    weights = {key : round(a[key], 3) for key in a}\n",
    "\n",
    "    edge_colors = [masked_adj.detach().numpy()[u][v] for u, v in G.edges()]\n",
    "    print(edge_colors)\n",
    "    # draw graph with edge colors\n",
    "    plt.figure()  \n",
    "    plt.title(\"Node {}'s {}-hop neighborhood important nodes\".format(node_idx, num_hops))\n",
    "    pos = nx.circular_layout(G)\n",
    "    nx.draw(G, pos=pos, with_labels=True, edge_color=edge_colors, edge_cmap=plt.cm.Reds,labels = labeldict, node_color = data.y[neighbors], cmap=\"Set2\" )\n",
    "    nx.draw_networkx_edge_labels( G, pos,edge_labels=weights,font_size=8,font_color='red')\n",
    "\n",
    "    # add colorbar legend\n",
    "    sm = plt.cm.ScalarMappable(cmap=plt.cm.Reds, norm=plt.Normalize(vmin=0, vmax=1))\n",
    "    sm.set_array(edge_colors)\n",
    "    cbar = plt.colorbar(sm)\n",
    "    cbar.ax.set_title('Weight')\n",
    "\n",
    "    plt.show()  \n",
    "\n",
    "visualize_result(1, masked_adj, neighbors,data,num_hops)    "
   ]
  },
  {
   "cell_type": "code",
   "execution_count": 35,
   "metadata": {},
   "outputs": [],
   "source": [
    "def denoise_graph(adj, node_idx, feat=None, label=None, threshold=None, threshold_num=None, max_component=True):\n",
    "    \"\"\"Cleaning a graph by thresholding its node values.\n",
    "\n",
    "    Args:\n",
    "        - adj               :  Adjacency matrix.\n",
    "        - node_idx          :  Index of node to highlight (TODO ?)\n",
    "        - feat              :  An array of node features.\n",
    "        - label             :  A list of node labels.\n",
    "        - threshold         :  The weight threshold.\n",
    "        - theshold_num      :  The maximum number of nodes to threshold.\n",
    "        - max_component     :  TODO\n",
    "    \"\"\"\n",
    "    num_nodes = adj.shape[-1]\n",
    "    G = nx.Graph()\n",
    "    G.add_nodes_from(range(num_nodes))\n",
    "    G.nodes[node_idx][\"self\"] = 1\n",
    "    if feat is not None:\n",
    "        for node in G.nodes():\n",
    "            G.nodes[node][\"feat\"] = feat[node]\n",
    "    if label is not None:\n",
    "        for node in G.nodes():\n",
    "            G.nodes[node][\"label\"] = label[node]\n",
    "\n",
    "    if threshold_num is not None:\n",
    "        # this is for symmetric graphs: edges are repeated twice in adj\n",
    "        adj_threshold_num = threshold_num * 2\n",
    "        #adj += np.random.rand(adj.shape[0], adj.shape[1]) * 1e-4\n",
    "        neigh_size = len(adj[adj > 0])\n",
    "        threshold_num = min(neigh_size, adj_threshold_num)\n",
    "        threshold = np.sort(adj[adj > 0])[-threshold_num]\n",
    "\n",
    "    if threshold is not None:\n",
    "        weighted_edge_list = [\n",
    "            (i, j, adj[i, j])\n",
    "            for i in range(num_nodes)\n",
    "            for j in range(num_nodes)\n",
    "            if adj[i, j] >= threshold\n",
    "        ]\n",
    "    else:\n",
    "        weighted_edge_list = [\n",
    "            (i, j, adj[i, j])\n",
    "            for i in range(num_nodes)\n",
    "            for j in range(num_nodes)\n",
    "            if adj[i, j] > 1e-6\n",
    "        ]\n",
    "    G.add_weighted_edges_from(weighted_edge_list)\n",
    "    if max_component:\n",
    "        largest_cc = max(nx.connected_components(G), key=len)\n",
    "        G = G.subgraph(largest_cc).copy()\n",
    "    else:\n",
    "        # remove zero degree nodes\n",
    "        G.remove_nodes_from(list(nx.isolates(G)))\n",
    "    return G"
   ]
  }
 ],
 "metadata": {
  "kernelspec": {
   "display_name": "base",
   "language": "python",
   "name": "python3"
  },
  "language_info": {
   "codemirror_mode": {
    "name": "ipython",
    "version": 3
   },
   "file_extension": ".py",
   "mimetype": "text/x-python",
   "name": "python",
   "nbconvert_exporter": "python",
   "pygments_lexer": "ipython3",
   "version": "3.9.12"
  },
  "orig_nbformat": 4
 },
 "nbformat": 4,
 "nbformat_minor": 2
}
