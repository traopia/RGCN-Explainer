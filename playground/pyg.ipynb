{
 "cells": [
  {
   "cell_type": "code",
   "execution_count": 1,
   "metadata": {},
   "outputs": [],
   "source": [
    "\n",
    "%matplotlib inline\n",
    "\n",
    "from torch_geometric.data import Data, DataLoader\n",
    "from torch_geometric.datasets import TUDataset, Planetoid\n",
    "from torch_geometric.nn import GCNConv, Set2Set, GNNExplainer\n",
    "import torch_geometric.transforms as T\n",
    "import torch\n",
    "import torch.nn.functional as F\n",
    "import torch.nn as nn\n",
    "import os\n",
    "from tqdm import tqdm, trange\n",
    "\n",
    "from torch_geometric.datasets import Planetoid\n",
    "from torch_geometric.transforms import NormalizeFeatures\n",
    "\n",
    "import matplotlib.pyplot as plt"
   ]
  },
  {
   "cell_type": "code",
   "execution_count": null,
   "metadata": {},
   "outputs": [],
   "source": [
    "# #Load the dataset\n",
    "# dataset = 'cora'\n",
    "# path = os.path.join(os.getcwd(), 'data', 'Planetoid')\n",
    "# train_dataset = Planetoid(path, dataset, transform=T.NormalizeFeatures())\n",
    "\n",
    "# # Since the dataset is comprised of a single huge graph, we extract that graph by indexing 0.\n",
    "# data = train_dataset[0]\n",
    "\n",
    "# # Since there is only 1 graph, the train/test split is done by masking regions of the graph. We split the last 500+500 nodes as val and test, and use the rest as the training data.\n",
    "# data.train_mask = torch.zeros(data.num_nodes, dtype=torch.bool)\n",
    "# data.train_mask[:data.num_nodes - 1000] = 1\n",
    "# data.val_mask = None\n",
    "# data.test_mask = torch.zeros(data.num_nodes, dtype=torch.bool)\n",
    "# data.test_mask[data.num_nodes - 500:] = 1"
   ]
  },
  {
   "cell_type": "code",
   "execution_count": 2,
   "metadata": {},
   "outputs": [
    {
     "name": "stderr",
     "output_type": "stream",
     "text": [
      "Downloading https://github.com/kimiyoung/planetoid/raw/master/data/ind.cora.x\n",
      "Downloading https://github.com/kimiyoung/planetoid/raw/master/data/ind.cora.tx\n",
      "Downloading https://github.com/kimiyoung/planetoid/raw/master/data/ind.cora.allx\n",
      "Downloading https://github.com/kimiyoung/planetoid/raw/master/data/ind.cora.y\n",
      "Downloading https://github.com/kimiyoung/planetoid/raw/master/data/ind.cora.ty\n",
      "Downloading https://github.com/kimiyoung/planetoid/raw/master/data/ind.cora.ally\n",
      "Downloading https://github.com/kimiyoung/planetoid/raw/master/data/ind.cora.graph\n",
      "Downloading https://github.com/kimiyoung/planetoid/raw/master/data/ind.cora.test.index\n"
     ]
    },
    {
     "name": "stdout",
     "output_type": "stream",
     "text": [
      "Number of graphs: 1\n",
      "Number of features: 1433\n",
      "Number of classes: 7\n",
      "dataset under study\n",
      "Number of nodes: 2708\n",
      "Number of edges: 10556\n"
     ]
    },
    {
     "name": "stderr",
     "output_type": "stream",
     "text": [
      "Processing...\n",
      "Done!\n"
     ]
    }
   ],
   "source": [
    "dataset = Planetoid(root='data/Planetoid', name='Cora', transform=NormalizeFeatures())\n",
    "print(f'Number of graphs: {len(dataset)}')\n",
    "print(f'Number of features: {dataset.num_features}')\n",
    "print(f'Number of classes: {dataset.num_classes}')\n",
    "data = dataset[0]\n",
    "print('dataset under study')\n",
    "print(f'Number of nodes: {data.num_nodes}')\n",
    "print(f'Number of edges: {data.num_edges}')\n"
   ]
  },
  {
   "cell_type": "code",
   "execution_count": 25,
   "metadata": {},
   "outputs": [],
   "source": [
    "# import kgbench as kg\n",
    "# data = kg.load('aifb', torch=True) \n",
    "# print(f'Number of entities: {data.num_entities}') #data.i2e\n",
    "# print(f'Number of classes: {data.num_classes}')\n",
    "# print(f'Types of relations: {data.num_relations}') #data.i2r\n",
    "\n",
    "\n",
    "from torch_geometric.datasets import Entities\n",
    "from torch_geometric.nn import FastRGCNConv, RGCNConv\n",
    "from torch_geometric.utils import k_hop_subgraph\n",
    "\n",
    "path = '/Users/macoftraopia/Documents/GitHub/RGCN-Explainer/../data/Entities' #osp.join(osp.dirname(osp.realpath(__file__)), '..', 'data', 'Entities')\n",
    "dataset = Entities(path, 'AIFB')\n",
    "data = dataset[0]\n",
    "\n",
    "# BGS and AM graphs are too big to process them in a full-batch fashion.\n",
    "# Since our model does only make use of a rather small receptive field, we\n",
    "# filter the graph to only contain the nodes that are at most 2-hop neighbors\n",
    "# away from any training/test node.\n",
    "node_idx = torch.cat([data.train_idx, data.test_idx], dim=0)\n",
    "node_idx, edge_index, mapping, edge_mask = k_hop_subgraph(\n",
    "    node_idx, 2, data.edge_index, relabel_nodes=True)\n",
    "\n",
    "data.num_nodes = node_idx.size(0)\n",
    "data.edge_index = edge_index\n",
    "data.edge_type = data.edge_type[edge_mask]\n",
    "data.train_idx = mapping[:data.train_idx.size(0)]\n",
    "data.test_idx = mapping[data.train_idx.size(0):]\n",
    "\n",
    "\n",
    "data.train_mask = [True if i in data.train_idx else False for i in range(data.num_nodes)]\n",
    "data.test_mask = [True if i in data.test_idx else False for i in range(data.num_nodes)]\n",
    "data.train_mask\n",
    "data.x = torch.zeros(data.num_nodes, 3)"
   ]
  },
  {
   "cell_type": "code",
   "execution_count": null,
   "metadata": {},
   "outputs": [],
   "source": [
    "# class Net(torch.nn.Module):\n",
    "#     def __init__(self, num_features, dim=16, num_classes=1):\n",
    "#         super(Net, self).__init__()\n",
    "#         self.conv1 = GCNConv(num_features, dim)\n",
    "#         self.conv2 = GCNConv(dim, num_classes)\n",
    "\n",
    "#     def forward(self, x, edge_index, data=None):\n",
    "#         x = F.relu(self.conv1(x, edge_index))\n",
    "#         x = F.dropout(x, training=self.training)\n",
    "#         x = self.conv2(x, edge_index)\n",
    "#         return F.log_softmax(x, dim=1)"
   ]
  },
  {
   "cell_type": "code",
   "execution_count": 5,
   "metadata": {},
   "outputs": [
    {
     "name": "stderr",
     "output_type": "stream",
     "text": [
      "100%|██████████| 400/400 [00:04<00:00, 95.22it/s] "
     ]
    },
    {
     "name": "stdout",
     "output_type": "stream",
     "text": [
      "Test Accuracy: 0.8080\n"
     ]
    },
    {
     "name": "stderr",
     "output_type": "stream",
     "text": [
      "\n"
     ]
    }
   ],
   "source": [
    "#DEFINE THE MODEL\n",
    "class Net(torch.nn.Module):\n",
    "    def __init__(self, input_dim, output_dim):\n",
    "        super().__init__()\n",
    "        torch.manual_seed(1234567)\n",
    "        self.conv1 = GCNConv(input_dim, 16)\n",
    "        self.conv2 = GCNConv(16, output_dim)\n",
    "\n",
    "    def forward(self, x,edge_index, data = None):\n",
    "        #edge_index = adj.nonzero().t()\n",
    "        x = F.relu(self.conv1(x, edge_index))\n",
    "        x = F.dropout(x, training=self.training)\n",
    "        x = self.conv2(x, edge_index)\n",
    "        return F.log_softmax(x, dim=1)\n",
    "    \n",
    "\n",
    "    \n",
    "input_dim = dataset.num_features\n",
    "output_dim = dataset.num_classes\n",
    "\n",
    "\n",
    "device = torch.device('cuda' if torch.cuda.is_available() else 'cpu')\n",
    "model = Net(input_dim, output_dim).to(device)\n",
    "data = data.to(device)\n",
    "optimizer = torch.optim.Adam(model.parameters(), lr=0.01, weight_decay=5e-4)\n",
    "\n",
    "\n",
    "\n",
    "optimizer = torch.optim.Adam(model.parameters(), lr=0.01, weight_decay=5e-4)\n",
    "criterion = torch.nn.CrossEntropyLoss()\n",
    "\n",
    "def train(aifb = False):\n",
    "    model.train()\n",
    "    optimizer.zero_grad()  # Clear gradients.\n",
    "    out= model(data.x, data.edge_index)  # Perform a single forward pass.\n",
    "    \n",
    "    if aifb:\n",
    "        loss = criterion(out[data.train_mask], data.train_y)\n",
    "    else:\n",
    "        loss = criterion(out[data.train_mask], data.y[data.train_mask])  # Compute the loss solely based on the training nodes.  \n",
    "    loss.backward()  # Derive gradients.\n",
    "    optimizer.step()  # Update parameters based on gradients.\n",
    "    return loss\n",
    "\n",
    "def test(aifb = False):\n",
    "    model.eval()\n",
    "    out= model(data.x, data.edge_index)\n",
    "    pred = out.argmax(dim=1)  # Use the class with highest probability.\n",
    "    if aifb:\n",
    "        test_correct = pred[data.test_mask] == data.test_y # Check against ground-truth labels.\n",
    "        test_incorrect = pred[data.test_mask] != data.test_y # Check against ground-truth labels.\n",
    "        print(test_incorrect)\n",
    "        test_acc = int(test_correct.sum()) / len(data.test_y)\n",
    "        torch.save(out, 'pred_aifb')\n",
    "    else:    \n",
    "        test_correct = pred[data.test_mask] == data.y[data.test_mask]  # Check against ground-truth labels.\n",
    "        test_incorrect = pred[data.test_mask] != data.y[data.test_mask] # Check against ground-truth labels.\n",
    "    \n",
    "        test_acc = int(test_correct.sum()) / int(data.test_mask.sum())  # Derive ratio of correct predictions.\n",
    "        torch.save(out, '../cora_chk/prediction_cora')\n",
    "    \n",
    "    return test_acc\n",
    "\n",
    "\n",
    "for epoch in tqdm(range(1, 401)):\n",
    "    loss = train()\n",
    "\n",
    "test_acc = test()\n",
    "print(f'Test Accuracy: {test_acc:.4f}') \n",
    "\n",
    "\n",
    "model.eval()\n",
    "pred= model(data.x, data.edge_index)\n",
    "torch.save(model, '../cora_chk/model_cora')\n",
    "#torch.save(model, 'model_aifb')"
   ]
  },
  {
   "cell_type": "code",
   "execution_count": 6,
   "metadata": {},
   "outputs": [
    {
     "name": "stdout",
     "output_type": "stream",
     "text": [
      "mislabeled: [141, 147, 161, 162, 167, 168, 172, 184, 191, 192, 224, 225, 240, 250, 252, 254, 255, 256, 260, 267, 272, 277, 278, 280, 285, 287, 291, 292, 293, 300, 311, 319, 320, 323, 332, 342, 354, 356, 365, 376, 377, 380, 383, 388, 397, 398, 401, 404, 417, 433, 435, 436, 438, 446, 454, 461, 462, 465, 467, 471, 473, 474, 476, 477, 478, 480, 490, 496, 498, 502, 503, 506, 512, 516, 517, 518, 520, 522, 530, 531, 548, 553, 554, 555, 571, 573, 574, 576, 578, 581, 590, 591, 592, 597, 600, 603, 606, 611, 614, 617, 626, 628, 630, 641, 642, 644, 645, 659, 670, 674, 675, 678, 680, 695, 696, 699, 702, 711, 717, 724, 728, 733, 738, 743, 749, 753, 755, 756, 760, 767, 768, 772, 776, 780, 791, 794, 798, 803, 818, 822, 827, 832, 842, 843, 849, 852, 854, 863, 865, 868, 872, 873, 876, 880, 896, 903, 906, 913, 917, 930, 931, 934, 939, 940, 943, 945, 948, 949, 952, 953, 968, 973, 974, 979, 989, 992, 993, 995]\n"
     ]
    }
   ],
   "source": [
    "mislabeled = []\n",
    "correct = []\n",
    "for i in range(1000):\n",
    "    if torch.load('../cora_chk/prediction_cora').argmax(dim=1)[i] != data.y[i]:\n",
    "        #print(i, pred_label[i], data.y[i])\n",
    "        mislabeled.append(i)\n",
    "    else:\n",
    "        correct.append(i)\n",
    "print('mislabeled:',mislabeled)        "
   ]
  },
  {
   "cell_type": "code",
   "execution_count": null,
   "metadata": {},
   "outputs": [],
   "source": [
    "node_idx = 0\n",
    "x, edge_index = data.x, data.edge_index\n",
    "explainer = GNNExplainer(model)\n",
    "node_feat_mask, edge_mask = explainer.explain_node(node_idx, x, edge_index)"
   ]
  },
  {
   "cell_type": "code",
   "execution_count": null,
   "metadata": {},
   "outputs": [],
   "source": [
    "len(data.x.size())"
   ]
  },
  {
   "cell_type": "code",
   "execution_count": null,
   "metadata": {},
   "outputs": [],
   "source": [
    "y = model(data.x, data.edge_index, data)\n",
    "res_full, predlabel_full = nn.Softmax(dim=0)(y[node_idx, :]), torch.argmax(nn.Softmax(dim=0)(y[node_idx, :]))\n"
   ]
  },
  {
   "cell_type": "code",
   "execution_count": 3,
   "metadata": {},
   "outputs": [],
   "source": [
    "class Net(torch.nn.Module):\n",
    "    def __init__(self, input_dim, output_dim):\n",
    "        super().__init__()\n",
    "        torch.manual_seed(1234567)\n",
    "        self.conv1 = GCNConv(input_dim, 16)\n",
    "        self.conv2 = GCNConv(16, output_dim)\n",
    "\n",
    "    def forward(self, x,edge_index, data = None):\n",
    "        #edge_index = adj.nonzero().t()\n",
    "        x = F.relu(self.conv1(x, edge_index))\n",
    "        x = F.dropout(x, training=self.training)\n",
    "        x = self.conv2(x, edge_index)\n",
    "        return F.log_softmax(x, dim=1)"
   ]
  },
  {
   "cell_type": "code",
   "execution_count": 8,
   "metadata": {},
   "outputs": [
    {
     "name": "stdout",
     "output_type": "stream",
     "text": [
      "torch.Size([2708, 1433]) torch.Size([2, 10556])\n",
      "features\n",
      "<class 'int'> <class 'int'> <class 'int'>\n",
      "2708 1433 10556\n"
     ]
    },
    {
     "name": "stderr",
     "output_type": "stream",
     "text": [
      "/usr/local/Caskroom/miniconda/base/lib/python3.9/site-packages/torch_geometric/deprecation.py:12: UserWarning: 'nn.models.GNNExplainer' is deprecated, use 'explain.Explainer' with 'explain.algorithm.GNNExplainer' instead\n",
      "  warnings.warn(out)\n"
     ]
    },
    {
     "name": "stdout",
     "output_type": "stream",
     "text": [
      "explanation: Explanation(x=[2708, 1433], edge_index=[2, 10556], edge_mask=[10556], node_feat_mask=[2708, 1433])\n",
      "tensor([0.7199, 0.7134, 0.7199,  ..., 0.0000, 0.0000, 0.0000])\n",
      "true label: tensor(3) \n",
      " full model pred label: tensor(3) \n",
      " full model pred prob: tensor(0.9332, grad_fn=<SelectBackward0>) \n",
      " size of full graph: 10556 \n",
      " explained pred label: tensor(3) \n",
      " explained pred prob: tensor(0.9393, grad_fn=<SelectBackward0>) \n",
      " size of explained graph: 20\n"
     ]
    }
   ],
   "source": [
    "model = torch.load('../cora_chk/model_cora')\n",
    "#model = torch.load('model_aifb')\n",
    "\n",
    "for node_idx in [0]:\n",
    "#explainer boy\n",
    "\n",
    "      x, edge_index = data.x, data.edge_index\n",
    "      print(x.shape, edge_index.shape)\n",
    "      explainer = GNNExplainer(model)\n",
    "      node_feat_mask, edge_mask = explainer.explain_node(node_idx, x, edge_index)\n",
    "      print(edge_mask)\n",
    "      #Full Results\n",
    "      y = model(data.x, data.edge_index, data)\n",
    "      res_full, predlabel_full = nn.Softmax(dim=0)(y[node_idx, :]), torch.argmax(nn.Softmax(dim=0)(y[node_idx, :]))\n",
    "\n",
    "\n",
    "      #Explained results\n",
    "      indices = edge_mask.to_sparse().indices()\n",
    "      edge_mask.to_sparse().values()\n",
    "      i = data.edge_index.t()[indices].squeeze().t()\n",
    "      v = edge_mask.to_sparse().values()\n",
    "      e = torch.sparse_coo_tensor(i ,v )\n",
    "\n",
    "      ypred = model(data.x,i, data)\n",
    "      print('edge mask;', edge_mask.to_sparse())\n",
    "      res, predlabel = nn.Softmax(dim=0)(ypred[node_idx, :]), torch.argmax(nn.Softmax(dim=0)(ypred[node_idx, :]))\n",
    "\n",
    "\n",
    "\n",
    "      print('true label:', data.y[node_idx], '\\n full model pred label:' ,predlabel_full, '\\n full model pred prob:', res_full[predlabel_full], '\\n size of full graph:', len(data.edge_index[0]),\n",
    "            '\\n explained pred label:',predlabel, '\\n explained pred prob:', res[predlabel], '\\n size of explained graph:', len(i[0]))\n",
    "\n",
    "\n",
    "      # print('true label:', data.test_y[node_idx], '\\n full model pred label:' ,predlabel_full, '\\n full model pred prob:', res_full[predlabel_full], '\\n size of full graph:', len(data.edge_index[0]),\n",
    "      #       '\\n explained pred label:',predlabel, '\\n explained pred prob:', res[predlabel], '\\n size of explained graph:', len(i[0]))"
   ]
  },
  {
   "cell_type": "code",
   "execution_count": 5,
   "metadata": {},
   "outputs": [],
   "source": [
    "from rgcn_explainer_utils import dict_index_classes, dict_triples_semantics, selected, visualize, find_n_hop_neighbors, match_to_classes, match_to_triples, edge_index_oneadj, get_relations, d_classes, encode_dict\n",
    "import networkx as nx\n",
    "import numpy as np\n",
    "from collections import Counter"
   ]
  },
  {
   "cell_type": "code",
   "execution_count": 6,
   "metadata": {},
   "outputs": [
    {
     "name": "stdout",
     "output_type": "stream",
     "text": [
      "tensor([3, 3, 3, 3, 3, 3, 3, 3])\n"
     ]
    },
    {
     "data": {
      "image/png": "[encoded data removed]",
      "text/plain": [
       "<Figure size 640x480 with 1 Axes>"
      ]
     },
     "metadata": {},
     "output_type": "display_data"
    }
   ],
   "source": [
    "def visualize(node_idx, data, masked_ver,result_weights=False):\n",
    "    \"\"\" \n",
    "    Visualize important nodes for node idx prediction\n",
    "    \"\"\"\n",
    "    #dict_index = dict_index_classes(data,masked_ver)\n",
    "    sel_masked_ver = masked_ver\n",
    "    indices_nodes = sel_masked_ver.coalesce().indices().detach().numpy()\n",
    "    new_index = np.transpose(np.stack((indices_nodes[0], indices_nodes[1]))) #original edge indexes\n",
    "\n",
    "    sub_edges, neighborhoods, sub_edges_tensor = find_n_hop_neighbors(data.edge_index, 2, node=0)\n",
    "    G = nx.Graph()\n",
    "    if result_weights:\n",
    "        values = sel_masked_ver.coalesce().values().detach().numpy()\n",
    "        for s,p,o in zip(indices_nodes[0],values , indices_nodes[1]):\n",
    "            G.add_edge(int(s), int(o), weight=np.round(p, 2))\n",
    "\n",
    "    else:\n",
    "        #get triples to get relations \n",
    "        triples_matched = match_to_triples(np.array(new_index), data.triples)\n",
    "        l = []\n",
    "        for i in triples_matched[:,1]:\n",
    "            l.append(data.i2rel[int(i)][0])\n",
    "        print(Counter(l))\n",
    "        for s,p,o in triples_matched:\n",
    "            G.add_edge(int(s), int(o), weight=int(p))\n",
    "\n",
    "    edges,weights = zip(*nx.get_edge_attributes(G,'weight').items())\n",
    "\n",
    "\n",
    "    pos = nx.circular_layout(G)\n",
    "\n",
    "    # ordered_dict = {}\n",
    "    # for item in list(G.nodes):\n",
    "    #     if item in ordered_dict:\n",
    "    #         ordered_dict[item].append(dict_index[item])\n",
    "    #     else:\n",
    "    #         ordered_dict[item] =  dict_index[item]\n",
    "\n",
    "    # dict_index = ordered_dict\n",
    "\n",
    "    labeldict = {}\n",
    "    for node in G.nodes:\n",
    "        labeldict[int(node)] = int(node)  \n",
    "\n",
    "\n",
    "    print(data.y[list(neighborhoods)])\n",
    "    \n",
    "    if result_weights:\n",
    "        \n",
    "        nx.draw(G, pos,labels = labeldict,  edgelist=edges, edge_color=weights,  node_color = data.y[list(neighborhoods)],cmap=\"Set2\",edge_cmap=plt.cm.Reds,font_size=8)\n",
    "        nx.draw_networkx_edge_labels( G, pos,edge_labels=nx.get_edge_attributes(G,'weight'),font_size=8,font_color='red')\n",
    "\n",
    "        plt.title(\"Node {}'s neighborhood important nodes\".format(node_idx))\n",
    "    else:\n",
    "        rel = nx.get_edge_attributes(G,'weight')\n",
    "        for k,v in rel.items():\n",
    "            rel[k] = data.i2rel[v][0]\n",
    "        nx.draw(G, pos,labels = labeldict,  edgelist=edges, edge_color=weights, node_color = data.y[neighborhoods], cmap=\"Set2\",font_size=8)\n",
    "        nx.draw_networkx_edge_labels( G, pos,edge_labels=rel,font_size=8,font_color='red')\n",
    "\n",
    "        sm = plt.cm.ScalarMappable(cmap=plt.cm.Reds, norm=plt.Normalize(vmin=0, vmax=1))\n",
    "        sm.set_array(weights)\n",
    "        cbar = plt.colorbar(sm)\n",
    "        cbar.ax.set_title('Weight')\n",
    "        res = Counter(rel.values())\n",
    "    if result_weights:\n",
    "        plt.savefig(f'aifb_chk/graphs/Explanation_{node_idx}_weights.png')\n",
    "        plt.show()\n",
    "    else:\n",
    "        plt.savefig(f'aifb_chk/graphs/Explanation_{node_idx}_relations.png')    \n",
    "        plt.show()\n",
    "        return res\n",
    "\n",
    "    \n",
    "visualize(0, data, e, result_weights=True)  "
   ]
  },
  {
   "attachments": {},
   "cell_type": "markdown",
   "metadata": {},
   "source": [
    "Probably can do explanation on RGCN like this, here, so innocently OKKKKKKK BROOOOOOOOOOOOOO MY WHOLE LIFE IDK LMAO"
   ]
  },
  {
   "cell_type": "code",
   "execution_count": 10,
   "metadata": {},
   "outputs": [],
   "source": [
    "# import kgbench as kg\n",
    "# data = kg.load('aifb', torch=True) \n",
    "# print(f'Number of entities: {data.num_entities}') #data.i2e\n",
    "# print(f'Number of classes: {data.num_classes}')\n",
    "# print(f'Types of relations: {data.num_relations}') #data.i2r\n",
    "\n",
    "\n",
    "from torch_geometric.datasets import Entities\n",
    "from torch_geometric.nn import FastRGCNConv, RGCNConv\n",
    "from torch_geometric.utils import k_hop_subgraph\n",
    "\n",
    "path = '/Users/macoftraopia/Documents/GitHub/RGCN-Explainer/../data/Entities' #osp.join(osp.dirname(osp.realpath(__file__)), '..', 'data', 'Entities')\n",
    "dataset = Entities(path, 'AIFB')\n",
    "data = dataset[0]\n",
    "\n",
    "# BGS and AM graphs are too big to process them in a full-batch fashion.\n",
    "# Since our model does only make use of a rather small receptive field, we\n",
    "# filter the graph to only contain the nodes that are at most 2-hop neighbors\n",
    "# away from any training/test node.\n",
    "node_idx = torch.cat([data.train_idx, data.test_idx], dim=0)\n",
    "node_idx, edge_index, mapping, edge_mask = k_hop_subgraph(\n",
    "    node_idx, 2, data.edge_index, relabel_nodes=True)\n",
    "\n",
    "data.num_nodes = node_idx.size(0)\n",
    "data.edge_index = edge_index\n",
    "data.edge_type = data.edge_type[edge_mask]\n",
    "data.train_idx = mapping[:data.train_idx.size(0)]\n",
    "data.test_idx = mapping[data.train_idx.size(0):]"
   ]
  },
  {
   "cell_type": "code",
   "execution_count": 13,
   "metadata": {},
   "outputs": [],
   "source": [
    "data."
   ]
  },
  {
   "cell_type": "code",
   "execution_count": 7,
   "metadata": {},
   "outputs": [],
   "source": [
    "import argparse\n",
    "import os.path as osp\n",
    "\n",
    "import torch\n",
    "import torch.nn.functional as F\n",
    "\n",
    "\n",
    "\n",
    "# Trade memory consumption for faster computation.\n",
    "#if args.dataset in ['AIFB', 'MUTAG']:\n",
    "RGCNConv = FastRGCNConv\n",
    "\n",
    "\n",
    "\n",
    "\n",
    "class Net(torch.nn.Module):\n",
    "    def __init__(self):\n",
    "        super().__init__()\n",
    "        self.conv1 = RGCNConv(data.num_nodes, 16, dataset.num_relations,\n",
    "                              num_bases=30)\n",
    "        self.conv2 = RGCNConv(16, dataset.num_classes, dataset.num_relations,\n",
    "                              num_bases=30)\n",
    "\n",
    "    def forward(self, edge_index, edge_type):\n",
    "        x = F.relu(self.conv1(None, edge_index, edge_type))\n",
    "        x = self.conv2(x, edge_index, edge_type)\n",
    "        return F.log_softmax(x, dim=1)\n",
    "    \n",
    "\n",
    "    def forward(self):\n",
    "        edge_index, edge_type = data.edge_index, data.edge_type\n",
    "        x = F.relu(self.conv1(None, edge_index, edge_type))\n",
    "        x = self.conv2(x, edge_index, edge_type)\n",
    "        return F.log_softmax(x, dim=1)\n",
    "\n",
    "    def forward(self, edge_type, edge_index):\n",
    "        #edge_type edge_type.unsqueeze(1)\n",
    "        x = F.relu(self.conv1(None, edge_index, edge_type))\n",
    "        x = self.conv2(x, edge_index, edge_type)\n",
    "        return F.log_softmax(x, dim=1)\n",
    "\n",
    "device = torch.device('cuda' if torch.cuda.is_available() else 'cpu')\n",
    "device = torch.device('cpu')# if args.dataset == 'AM' else device\n",
    "model, data = Net().to(device), data.to(device)\n",
    "optimizer = torch.optim.Adam(model.parameters(), lr=0.01, weight_decay=0.0005)\n",
    "\n",
    "\n"
   ]
  },
  {
   "cell_type": "code",
   "execution_count": null,
   "metadata": {},
   "outputs": [],
   "source": [
    "def train():\n",
    "    model.train()\n",
    "    optimizer.zero_grad()\n",
    "    out = model(data.edge_type, data.edge_index )\n",
    "    #out = model()\n",
    "    loss = F.nll_loss(out[data.train_idx], data.train_y)\n",
    "    loss.backward()\n",
    "    optimizer.step()\n",
    "    return float(loss)\n",
    "\n",
    "\n",
    "@torch.no_grad()\n",
    "def test():\n",
    "    model.eval()\n",
    "    pred = model(data.edge_type ,data.edge_index).argmax(dim=-1)\n",
    "    #pred = model().argmax(dim=-1)\n",
    "    train_acc = float((pred[data.train_idx] == data.train_y).float().mean())\n",
    "    test_acc = float((pred[data.test_idx] == data.test_y).float().mean())\n",
    "    torch.save(pred[data.test_idx], 'aifb_chk/prediction_aifb')\n",
    "    return train_acc, test_acc\n",
    "\n",
    "\n",
    "for epoch in range(1, 51):\n",
    "    loss = train()\n",
    "    train_acc, test_acc = test()\n",
    "    print(f'Epoch: {epoch:02d}, Loss: {loss:.4f}, Train: {train_acc:.4f} '\n",
    "          f'Test: {test_acc:.4f}')\n",
    "    \n",
    "torch.save(model, 'aifb_chk/model_aifb')    "
   ]
  },
  {
   "cell_type": "code",
   "execution_count": null,
   "metadata": {},
   "outputs": [],
   "source": [
    "data.num_nodes"
   ]
  },
  {
   "cell_type": "code",
   "execution_count": null,
   "metadata": {},
   "outputs": [],
   "source": [
    "mislabeled = []\n",
    "correct = []\n",
    "for i in range(36):\n",
    "    if torch.load('aifb_chk/prediction_aifb')[i] != data.test_y[i]:\n",
    "        #print(i, pred_label[i], data.y[i])\n",
    "        mislabeled.append(i)\n",
    "    else:\n",
    "        correct.append(i)\n",
    "print('mislabeled:',mislabeled)  "
   ]
  },
  {
   "cell_type": "code",
   "execution_count": null,
   "metadata": {},
   "outputs": [],
   "source": [
    "data.x = torch.zeros(data.num_nodes, 3, dtype=torch.int64)\n",
    "#data.edge_type = data.edge_type.unsqueeze(1)\n",
    "data.edge_type.shape"
   ]
  },
  {
   "cell_type": "code",
   "execution_count": null,
   "metadata": {},
   "outputs": [],
   "source": [
    "data.edge_type.dim()"
   ]
  },
  {
   "cell_type": "code",
   "execution_count": 8,
   "metadata": {},
   "outputs": [
    {
     "name": "stdout",
     "output_type": "stream",
     "text": [
      "torch.Size([54024]) torch.Size([2, 54024])\n",
      "no features\n",
      "<class 'int'> <class 'int'> <class 'int'>\n",
      "54024 1 54024\n"
     ]
    },
    {
     "ename": "IndexError",
     "evalue": "tensors used as indices must be long, byte or bool tensors",
     "output_type": "error",
     "traceback": [
      "\u001b[0;31m---------------------------------------------------------------------------\u001b[0m",
      "\u001b[0;31mIndexError\u001b[0m                                Traceback (most recent call last)",
      "Cell \u001b[0;32mIn[8], line 7\u001b[0m\n\u001b[1;32m      5\u001b[0m \u001b[39mprint\u001b[39m(x\u001b[39m.\u001b[39mshape, edge_index\u001b[39m.\u001b[39mshape)\n\u001b[1;32m      6\u001b[0m explainer \u001b[39m=\u001b[39m GNNExplainer(model)\n\u001b[0;32m----> 7\u001b[0m node_feat_mask, edge_mask \u001b[39m=\u001b[39m explainer\u001b[39m.\u001b[39;49mexplain_node(node_idx, x, edge_index)\n\u001b[1;32m      8\u001b[0m \u001b[39m#edge_mask = explainer.explain_node(node_idx)\u001b[39;00m\n\u001b[1;32m      9\u001b[0m \n\u001b[1;32m     10\u001b[0m \u001b[39m#Full Results\u001b[39;00m\n\u001b[1;32m     11\u001b[0m y \u001b[39m=\u001b[39m model(data\u001b[39m.\u001b[39mx, data\u001b[39m.\u001b[39medge_index, data)\n",
      "File \u001b[0;32m/usr/local/Caskroom/miniconda/base/lib/python3.9/site-packages/torch_geometric/explain/algorithm/gnn_explainer.py:339\u001b[0m, in \u001b[0;36mGNNExplainer_.explain_node\u001b[0;34m(self, node_idx, x, edge_index, **kwargs)\u001b[0m\n\u001b[1;32m    331\u001b[0m \u001b[39mdef\u001b[39;00m \u001b[39mexplain_node\u001b[39m(\n\u001b[1;32m    332\u001b[0m     \u001b[39mself\u001b[39m,\n\u001b[1;32m    333\u001b[0m     node_idx: \u001b[39mint\u001b[39m,\n\u001b[0;32m   (...)\u001b[0m\n\u001b[1;32m    336\u001b[0m     \u001b[39m*\u001b[39m\u001b[39m*\u001b[39mkwargs,\n\u001b[1;32m    337\u001b[0m ) \u001b[39m-\u001b[39m\u001b[39m>\u001b[39m Tuple[Tensor, Tensor]:\n\u001b[1;32m    338\u001b[0m     \u001b[39mself\u001b[39m\u001b[39m.\u001b[39m_explainer\u001b[39m.\u001b[39mmodel_config\u001b[39m.\u001b[39mtask_level \u001b[39m=\u001b[39m ModelTaskLevel\u001b[39m.\u001b[39mnode\n\u001b[0;32m--> 339\u001b[0m     explanation \u001b[39m=\u001b[39m \u001b[39mself\u001b[39;49m\u001b[39m.\u001b[39;49m_explainer(\n\u001b[1;32m    340\u001b[0m         \u001b[39mself\u001b[39;49m\u001b[39m.\u001b[39;49mmodel,\n\u001b[1;32m    341\u001b[0m         x,\n\u001b[1;32m    342\u001b[0m         edge_index,\n\u001b[1;32m    343\u001b[0m         target\u001b[39m=\u001b[39;49m\u001b[39mself\u001b[39;49m\u001b[39m.\u001b[39;49mget_initial_prediction(x, edge_index, \u001b[39m*\u001b[39;49m\u001b[39m*\u001b[39;49mkwargs),\n\u001b[1;32m    344\u001b[0m         index\u001b[39m=\u001b[39;49mnode_idx,\n\u001b[1;32m    345\u001b[0m         \u001b[39m*\u001b[39;49m\u001b[39m*\u001b[39;49mkwargs,\n\u001b[1;32m    346\u001b[0m     )\n\u001b[1;32m    347\u001b[0m     \u001b[39mprint\u001b[39m(\u001b[39m'\u001b[39m\u001b[39mexplanation:\u001b[39m\u001b[39m'\u001b[39m, explanation)\n\u001b[1;32m    348\u001b[0m     \u001b[39mreturn\u001b[39;00m \u001b[39mself\u001b[39m\u001b[39m.\u001b[39m_convert_output(explanation, edge_index, index\u001b[39m=\u001b[39mnode_idx,\n\u001b[1;32m    349\u001b[0m                                 x\u001b[39m=\u001b[39mx)\n",
      "File \u001b[0;32m/usr/local/Caskroom/miniconda/base/lib/python3.9/site-packages/torch/nn/modules/module.py:1130\u001b[0m, in \u001b[0;36mModule._call_impl\u001b[0;34m(self, *input, **kwargs)\u001b[0m\n\u001b[1;32m   1126\u001b[0m \u001b[39m# If we don't have any hooks, we want to skip the rest of the logic in\u001b[39;00m\n\u001b[1;32m   1127\u001b[0m \u001b[39m# this function, and just call forward.\u001b[39;00m\n\u001b[1;32m   1128\u001b[0m \u001b[39mif\u001b[39;00m \u001b[39mnot\u001b[39;00m (\u001b[39mself\u001b[39m\u001b[39m.\u001b[39m_backward_hooks \u001b[39mor\u001b[39;00m \u001b[39mself\u001b[39m\u001b[39m.\u001b[39m_forward_hooks \u001b[39mor\u001b[39;00m \u001b[39mself\u001b[39m\u001b[39m.\u001b[39m_forward_pre_hooks \u001b[39mor\u001b[39;00m _global_backward_hooks\n\u001b[1;32m   1129\u001b[0m         \u001b[39mor\u001b[39;00m _global_forward_hooks \u001b[39mor\u001b[39;00m _global_forward_pre_hooks):\n\u001b[0;32m-> 1130\u001b[0m     \u001b[39mreturn\u001b[39;00m forward_call(\u001b[39m*\u001b[39;49m\u001b[39minput\u001b[39;49m, \u001b[39m*\u001b[39;49m\u001b[39m*\u001b[39;49mkwargs)\n\u001b[1;32m   1131\u001b[0m \u001b[39m# Do not call functions when jit is used\u001b[39;00m\n\u001b[1;32m   1132\u001b[0m full_backward_hooks, non_full_backward_hooks \u001b[39m=\u001b[39m [], []\n",
      "File \u001b[0;32m/usr/local/Caskroom/miniconda/base/lib/python3.9/site-packages/torch_geometric/explain/algorithm/gnn_explainer.py:122\u001b[0m, in \u001b[0;36mGNNExplainer.forward\u001b[0;34m(self, model, x, edge_index, target, index, target_index, **kwargs)\u001b[0m\n\u001b[1;32m    116\u001b[0m \u001b[39mif\u001b[39;00m \u001b[39mself\u001b[39m\u001b[39m.\u001b[39mmodel_config\u001b[39m.\u001b[39mtask_level \u001b[39m==\u001b[39m ModelTaskLevel\u001b[39m.\u001b[39mnode:\n\u001b[1;32m    117\u001b[0m     \u001b[39m# We need to compute hard masks to properly clean up edges and\u001b[39;00m\n\u001b[1;32m    118\u001b[0m     \u001b[39m# nodes attributions not involved during message passing:\u001b[39;00m\n\u001b[1;32m    119\u001b[0m     hard_node_mask, hard_edge_mask \u001b[39m=\u001b[39m \u001b[39mself\u001b[39m\u001b[39m.\u001b[39m_get_hard_masks(\n\u001b[1;32m    120\u001b[0m         model, index, edge_index, num_nodes\u001b[39m=\u001b[39mx\u001b[39m.\u001b[39msize(\u001b[39m0\u001b[39m))\n\u001b[0;32m--> 122\u001b[0m \u001b[39mself\u001b[39;49m\u001b[39m.\u001b[39;49m_train(model, x, edge_index, target\u001b[39m=\u001b[39;49mtarget, index\u001b[39m=\u001b[39;49mindex,\n\u001b[1;32m    123\u001b[0m             target_index\u001b[39m=\u001b[39;49mtarget_index, \u001b[39m*\u001b[39;49m\u001b[39m*\u001b[39;49mkwargs)\n\u001b[1;32m    125\u001b[0m node_mask \u001b[39m=\u001b[39m \u001b[39mself\u001b[39m\u001b[39m.\u001b[39m_post_process_mask(\u001b[39mself\u001b[39m\u001b[39m.\u001b[39mnode_mask, x\u001b[39m.\u001b[39msize(\u001b[39m0\u001b[39m),\n\u001b[1;32m    126\u001b[0m                                     hard_node_mask, apply_sigmoid\u001b[39m=\u001b[39m\u001b[39mTrue\u001b[39;00m)\n\u001b[1;32m    127\u001b[0m edge_mask \u001b[39m=\u001b[39m \u001b[39mself\u001b[39m\u001b[39m.\u001b[39m_post_process_mask(\u001b[39mself\u001b[39m\u001b[39m.\u001b[39medge_mask, edge_index\u001b[39m.\u001b[39msize(\u001b[39m1\u001b[39m),\n\u001b[1;32m    128\u001b[0m                                     hard_edge_mask, apply_sigmoid\u001b[39m=\u001b[39m\u001b[39mTrue\u001b[39;00m)\n",
      "File \u001b[0;32m/usr/local/Caskroom/miniconda/base/lib/python3.9/site-packages/torch_geometric/explain/algorithm/gnn_explainer.py:166\u001b[0m, in \u001b[0;36mGNNExplainer._train\u001b[0;34m(self, model, x, edge_index, target, index, target_index, **kwargs)\u001b[0m\n\u001b[1;32m    163\u001b[0m optimizer\u001b[39m.\u001b[39mzero_grad()\n\u001b[1;32m    165\u001b[0m h \u001b[39m=\u001b[39m x \u001b[39m*\u001b[39m \u001b[39mself\u001b[39m\u001b[39m.\u001b[39mnode_mask\u001b[39m.\u001b[39msigmoid()\n\u001b[0;32m--> 166\u001b[0m y_hat, y \u001b[39m=\u001b[39m model(h, edge_index, \u001b[39m*\u001b[39;49m\u001b[39m*\u001b[39;49mkwargs), target\n\u001b[1;32m    168\u001b[0m \u001b[39mif\u001b[39;00m target_index \u001b[39mis\u001b[39;00m \u001b[39mnot\u001b[39;00m \u001b[39mNone\u001b[39;00m:\n\u001b[1;32m    169\u001b[0m     y_hat, y \u001b[39m=\u001b[39m y_hat[target_index], y[target_index]\n",
      "File \u001b[0;32m/usr/local/Caskroom/miniconda/base/lib/python3.9/site-packages/torch/nn/modules/module.py:1130\u001b[0m, in \u001b[0;36mModule._call_impl\u001b[0;34m(self, *input, **kwargs)\u001b[0m\n\u001b[1;32m   1126\u001b[0m \u001b[39m# If we don't have any hooks, we want to skip the rest of the logic in\u001b[39;00m\n\u001b[1;32m   1127\u001b[0m \u001b[39m# this function, and just call forward.\u001b[39;00m\n\u001b[1;32m   1128\u001b[0m \u001b[39mif\u001b[39;00m \u001b[39mnot\u001b[39;00m (\u001b[39mself\u001b[39m\u001b[39m.\u001b[39m_backward_hooks \u001b[39mor\u001b[39;00m \u001b[39mself\u001b[39m\u001b[39m.\u001b[39m_forward_hooks \u001b[39mor\u001b[39;00m \u001b[39mself\u001b[39m\u001b[39m.\u001b[39m_forward_pre_hooks \u001b[39mor\u001b[39;00m _global_backward_hooks\n\u001b[1;32m   1129\u001b[0m         \u001b[39mor\u001b[39;00m _global_forward_hooks \u001b[39mor\u001b[39;00m _global_forward_pre_hooks):\n\u001b[0;32m-> 1130\u001b[0m     \u001b[39mreturn\u001b[39;00m forward_call(\u001b[39m*\u001b[39;49m\u001b[39minput\u001b[39;49m, \u001b[39m*\u001b[39;49m\u001b[39m*\u001b[39;49mkwargs)\n\u001b[1;32m   1131\u001b[0m \u001b[39m# Do not call functions when jit is used\u001b[39;00m\n\u001b[1;32m   1132\u001b[0m full_backward_hooks, non_full_backward_hooks \u001b[39m=\u001b[39m [], []\n",
      "Cell \u001b[0;32mIn[7], line 38\u001b[0m, in \u001b[0;36mNet.forward\u001b[0;34m(self, edge_type, edge_index)\u001b[0m\n\u001b[1;32m     36\u001b[0m \u001b[39mdef\u001b[39;00m \u001b[39mforward\u001b[39m(\u001b[39mself\u001b[39m, edge_type, edge_index):\n\u001b[1;32m     37\u001b[0m     \u001b[39m#edge_type edge_type.unsqueeze(1)\u001b[39;00m\n\u001b[0;32m---> 38\u001b[0m     x \u001b[39m=\u001b[39m F\u001b[39m.\u001b[39mrelu(\u001b[39mself\u001b[39;49m\u001b[39m.\u001b[39;49mconv1(\u001b[39mNone\u001b[39;49;00m, edge_index, edge_type))\n\u001b[1;32m     39\u001b[0m     x \u001b[39m=\u001b[39m \u001b[39mself\u001b[39m\u001b[39m.\u001b[39mconv2(x, edge_index, edge_type)\n\u001b[1;32m     40\u001b[0m     \u001b[39mreturn\u001b[39;00m F\u001b[39m.\u001b[39mlog_softmax(x, dim\u001b[39m=\u001b[39m\u001b[39m1\u001b[39m)\n",
      "File \u001b[0;32m/usr/local/Caskroom/miniconda/base/lib/python3.9/site-packages/torch/nn/modules/module.py:1130\u001b[0m, in \u001b[0;36mModule._call_impl\u001b[0;34m(self, *input, **kwargs)\u001b[0m\n\u001b[1;32m   1126\u001b[0m \u001b[39m# If we don't have any hooks, we want to skip the rest of the logic in\u001b[39;00m\n\u001b[1;32m   1127\u001b[0m \u001b[39m# this function, and just call forward.\u001b[39;00m\n\u001b[1;32m   1128\u001b[0m \u001b[39mif\u001b[39;00m \u001b[39mnot\u001b[39;00m (\u001b[39mself\u001b[39m\u001b[39m.\u001b[39m_backward_hooks \u001b[39mor\u001b[39;00m \u001b[39mself\u001b[39m\u001b[39m.\u001b[39m_forward_hooks \u001b[39mor\u001b[39;00m \u001b[39mself\u001b[39m\u001b[39m.\u001b[39m_forward_pre_hooks \u001b[39mor\u001b[39;00m _global_backward_hooks\n\u001b[1;32m   1129\u001b[0m         \u001b[39mor\u001b[39;00m _global_forward_hooks \u001b[39mor\u001b[39;00m _global_forward_pre_hooks):\n\u001b[0;32m-> 1130\u001b[0m     \u001b[39mreturn\u001b[39;00m forward_call(\u001b[39m*\u001b[39;49m\u001b[39minput\u001b[39;49m, \u001b[39m*\u001b[39;49m\u001b[39m*\u001b[39;49mkwargs)\n\u001b[1;32m   1131\u001b[0m \u001b[39m# Do not call functions when jit is used\u001b[39;00m\n\u001b[1;32m   1132\u001b[0m full_backward_hooks, non_full_backward_hooks \u001b[39m=\u001b[39m [], []\n",
      "File \u001b[0;32m/usr/local/Caskroom/miniconda/base/lib/python3.9/site-packages/torch_geometric/nn/conv/rgcn_conv.py:304\u001b[0m, in \u001b[0;36mFastRGCNConv.forward\u001b[0;34m(self, x, edge_index, edge_type)\u001b[0m\n\u001b[1;32m    301\u001b[0m size \u001b[39m=\u001b[39m (x_l\u001b[39m.\u001b[39msize(\u001b[39m0\u001b[39m), x_r\u001b[39m.\u001b[39msize(\u001b[39m0\u001b[39m))\n\u001b[1;32m    303\u001b[0m \u001b[39m# propagate_type: (x: Tensor, edge_type: OptTensor)\u001b[39;00m\n\u001b[0;32m--> 304\u001b[0m out \u001b[39m=\u001b[39m \u001b[39mself\u001b[39;49m\u001b[39m.\u001b[39;49mpropagate(edge_index, x\u001b[39m=\u001b[39;49mx_l, edge_type\u001b[39m=\u001b[39;49medge_type, size\u001b[39m=\u001b[39;49msize)\n\u001b[1;32m    306\u001b[0m root \u001b[39m=\u001b[39m \u001b[39mself\u001b[39m\u001b[39m.\u001b[39mroot\n\u001b[1;32m    307\u001b[0m \u001b[39mif\u001b[39;00m root \u001b[39mis\u001b[39;00m \u001b[39mnot\u001b[39;00m \u001b[39mNone\u001b[39;00m:\n",
      "File \u001b[0;32m/usr/local/Caskroom/miniconda/base/lib/python3.9/site-packages/torch_geometric/nn/conv/message_passing.py:437\u001b[0m, in \u001b[0;36mMessagePassing.propagate\u001b[0;34m(self, edge_index, size, **kwargs)\u001b[0m\n\u001b[1;32m    435\u001b[0m     \u001b[39mif\u001b[39;00m res \u001b[39mis\u001b[39;00m \u001b[39mnot\u001b[39;00m \u001b[39mNone\u001b[39;00m:\n\u001b[1;32m    436\u001b[0m         msg_kwargs \u001b[39m=\u001b[39m res[\u001b[39m0\u001b[39m] \u001b[39mif\u001b[39;00m \u001b[39misinstance\u001b[39m(res, \u001b[39mtuple\u001b[39m) \u001b[39melse\u001b[39;00m res\n\u001b[0;32m--> 437\u001b[0m out \u001b[39m=\u001b[39m \u001b[39mself\u001b[39;49m\u001b[39m.\u001b[39;49mmessage(\u001b[39m*\u001b[39;49m\u001b[39m*\u001b[39;49mmsg_kwargs)\n\u001b[1;32m    438\u001b[0m \u001b[39mfor\u001b[39;00m hook \u001b[39min\u001b[39;00m \u001b[39mself\u001b[39m\u001b[39m.\u001b[39m_message_forward_hooks\u001b[39m.\u001b[39mvalues():\n\u001b[1;32m    439\u001b[0m     res \u001b[39m=\u001b[39m hook(\u001b[39mself\u001b[39m, (msg_kwargs, ), out)\n",
      "File \u001b[0;32m/usr/local/Caskroom/miniconda/base/lib/python3.9/site-packages/torch_geometric/nn/conv/rgcn_conv.py:334\u001b[0m, in \u001b[0;36mFastRGCNConv.message\u001b[0;34m(self, x_j, edge_type, edge_index_j)\u001b[0m\n\u001b[1;32m    332\u001b[0m \u001b[39mif\u001b[39;00m x_j\u001b[39m.\u001b[39mdtype \u001b[39m==\u001b[39m torch\u001b[39m.\u001b[39mlong:\n\u001b[1;32m    333\u001b[0m     weight_index \u001b[39m=\u001b[39m edge_type \u001b[39m*\u001b[39m weight\u001b[39m.\u001b[39msize(\u001b[39m1\u001b[39m) \u001b[39m+\u001b[39m edge_index_j\n\u001b[0;32m--> 334\u001b[0m     \u001b[39mreturn\u001b[39;00m weight\u001b[39m.\u001b[39;49mview(\u001b[39m-\u001b[39;49m\u001b[39m1\u001b[39;49m, \u001b[39mself\u001b[39;49m\u001b[39m.\u001b[39;49mout_channels)[weight_index]\n\u001b[1;32m    336\u001b[0m \u001b[39mreturn\u001b[39;00m torch\u001b[39m.\u001b[39mbmm(x_j\u001b[39m.\u001b[39munsqueeze(\u001b[39m-\u001b[39m\u001b[39m2\u001b[39m), weight[edge_type])\u001b[39m.\u001b[39msqueeze(\u001b[39m-\u001b[39m\u001b[39m2\u001b[39m)\n",
      "\u001b[0;31mIndexError\u001b[0m: tensors used as indices must be long, byte or bool tensors"
     ]
    }
   ],
   "source": [
    "for node_idx in [0]:\n",
    "#explainer boy\n",
    "\n",
    "      x, edge_index = data.edge_type, data.edge_index\n",
    "      print(x.shape, edge_index.shape)\n",
    "      explainer = GNNExplainer(model)\n",
    "      node_feat_mask, edge_mask = explainer.explain_node(node_idx, x, edge_index)\n",
    "      #edge_mask = explainer.explain_node(node_idx)\n",
    "\n",
    "      #Full Results\n",
    "      y = model(data.x, data.edge_index, data)\n",
    "      #y = model()\n",
    "      res_full, predlabel_full = nn.Softmax(dim=0)(y[node_idx, :]), torch.argmax(nn.Softmax(dim=0)(y[node_idx, :]))\n",
    "\n",
    "\n",
    "      #Explained results\n",
    "      indices = edge_mask.to_sparse().indices()\n",
    "      edge_mask.to_sparse().values()\n",
    "      i = data.edge_index.t()[indices].squeeze().t()\n",
    "      v = edge_mask.to_sparse().values()\n",
    "      e = torch.sparse_coo_tensor(i ,v )\n",
    "\n",
    "      ypred = model(data.x,i, data)\n",
    "      res, predlabel = nn.Softmax(dim=0)(ypred[node_idx, :]), torch.argmax(nn.Softmax(dim=0)(ypred[node_idx, :]))\n",
    "\n",
    "      print('true label:', data.y[node_idx], '\\n full model pred label:' ,predlabel_full, '\\n full model pred prob:', res_full[predlabel_full], '\\n size of full graph:', len(data.edge_index[0]),\n",
    "            '\\n explained pred label:',predlabel, '\\n explained pred prob:', res[predlabel], '\\n size of explained graph:', len(i[0]))\n"
   ]
  },
  {
   "cell_type": "code",
   "execution_count": 9,
   "metadata": {},
   "outputs": [],
   "source": [
    "from rgcn_model import adj, enrich, sum_sparse, RGCN\n",
    "\n",
    "model = torch.load('/Users/macoftraopia/Documents/GitHub/RGCN-Explainer/aifb_chk/model_aifb')\n"
   ]
  },
  {
   "cell_type": "code",
   "execution_count": null,
   "metadata": {},
   "outputs": [],
   "source": [
    "def hor_ver_graph(triples, n, r):\n",
    "    \"\"\" \n",
    "    input: triples, number of nodes, number of relations\n",
    "    output: hor_graph, ver_graph : horizontally and vertically stacked adjacency matrix\n",
    "    \"\"\"\n",
    "    #triples = enrich(triples_small, n, r)\n",
    "\n",
    "    hor_ind, hor_size = adj(triples, n, 2*r+1, vertical=False)\n",
    "    ver_ind, ver_size = adj(triples, n, 2*r+1, vertical=True)\n",
    "    #number of relations is 2*r+1 because we added the inverse and self loop\n",
    "\n",
    "    _, rn = hor_size #horizontally stacked adjacency matrix size\n",
    "    print(hor_size)\n",
    "    r = rn // n #number of relations enriched divided by number of nodes\n",
    "\n",
    "    vals = torch.ones(ver_ind.size(0), dtype=torch.float) #number of enriched triples\n",
    "    vals = vals / sum_sparse(ver_ind, vals, ver_size) #normalize the values by the number of edges\n",
    "\n",
    "    hor_graph = torch.sparse.FloatTensor(indices=hor_ind.t(), values=vals, size=hor_size) #size: n,r, emb\n",
    "\n",
    "\n",
    "    ver_graph = torch.sparse.FloatTensor(indices=ver_ind.t(), values=vals, size=ver_size)\n",
    "\n",
    "    return hor_graph, ver_graph\n",
    "\n",
    "hor_graph, ver_graph = hor_ver_graph(data.triples, data.num_entities, data.num_relations)\n",
    "ver_graph.coalesce().values()"
   ]
  },
  {
   "cell_type": "code",
   "execution_count": null,
   "metadata": {},
   "outputs": [],
   "source": [
    "n, rn = ver_graph.coalesce().indices().size()"
   ]
  },
  {
   "cell_type": "code",
   "execution_count": null,
   "metadata": {},
   "outputs": [],
   "source": [
    "len(data.i2e)"
   ]
  },
  {
   "cell_type": "code",
   "execution_count": null,
   "metadata": {},
   "outputs": [],
   "source": [
    "\n",
    "for node_idx in [0]:\n",
    "#explainer boy\n",
    "\n",
    "      x, edge_index = ver_graph.coalesce().values(), ver_graph.coalesce().indices()\n",
    "      explainer = GNNExplainer(model)\n",
    "      node_feat_mask, edge_mask = explainer.explain_node(node_idx, x, edge_index)\n",
    "      #edge_mask = explainer.explain_node(ver_graph)\n",
    "\n",
    "      #Full Results\n",
    "      y = model.forward3(ver_graph)\n",
    "      res_full, predlabel_full = nn.Softmax(dim=0)(y[node_idx, :]), torch.argmax(nn.Softmax(dim=0)(y[node_idx, :]))\n",
    "\n",
    "\n",
    "      #Explained results\n",
    "      indices = edge_mask.to_sparse().indices()\n",
    "      edge_mask.to_sparse().values()\n",
    "      i = data.edge_index.t()[indices].squeeze().t()\n",
    "      v = edge_mask.to_sparse().values()\n",
    "      e = torch.sparse_coo_tensor(i ,v )\n",
    "\n",
    "      ypred = model.forward3(i)\n",
    "      res, predlabel = nn.Softmax(dim=0)(ypred[node_idx, :]), torch.argmax(nn.Softmax(dim=0)(ypred[node_idx, :]))\n",
    "\n",
    "      print('true label:', data.y[node_idx], '\\n full model pred label:' ,predlabel_full, '\\n full model pred prob:', res_full[predlabel_full], '\\n size of full graph:', len(data.edge_index[0]),\n",
    "            '\\n explained pred label:',predlabel, '\\n explained pred prob:', res[predlabel], '\\n size of explained graph:', len(i[0]))\n"
   ]
  }
 ],
 "metadata": {
  "kernelspec": {
   "display_name": "base",
   "language": "python",
   "name": "python3"
  },
  "language_info": {
   "codemirror_mode": {
    "name": "ipython",
    "version": 3
   },
   "file_extension": ".py",
   "mimetype": "text/x-python",
   "name": "python",
   "nbconvert_exporter": "python",
   "pygments_lexer": "ipython3",
   "version": "3.9.12"
  },
  "orig_nbformat": 4,
  "vscode": {
   "interpreter": {
    "hash": "c30f2af5f468e7f5b45bcc30fca5f4886c90d54777aed916ed5f6294dfb24bf2"
   }
  }
 },
 "nbformat": 4,
 "nbformat_minor": 2
}
