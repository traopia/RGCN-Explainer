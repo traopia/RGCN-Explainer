{
 "cells": [
  {
   "cell_type": "code",
   "execution_count": 1,
   "metadata": {},
   "outputs": [
    {
     "ename": "ModuleNotFoundError",
     "evalue": "No module named 'torch'",
     "output_type": "error",
     "traceback": [
      "\u001B[0;31m---------------------------------------------------------------------------\u001B[0m",
      "\u001B[0;31mModuleNotFoundError\u001B[0m                       Traceback (most recent call last)",
      "Cell \u001B[0;32mIn[1], line 1\u001B[0m\n\u001B[0;32m----> 1\u001B[0m \u001B[38;5;28;01mimport\u001B[39;00m \u001B[38;5;21;01mtorch\u001B[39;00m \n\u001B[1;32m      2\u001B[0m \u001B[38;5;28;01mimport\u001B[39;00m \u001B[38;5;21;01mtorch\u001B[39;00m\u001B[38;5;21;01m.\u001B[39;00m\u001B[38;5;21;01mnn\u001B[39;00m \u001B[38;5;28;01mas\u001B[39;00m \u001B[38;5;21;01mnn\u001B[39;00m\n\u001B[1;32m      3\u001B[0m \u001B[38;5;28;01mimport\u001B[39;00m \u001B[38;5;21;01mtorch\u001B[39;00m\u001B[38;5;21;01m.\u001B[39;00m\u001B[38;5;21;01mnn\u001B[39;00m\u001B[38;5;21;01m.\u001B[39;00m\u001B[38;5;21;01mfunctional\u001B[39;00m \u001B[38;5;28;01mas\u001B[39;00m \u001B[38;5;21;01mF\u001B[39;00m\n",
      "\u001B[0;31mModuleNotFoundError\u001B[0m: No module named 'torch'"
     ]
    }
   ],
   "source": [
    "import torch \n",
    "import torch.nn as nn\n",
    "import torch.nn.functional as F\n",
    "import pandas as pd\n",
    "import numpy as np\n",
    "from tqdm import tqdm\n",
    "from collections import Counter\n",
    "import kgbench as kg\n",
    "import fire, sys\n",
    "\n",
    "from kgbench import load, tic, toc, d\n",
    "\n",
    "\n",
    "import numpy as np\n",
    "import matplotlib.pyplot as plt\n",
    "import matplotlib.cm as cm\n",
    "import matplotlib.colors as mcolors\n",
    "\n",
    "\n",
    "#\n",
    "from torch_geometric.utils import to_networkx\n",
    "import networkx as nx"
   ]
  },
  {
   "cell_type": "code",
   "execution_count": 2,
   "metadata": {},
   "outputs": [
    {
     "name": "stdout",
     "output_type": "stream",
     "text": [
      "Number of entities: 5\n",
      "Number of classes: 2\n",
      "Types of relations: 2\n"
     ]
    },
    {
     "data": {
      "text/plain": [
       "tensor([[0, 0, 1],\n",
       "        [1, 0, 2],\n",
       "        [0, 0, 2],\n",
       "        [2, 1, 3],\n",
       "        [4, 1, 3],\n",
       "        [4, 1, 0]], dtype=torch.int32)"
      ]
     },
     "execution_count": 2,
     "metadata": {},
     "output_type": "execute_result"
    }
   ],
   "source": [
    "data = kg.load('micro', torch=True) \n",
    "print(f'Number of entities: {data.num_entities}') #data.i2e\n",
    "print(f'Number of classes: {data.num_classes}')\n",
    "print(f'Types of relations: {data.num_relations}') #data.i2r\n",
    "data.triples"
   ]
  },
  {
   "cell_type": "code",
   "execution_count": 3,
   "metadata": {},
   "outputs": [],
   "source": [
    "def edge_index_oneadj(data):\n",
    "    edge_index = torch.stack((data.triples[:, 0], data.triples[:, 2]),dim=0)\n",
    "    return edge_index\n"
   ]
  },
  {
   "cell_type": "code",
   "execution_count": 10,
   "metadata": {},
   "outputs": [
    {
     "name": "stdout",
     "output_type": "stream",
     "text": [
      "edge index:  tensor([[0, 1, 0, 2, 4, 4],\n",
      "        [1, 2, 2, 3, 3, 0]], dtype=torch.int32)\n",
      "{0: [1, 2, 4], 1: [0, 2], 2: [1, 0, 3], 3: [2, 4], 4: [3, 0]}\n"
     ]
    }
   ],
   "source": [
    "# example sparse tensor with edge indices\n",
    "edge_index = edge_index_oneadj(data)\n",
    "print('edge index: ', edge_index)\n",
    "#edge_index = torch.tensor([[0, 0, 1, 2], [1, 2, 0, 1]])\n",
    "\n",
    "# create dictionary of node neighborhoods\n",
    "neighborhoods = {}\n",
    "for i in range(edge_index.max().item() + 1):\n",
    "    neighborhoods[i] = []\n",
    "\n",
    "# iterate over edge indices and populate neighborhoods dictionary\n",
    "for j in range(edge_index.shape[1]):\n",
    "    src, dst = edge_index[0, j].item(), edge_index[1, j].item()\n",
    "    neighborhoods[src].append(dst)\n",
    "    neighborhoods[dst].append(src)\n",
    "\n",
    "print(neighborhoods)"
   ]
  },
  {
   "cell_type": "code",
   "execution_count": 14,
   "metadata": {},
   "outputs": [
    {
     "name": "stdout",
     "output_type": "stream",
     "text": [
      "{0: {0, 1, 2, 3, 4}, 1: {0, 1, 2, 3, 4}, 2: {0, 1, 2, 3, 4}, 3: {0, 1, 2, 3, 4}, 4: {0, 1, 2, 3, 4}}\n"
     ]
    }
   ],
   "source": [
    "import torch\n",
    "\n",
    "# example sparse tensor with edge indices\n",
    "#edge_index = torch.tensor([[0, 0, 1, 2], [1, 2, 0, 1]])\n",
    "\n",
    "def find_n_hop_neighbors(edge_index, n):\n",
    "    # create dictionary of node neighborhoods\n",
    "    neighborhoods = {}\n",
    "    for i in range(edge_index.max().item() + 1):\n",
    "        neighborhoods[i] = set()\n",
    "\n",
    "    # find 1-hop neighbors\n",
    "    for j in range(edge_index.shape[1]):\n",
    "        src, dst = edge_index[0, j].item(), edge_index[1, j].item()\n",
    "        neighborhoods[src].add(dst)\n",
    "        neighborhoods[dst].add(src)\n",
    "\n",
    "    # find n-hop neighbors\n",
    "    for k in range(2, n+1):\n",
    "        for i in range(edge_index.max().item() + 1):\n",
    "            neighbors = list(neighborhoods[i])\n",
    "            for j in range(len(neighbors)):\n",
    "                neighbor = neighbors[j]\n",
    "                for l in neighborhoods[neighbor]:\n",
    "                    neighborhoods[i].add(l)\n",
    "                \n",
    "    return neighborhoods\n",
    "\n",
    "# test with n=2\n",
    "neighborhoods = find_n_hop_neighbors(edge_index, n=2)\n",
    "print(neighborhoods)\n"
   ]
  }
 ],
 "metadata": {
  "kernelspec": {
   "display_name": "base",
   "language": "python",
   "name": "python3"
  },
  "language_info": {
   "codemirror_mode": {
    "name": "ipython",
    "version": 3
   },
   "file_extension": ".py",
   "mimetype": "text/x-python",
   "name": "python",
   "nbconvert_exporter": "python",
   "pygments_lexer": "ipython3",
   "version": "3.9.12"
  },
  "orig_nbformat": 4
 },
 "nbformat": 4,
 "nbformat_minor": 2
}
