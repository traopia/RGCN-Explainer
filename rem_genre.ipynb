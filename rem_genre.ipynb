{
 "cells": [
  {
   "cell_type": "code",
   "execution_count": 22,
   "metadata": {},
   "outputs": [],
   "source": [
    "import csv\n",
    "import gzip\n",
    "import torch\n",
    "\n",
    "version = 'dbo_gender'\n",
    "name = version\n"
   ]
  },
  {
   "cell_type": "code",
   "execution_count": 23,
   "metadata": {},
   "outputs": [],
   "source": [
    "import gzip\n",
    "import csv\n",
    "\n",
    "def convert_csv_gz_to_csv(input_file, output_file):\n",
    "    with gzip.open(input_file, 'rt') as gz_file:\n",
    "        with open(output_file, 'w', newline='') as csv_file:\n",
    "            csv_writer = csv.writer(csv_file)\n",
    "            for line in gz_file:\n",
    "                row = line.strip().split(',')\n",
    "                csv_writer.writerow(row)\n",
    "\n",
    "input_file = f'datasets-conversion/{version}/triples.int.csv.gz'  # Replace with the path to your input .csv.gz file\n",
    "output_file = f'datasets-conversion/{version}/triples.int.csv'   # Replace with the desired path for the output .csv file\n",
    "\n",
    "convert_csv_gz_to_csv(input_file, output_file)\n"
   ]
  },
  {
   "cell_type": "code",
   "execution_count": 24,
   "metadata": {},
   "outputs": [],
   "source": [
    "import kgbench as kg\n",
    "from kgbench.load import Data, fastload\n",
    "def remove_genre(input_file, output_file, numbers_to_remove):\n",
    "    with open(input_file, 'r') as f_in, open(output_file, 'w', newline='') as f_out:\n",
    "        reader = csv.reader(f_in)\n",
    "        writer = csv.writer(f_out)\n",
    "        \n",
    "        for row in reader:\n",
    "            if int(row[1]) not in numbers_to_remove:\n",
    "                writer.writerow(row)\n",
    "\n",
    "triples = fastload('datasets-conversion/imdb_4genres/triples.int.csv.gz')\n",
    "\n",
    "output_file = f'datasets-conversion/{version}/triples_cleaned.int.csv'\n",
    "input_file = f'datasets-conversion/{version}/triples.int.csv'\n",
    "numbers_to_remove = [222]\n",
    "remove_genre(input_file, output_file, numbers_to_remove)"
   ]
  },
  {
   "cell_type": "code",
   "execution_count": 25,
   "metadata": {},
   "outputs": [],
   "source": [
    "def convert_csv_to_gz(csv_file, csv_file_gz):\n",
    "    with gzip.open(csv_file_gz, 'wt', encoding='utf-8') as f:\n",
    "        csv_writer = csv.writer(f)\n",
    "        with open(csv_file, 'r', encoding='utf-8') as csvfile:\n",
    "            csv_reader = csv.reader(csvfile)\n",
    "            for row in csv_reader:\n",
    "                csv_writer.writerow([col.encode('utf-8') for col in row])\n",
    "\n",
    "convert_csv_to_gz(f'datasets-conversion/{version}/triples_cleaned.int.csv',f'datasets-conversion/{version}/triples_cleaned.int.csv.gz')"
   ]
  }
 ],
 "metadata": {
  "kernelspec": {
   "display_name": "base",
   "language": "python",
   "name": "python3"
  },
  "language_info": {
   "codemirror_mode": {
    "name": "ipython",
    "version": 3
   },
   "file_extension": ".py",
   "mimetype": "text/x-python",
   "name": "python",
   "nbconvert_exporter": "python",
   "pygments_lexer": "ipython3",
   "version": "3.9.12"
  },
  "orig_nbformat": 4
 },
 "nbformat": 4,
 "nbformat_minor": 2
}
