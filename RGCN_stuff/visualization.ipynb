{
 "cells": [
  {
   "cell_type": "code",
   "execution_count": 1,
   "metadata": {},
   "outputs": [],
   "source": [
    "\n",
    "#import matplotlib.pyplot as plt\n",
    "import os\n",
    "import torch\n",
    "from src.rgcn_explainer_utils import *\n",
    "import pandas as pd\n",
    "import numpy as np\n",
    "import src.kgbench as kg"
   ]
  },
  {
   "cell_type": "code",
   "execution_count": 2,
   "metadata": {},
   "outputs": [
    {
     "name": "stdout",
     "output_type": "stream",
     "text": [
      "/Users/macoftraopia/Documents/GitHub/RGCN-Explainer\n"
     ]
    }
   ],
   "source": [
    "# Get the current directory\n",
    "current_dir = os.getcwd()\n",
    "\n",
    "# Get the parent directory\n",
    "parent_dir = os.path.dirname(current_dir)\n",
    "\n",
    "# Check if the current directory is already the parent directory\n",
    "if current_dir != '/Users/macoftraopia/Documents/GitHub/RGCN-Explainer':\n",
    "    # Set the parent directory as the current directory\n",
    "    os.chdir(parent_dir)\n",
    "!pwd"
   ]
  },
  {
   "cell_type": "code",
   "execution_count": 59,
   "metadata": {},
   "outputs": [
    {
     "name": "stdout",
     "output_type": "stream",
     "text": [
      "loaded data aifb (0.3997s).\n"
     ]
    }
   ],
   "source": [
    "path = 'chk/aifb_chk/exp/init_normal_hops_2_lr_0.1_adaptive_False_size_5e-05_sizestd_adaptive_ent_10_type_1_killtype_True_break_no/masked_adj'\n",
    "#path = 'chk/aifb_chk/exp/init_normal_hops_2_lr_0.1_adaptive_False_size_5e-05_sizestd_adaptive_ent_10_type_-1_killtype_False_break_no/masked_adj'\n",
    "path = 'chk/aifb_chk/exp/init_normal_hops_2_lr_0.1_adaptive_False_size_5e-05_sizestd_adaptive_ent_-1_type_-1_killtype_True_break_no/masked_adj'\n",
    "node_idx = 5752\n",
    "n_hop = 2\n",
    "threshold = 0.5\n",
    "name = 'aifb'\n",
    "data = kg.load(name, torch=True)\n",
    "d_classes(data)\n",
    "\n",
    "\n",
    "v = torch.load(f'{path}/masked_ver{node_idx}')\n",
    "h = torch.load(f'{path}/masked_hor{node_idx}')"
   ]
  },
  {
   "cell_type": "code",
   "execution_count": 60,
   "metadata": {},
   "outputs": [
    {
     "data": {
      "text/plain": [
       "tensor(0.5177)"
      ]
     },
     "execution_count": 60,
     "metadata": {},
     "output_type": "execute_result"
    }
   ],
   "source": [
    "h_t, v_t,t = threshold_mask(h,v,data,15)\n",
    "t"
   ]
  },
  {
   "cell_type": "code",
   "execution_count": 64,
   "metadata": {},
   "outputs": [
    {
     "name": "stdout",
     "output_type": "stream",
     "text": [
      "9\n",
      "9\n",
      "12\n",
      "Counter({'author': 3, 'publication': 3})\n"
     ]
    },
    {
     "data": {
      "text/plain": [
       "Counter({'author': 3, 'publication': 3})"
      ]
     },
     "execution_count": 64,
     "metadata": {},
     "output_type": "execute_result"
    },
    {
     "data": {
      "image/png": "[encoded data removed]",
      "text/plain": [
       "<Figure size 640x480 with 1 Axes>"
      ]
     },
     "metadata": {},
     "output_type": "display_data"
    }
   ],
   "source": [
    "visualize(node_idx, n_hop, data, v_t,threshold,name, result_weights=False, low_threshold=False,experiment_name=None, selected_visualization=True,connected_subgraph=True)"
   ]
  },
  {
   "cell_type": "code",
   "execution_count": 63,
   "metadata": {},
   "outputs": [
    {
     "ename": "KeyError",
     "evalue": "0",
     "output_type": "error",
     "traceback": [
      "\u001b[0;31m---------------------------------------------------------------------------\u001b[0m",
      "\u001b[0;31mKeyError\u001b[0m                                  Traceback (most recent call last)",
      "Cell \u001b[0;32mIn[63], line 119\u001b[0m\n\u001b[1;32m    116\u001b[0m         \u001b[39m#plt.show()\u001b[39;00m\n\u001b[1;32m    117\u001b[0m         \u001b[39mreturn\u001b[39;00m res\n\u001b[0;32m--> 119\u001b[0m visualize(node_idx, n_hop, data, v_t,threshold,name, result_weights\u001b[39m=\u001b[39;49m\u001b[39mFalse\u001b[39;49;00m, low_threshold\u001b[39m=\u001b[39;49m\u001b[39mFalse\u001b[39;49;00m,experiment_name\u001b[39m=\u001b[39;49m\u001b[39mNone\u001b[39;49;00m, selected_visualization\u001b[39m=\u001b[39;49m\u001b[39mTrue\u001b[39;49;00m,connected_subgraph\u001b[39m=\u001b[39;49m\u001b[39mFalse\u001b[39;49;00m)\n",
      "Cell \u001b[0;32mIn[63], line 56\u001b[0m, in \u001b[0;36mvisualize\u001b[0;34m(node_idx, n_hop, data, masked_ver, threshold, name, result_weights, low_threshold, experiment_name, selected_visualization, connected_subgraph)\u001b[0m\n\u001b[1;32m     54\u001b[0m         ordered_dict[item]\u001b[39m.\u001b[39mappend(dict_index[item])\n\u001b[1;32m     55\u001b[0m     \u001b[39melse\u001b[39;00m:\n\u001b[0;32m---> 56\u001b[0m         ordered_dict[item] \u001b[39m=\u001b[39m  dict_index[item]\n\u001b[1;32m     58\u001b[0m dict_index \u001b[39m=\u001b[39m ordered_dict\n\u001b[1;32m     60\u001b[0m labeldict \u001b[39m=\u001b[39m {}\n",
      "\u001b[0;31mKeyError\u001b[0m: 0"
     ]
    }
   ],
   "source": [
    "def visualize(node_idx, n_hop, data, masked_ver,threshold,name, result_weights=True, low_threshold=False,experiment_name=None, selected_visualization=True, connected_subgraph = True):\n",
    "    \"\"\" \n",
    "    Visualize important nodes for node idx prediction\n",
    "    \"\"\"\n",
    "    get_relations(data)\n",
    "    dict_index = dict_index_classes(data,masked_ver)\n",
    "    \n",
    "    #select only nodes with a certain threshold\n",
    "    if selected_visualization:\n",
    "        sel_masked_ver = sub_sparse_tensor(masked_ver, threshold,data, low_threshold)\n",
    "        sel_masked_hor = sub_sparse_tensor(masked_ver, threshold,data, low_threshold)\n",
    "    else:\n",
    "        sel_masked_ver = masked_ver\n",
    "        sel_masked_hor = masked_ver\n",
    "    if len(sel_masked_ver)==0:\n",
    "        sel_masked_ver=sub_sparse_tensor(masked_ver, 0,data, low_threshold)\n",
    "    #print('sel masked ver',sel_masked_ver)\n",
    "    indices_nodes = sel_masked_ver.coalesce().indices().detach().numpy()\n",
    "    new_index = np.transpose(np.stack((indices_nodes[0], indices_nodes[1]))) #original edge indexes\n",
    "\n",
    "    \n",
    "    \n",
    "    G = nx.Graph()\n",
    "    if result_weights:\n",
    "        values = sel_masked_ver.coalesce().values().tolist()\n",
    "        for s,p,o in zip(indices_nodes[0],values , indices_nodes[1]):\n",
    "            G.add_edge(int(s), int(o), weight=np.round(p, 2))\n",
    "\n",
    "    else:\n",
    "\n",
    "        triples_matched = match_to_triples(sel_masked_ver,sel_masked_hor, data)\n",
    "        l = []\n",
    "        for i in triples_matched[:,1]:\n",
    "            l.append(data.i2rel[int(i)][0])\n",
    "        triples_matched = find_repeating_sublists(triples_matched.tolist())\n",
    "        for s,p,o in triples_matched:\n",
    "            G.add_edge(int(s), int(o), weight=p)\n",
    "    if connected_subgraph:\n",
    "        #conncected subgraph\n",
    "        connected_components = nx.connected_components(G)\n",
    "        component = next(connected_components)\n",
    "        G = G.subgraph(component)\n",
    "\n",
    "    edges,weights = zip(*nx.get_edge_attributes(G,'weight').items())\n",
    "    weights = [[item] if not isinstance(item, list) else item for item in weights]\n",
    "\n",
    "\n",
    "    pos = nx.circular_layout(G)\n",
    "    #pos = nx.spring_layout(G)\n",
    "\n",
    "    ordered_dict = {}\n",
    "    for item in list(G.nodes):\n",
    "        if item in ordered_dict:\n",
    "            ordered_dict[item].append(dict_index[item])\n",
    "        else:\n",
    "            ordered_dict[item] =  dict_index[item]\n",
    "\n",
    "    dict_index = ordered_dict\n",
    "\n",
    "    labeldict = {}\n",
    "    for node in G.nodes:\n",
    "        labeldict[int(node)] = int(node)  \n",
    "\n",
    "    dict = {}\n",
    "    for k,v in dict_index.items():\n",
    "        for k1,v1 in data.entities_classes.items():\n",
    "            if v==k1: \n",
    "\n",
    "                dict[k] = v1\n",
    "                print(v1)\n",
    "            else:\n",
    "                if k not in dict:\n",
    "                    dict[k] = 0\n",
    "                \n",
    "\n",
    "    color_list = list(dict.values())\n",
    "    #color_list = list(encode_dict(dict_index).values())\n",
    "    col_weights = [weights[i][0] for i in range(len(weights))]\n",
    "    if result_weights:\n",
    "        \n",
    "        nx.draw(G, pos,labels = labeldict,  edgelist=edges, edge_color=col_weights, node_color =  color_list, cmap=\"Set2\",edge_cmap=plt.cm.Reds,font_size=8)\n",
    "        nx.draw_networkx_edge_labels( G, pos,edge_labels=nx.get_edge_attributes(G,'weight'),font_size=8,font_color='red')\n",
    "        sm = plt.cm.ScalarMappable(cmap=plt.cm.Reds, norm=plt.Normalize(vmin=0, vmax=1))\n",
    "        sm.set_array(weights)\n",
    "        cbar = plt.colorbar(sm)\n",
    "        cbar.ax.set_title('Weight')\n",
    "        plt.title(\"Node {}'s {}-hop neighborhood important nodes\".format(node_idx, n_hop))\n",
    "    else:\n",
    "        re = nx.get_edge_attributes(G, 'weight')\n",
    "        rel =  {k: list(set(v)) for k, v in re.items()}\n",
    "\n",
    "        for k, v in rel.items():\n",
    "            if isinstance(v, list):\n",
    "                updated_values = [data.i2rel[item][0] for item in v]\n",
    "                rel[k] = updated_values\n",
    "            else:\n",
    "                rel[k] = data.i2rel[v][0]\n",
    "\n",
    "        col_weights = [sum(weights[i]) if len(weights[i]) > 1 else weights[i][0] for i in range(len(weights))]\n",
    "        nx.draw(G, pos,labels = labeldict, edge_color=col_weights,edgelist=edges,node_color =  color_list, cmap=\"Set2\",font_size=7, arrows = True)\n",
    "        nx.draw_networkx_edge_labels( G, pos,edge_labels=rel,font_size=5,font_color='red')\n",
    "        \n",
    "        res = Counter(unnest_list(rel.values()))\n",
    "        print(res)\n",
    "    if result_weights:\n",
    "        if not os.path.exists(f'chk/{name}_chk/{experiment_name}⁄graphs'):\n",
    "            os.makedirs(f'chk/{name}_chk/{experiment_name}⁄graphs')  \n",
    "        plt.savefig(f'chk/{name}_chk/{experiment_name}⁄graphs/Explanation_{node_idx}_weights.png')\n",
    "\n",
    "        #plt.show()\n",
    "\n",
    "    else:\n",
    "        if not os.path.exists(f'chk/{name}_chk/{experiment_name}⁄graphs'):\n",
    "            os.makedirs(f'chk/{name}_chk/{experiment_name}⁄graphs')  \n",
    "        plt.savefig(f'chk/{name}_chk/{experiment_name}⁄graphs/Explanation_{node_idx}_relations.png')    \n",
    "        #plt.show()\n",
    "        return res\n",
    "    \n",
    "visualize(node_idx, n_hop, data, v_t,threshold,name, result_weights=False, low_threshold=False,experiment_name=None, selected_visualization=True,connected_subgraph=False)\n",
    "\n"
   ]
  },
  {
   "cell_type": "code",
   "execution_count": 42,
   "metadata": {},
   "outputs": [
    {
     "name": "stdout",
     "output_type": "stream",
     "text": [
      "Counter({'author': 2, 'isWorkedOnBy': 2, 'member': 1, 'publication': 1})\n"
     ]
    },
    {
     "name": "stderr",
     "output_type": "stream",
     "text": [
      "/usr/local/Caskroom/miniconda/base/lib/python3.9/site-packages/networkx/drawing/nx_pylab.py:433: UserWarning: No data for colormapping provided via 'c'. Parameters 'cmap' will be ignored\n",
      "  node_collection = ax.scatter(\n"
     ]
    },
    {
     "data": {
      "text/plain": [
       "Counter({'author': 2, 'isWorkedOnBy': 2, 'member': 1, 'publication': 1})"
      ]
     },
     "execution_count": 42,
     "metadata": {},
     "output_type": "execute_result"
    },
    {
     "data": {
      "image/png": "[encoded data removed]",
      "text/plain": [
       "<Figure size 640x480 with 1 Axes>"
      ]
     },
     "metadata": {},
     "output_type": "display_data"
    }
   ],
   "source": [
    "visualize(node_idx, n_hop, data, v,threshold,name, result_weights=False, low_threshold=False,experiment_name=None, selected_visualization=True, connected_subgraph=False)"
   ]
  }
 ],
 "metadata": {
  "kernelspec": {
   "display_name": "base",
   "language": "python",
   "name": "python3"
  },
  "language_info": {
   "codemirror_mode": {
    "name": "ipython",
    "version": 3
   },
   "file_extension": ".py",
   "mimetype": "text/x-python",
   "name": "python",
   "nbconvert_exporter": "python",
   "pygments_lexer": "ipython3",
   "version": "3.9.12"
  },
  "orig_nbformat": 4
 },
 "nbformat": 4,
 "nbformat_minor": 2
}
