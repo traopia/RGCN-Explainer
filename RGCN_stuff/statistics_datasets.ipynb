{
 "cells": [
  {
   "cell_type": "code",
   "execution_count": 31,
   "metadata": {},
   "outputs": [],
   "source": [
    "import src.kgbench as kg\n",
    "from src.rgcn_explainer_utils import *\n",
    "import torch\n",
    "\n"
   ]
  },
  {
   "cell_type": "code",
   "execution_count": 32,
   "metadata": {},
   "outputs": [
    {
     "name": "stdout",
     "output_type": "stream",
     "text": [
      "/Users/macoftraopia/Documents/GitHub/RGCN-Explainer\n"
     ]
    }
   ],
   "source": [
    "import os\n",
    "\n",
    "# Get the current directory\n",
    "current_dir = os.getcwd()\n",
    "\n",
    "# Get the parent directory\n",
    "parent_dir = os.path.dirname(current_dir)\n",
    "\n",
    "# Check if the current directory is already the parent directory\n",
    "if current_dir != '/Users/macoftraopia/Documents/GitHub/RGCN-Explainer':\n",
    "    # Set the parent directory as the current directory\n",
    "    os.chdir(parent_dir)\n",
    "!pwd"
   ]
  },
  {
   "cell_type": "code",
   "execution_count": 47,
   "metadata": {},
   "outputs": [
    {
     "name": "stdout",
     "output_type": "stream",
     "text": [
      "rel: 225 ent: 11534 triples: torch.Size([15029, 3])\n",
      "training torch.Size([466, 2]) withheld torch.Size([251, 2])\n"
     ]
    }
   ],
   "source": [
    "import kgbench as kg\n",
    "from src.rgcn_explainer_utils import *\n",
    "name = 'dbo_gender'\n",
    "if name in ['aifb', 'mutag', 'bgs', 'am', 'mdgenre']:\n",
    "    data = kg.load(name, torch=True, final=False)\n",
    "if 'IMDb' in name:    \n",
    "    data = torch.load(f'data/IMDB/finals/{name}.pt')\n",
    "if 'dbo' in name:\n",
    "    data = torch.load(f'data/DBO/finals/{name}.pt')\n",
    "get_relations(data)\n",
    "relations = [data.i2rel[i][0] for i in range(len(data.i2rel))]\n",
    "data.triples = torch.Tensor(data.triples).to(int)\n",
    "data.withheld = torch.Tensor(data.withheld).to(int)\n",
    "data.training = torch.Tensor(data.training).to(int)\n",
    "print('rel:', data.num_relations, 'ent:', data.num_entities, 'triples:', data.triples.shape)\n",
    "print('training', data.training.shape, 'withheld', data.withheld.shape)"
   ]
  },
  {
   "cell_type": "code",
   "execution_count": 35,
   "metadata": {},
   "outputs": [],
   "source": [
    "data.triples = torch.Tensor(data.triples).to(int)\n",
    "data.withheld = torch.Tensor(data.withheld).to(int)\n",
    "data.training = torch.Tensor(data.training).to(int)\n",
    "data.entities = np.append(data.triples[:,0].detach().numpy(),(data.triples[:,2].detach().numpy()))\n",
    "relations = get_relations(data)\n",
    "\n",
    "#d_classes(data)"
   ]
  },
  {
   "cell_type": "code",
   "execution_count": 14,
   "metadata": {},
   "outputs": [],
   "source": [
    "# val = data.withheld[:,0]\n",
    "# most_common_node = {}\n",
    "# for i in val:\n",
    "#     sub_edges, neighborhoods, sub_edges_tensor = find_n_hop_neighbors(data, 2,int(i), adj=True)\n",
    "\n",
    "#     counter = Counter([num for tup in sub_edges for num in tup]).most_common(1)[0][0]\n",
    "#     most_common_node[int(i)] = counter"
   ]
  },
  {
   "cell_type": "code",
   "execution_count": 36,
   "metadata": {},
   "outputs": [
    {
     "name": "stdout",
     "output_type": "stream",
     "text": [
      "{'http://purl.org/dc/terms/subject': 3374, 'http://dbpedia.org/ontology/careerStation': 1930, 'http://dbpedia.org/ontology/team': 1442, 'http://dbpedia.org/ontology/birthPlace': 1332, 'http://www.w3.org/ns/prov#wasDerivedFrom': 984, 'http://xmlns.com/foaf/0.1/isPrimaryTopicOf': 948, 'http://purl.org/linguistics/gold/hypernym': 849, 'http://dbpedia.org/ontology/wikiPageExternalLink': 639, 'http://dbpedia.org/ontology/position': 313, 'http://dbpedia.org/ontology/occupation': 306, 'http://dbpedia.org/ontology/thumbnail': 274, 'http://dbpedia.org/ontology/deathPlace': 193, 'http://dbpedia.org/ontology/nationality': 171, 'http://dbpedia.org/ontology/managerClub': 157, 'http://xmlns.com/foaf/0.1/depiction': 146, 'http://xmlns.com/foaf/0.1/homepage': 131, 'http://dbpedia.org/ontology/genre': 93, 'http://dbpedia.org/ontology/almaMater': 87, 'http://dbpedia.org/ontology/formerTeam': 71, 'http://dbpedia.org/property/sport': 59, 'http://dbpedia.org/ontology/termPeriod': 58, 'http://dbpedia.org/ontology/stateOfOrigin': 58, 'http://dbpedia.org/ontology/hometown': 57, 'http://dbpedia.org/ontology/instrument': 54, 'http://dbpedia.org/ontology/award': 47, 'http://dbpedia.org/ontology/recordLabel': 43, 'http://dbpedia.org/ontology/associatedBand': 43, 'http://dbpedia.org/ontology/associatedMusicalArtist': 43, 'http://dbpedia.org/ontology/residence': 42, 'http://dbpedia.org/property/birthPlace': 41, 'http://dbpedia.org/ontology/field': 40, 'http://dbpedia.org/ontology/party': 39, 'http://dbpedia.org/ontology/country': 36, 'http://dbpedia.org/property/title': 31, 'http://dbpedia.org/ontology/spouse': 31, 'http://dbpedia.org/ontology/battle': 29, 'http://dbpedia.org/ontology/successor': 27, 'http://dbpedia.org/property/managerclubs': 27, 'http://dbpedia.org/ontology/knownFor': 26, 'http://dbpedia.org/property/clubs': 24, 'http://dbpedia.org/ontology/predecessor': 23, 'http://dbpedia.org/property/event': 23, 'http://dbpedia.org/ontology/league': 20, 'http://dbpedia.org/ontology/nationalTeam': 19, 'http://dbpedia.org/property/list': 19, 'http://dbpedia.org/property/after': 18, 'http://dbpedia.org/property/before': 17, 'http://dbpedia.org/ontology/parent': 16, 'http://dbpedia.org/property/indivhonour': 16, 'http://dbpedia.org/ontology/religion': 15, 'http://dbpedia.org/property/deathPlace': 15, 'http://dbpedia.org/ontology/primeMinister': 14, 'http://dbpedia.org/ontology/club': 14, 'http://dbpedia.org/property/strokes': 13, 'http://dbpedia.org/ontology/militaryBranch': 12, 'http://dbpedia.org/property/predecessor': 12, 'http://dbpedia.org/property/education': 11, 'http://dbpedia.org/ontology/training': 11, 'http://dbpedia.org/ontology/education': 11, 'http://dbpedia.org/property/proteam': 10, 'http://dbpedia.org/ontology/president': 10, 'http://dbpedia.org/ontology/veneratedIn': 10, 'http://dbpedia.org/ontology/movement': 9, 'http://dbpedia.org/ontology/mainInterest': 9, 'http://dbpedia.org/property/club': 8, 'http://dbpedia.org/ontology/restingPlace': 8, 'http://dbpedia.org/property/workInstitutions': 8, 'http://dbpedia.org/property/rank': 8, 'http://dbpedia.org/ontology/citizenship': 8, 'http://dbpedia.org/ontology/child': 8, 'http://dbpedia.org/ontology/college': 7, 'http://dbpedia.org/ontology/mission': 7, 'http://dbpedia.org/ontology/ethnicity': 7, 'http://dbpedia.org/ontology/influencedBy': 7, 'http://dbpedia.org/property/weightClass': 6, 'http://dbpedia.org/property/nationalteam': 6, 'http://dbpedia.org/property/youthclubs': 6, 'http://dbpedia.org/property/discipline': 6, 'http://dbpedia.org/property/teams': 6, 'http://dbpedia.org/ontology/creator': 6, 'http://dbpedia.org/property/television': 5, 'http://dbpedia.org/property/extour': 5, 'http://dbpedia.org/ontology/discipline': 5, 'http://dbpedia.org/property/preceded': 4, 'http://dbpedia.org/property/almaMater': 4, 'http://dbpedia.org/property/style': 4, 'http://dbpedia.org/ontology/militaryUnit': 4, 'http://dbpedia.org/property/instruments': 4, 'http://dbpedia.org/ontology/draftTeam': 4, 'http://dbpedia.org/property/teamhonour': 4, 'http://dbpedia.org/property/institutions': 4, 'http://dbpedia.org/property/residence': 4, 'http://dbpedia.org/property/house': 4, 'http://dbpedia.org/ontology/personFunction': 4, 'http://dbpedia.org/property/issue': 4, 'http://purl.org/dc/elements/1.1/subject': 4, 'http://dbpedia.org/property/minister': 4, 'http://dbpedia.org/property/notableWorks': 3, 'http://dbpedia.org/property/associatedArtists': 3, 'http://dbpedia.org/property/source': 3, 'http://dbpedia.org/ontology/doctoralAdvisor': 3, 'http://www.w3.org/2002/07/owl#differentFrom': 3, 'http://dbpedia.org/ontology/relation': 3, 'http://dbpedia.org/ontology/relative': 3, 'http://dbpedia.org/ontology/employer': 3, 'http://dbpedia.org/property/workplaces': 3, 'http://dbpedia.org/property/fightingOutOf': 3, 'http://dbpedia.org/property/nationality': 3, 'http://dbpedia.org/property/career': 3, 'http://dbpedia.org/ontology/deathCause': 3, 'http://dbpedia.org/property/constituencyMp': 3, 'http://dbpedia.org/ontology/coach': 3, 'http://dbpedia.org/property/skis': 3, 'http://dbpedia.org/ontology/choreographer': 3, 'http://dbpedia.org/ontology/formerPartner': 3, 'http://dbpedia.org/property/competitions': 3, 'http://dbpedia.org/property/succeeded': 2, 'http://dbpedia.org/ontology/institution': 2, 'http://dbpedia.org/property/ethnicity': 2, 'http://dbpedia.org/property/organization': 2, 'http://dbpedia.org/property/prevrests': 2, 'http://dbpedia.org/property/restaurants': 2, 'http://dbpedia.org/property/college': 2, 'http://dbpedia.org/property/current': 2, 'http://dbpedia.org/property/position': 2, 'http://dbpedia.org/property/birthPlac': 2, 'http://dbpedia.org/property/religion': 2, 'http://dbpedia.org/ontology/notableStudent': 2, 'http://dbpedia.org/property/workInstitution': 2, 'http://dbpedia.org/ontology/debutTeam': 2, 'http://dbpedia.org/property/stat1label': 2, 'http://dbpedia.org/property/stat2label': 2, 'http://dbpedia.org/property/currentclub': 2, 'http://dbpedia.org/ontology/selection': 2, 'http://dbpedia.org/property/citizenship': 2, 'http://dbpedia.org/ontology/region': 2, 'http://dbpedia.org/property/awards': 2, 'http://dbpedia.org/property/honorificPrefix': 2, 'http://dbpedia.org/ontology/militaryRank': 2, 'http://dbpedia.org/property/succession': 2, 'http://dbpedia.org/ontology/majorShrine': 2, 'http://dbpedia.org/property/website': 2, 'http://dbpedia.org/property/collegeteam': 2, 'http://dbpedia.org/property/currenttraininglocations': 2, 'http://dbpedia.org/property/team': 2, 'http://dbpedia.org/ontology/beatifiedPlace': 2, 'http://dbpedia.org/ontology/partner': 2, 'http://dbpedia.org/property/bowling': 2, 'http://dbpedia.org/property/tour': 2, 'http://dbpedia.org/property/publisher': 2, 'http://dbpedia.org/property/format': 2, 'http://dbpedia.org/ontology/series': 2, 'http://dbpedia.org/ontology/doctoralStudent': 2, 'http://dbpedia.org/property/honorificSuffix': 2, 'http://dbpedia.org/property/restingPlace': 2, 'http://dbpedia.org/property/birthDate': 1, 'http://dbpedia.org/ontology/voiceType': 1, 'http://dbpedia.org/property/rthktop10goldsongsawards': 1, 'http://dbpedia.org/property/highSchool': 1, 'http://dbpedia.org/ontology/significantBuilding': 1, 'http://dbpedia.org/property/ratings': 1, 'http://dbpedia.org/property/playingTeam': 1, 'http://dbpedia.org/ontology/significantProject': 1, 'http://dbpedia.org/ontology/profession': 1, 'http://dbpedia.org/property/url': 1, 'http://dbpedia.org/property/burialPlace': 1, 'http://dbpedia.org/property/battles': 1, 'http://dbpedia.org/property/writings': 1, 'http://dbpedia.org/property/labelName': 1, 'http://dbpedia.org/property/country': 1, 'http://dbpedia.org/property/weight': 1, 'http://dbpedia.org/ontology/prospectLeague': 1, 'http://dbpedia.org/ontology/prospectTeam': 1, 'http://dbpedia.org/property/majorwins': 1, 'http://dbpedia.org/ontology/otherParty': 1, 'http://dbpedia.org/property/deputy': 1, 'http://dbpedia.org/property/party': 1, 'http://dbpedia.org/property/league': 1, 'http://dbpedia.org/ontology/language': 1, 'http://dbpedia.org/ontology/notableWork': 1, 'http://dbpedia.org/property/conviction': 1, 'http://dbpedia.org/property/convictionStatus': 1, 'http://dbpedia.org/property/gender': 1, 'http://dbpedia.org/property/hometown': 1, 'http://dbpedia.org/property/classification': 1, 'http://dbpedia.org/property/relative': 1, 'http://dbpedia.org/ontology/beatifiedBy': 1, 'http://dbpedia.org/property/ridertype': 1, 'http://dbpedia.org/property/dynasty': 1, 'http://dbpedia.org/property/living': 1, 'http://dbpedia.org/property/workPlaces': 1, 'http://dbpedia.org/property/practice': 1, 'http://dbpedia.org/property/column': 1, 'http://dbpedia.org/property/missPhilippinesAir': 1, 'http://dbpedia.org/property/missPhilippinesEarth': 1, 'http://dbpedia.org/property/missPhilippinesEcoTourism': 1, 'http://dbpedia.org/property/missPhilippinesWater': 1, 'http://dbpedia.org/ontology/influenced': 1, 'http://dbpedia.org/property/agent': 1, 'http://dbpedia.org/property/resides': 1, 'http://dbpedia.org/property/supports': 1, 'http://dbpedia.org/ontology/sport': 1, 'http://dbpedia.org/property/university': 1, 'http://dbpedia.org/ontology/lastAppearance': 1, 'http://dbpedia.org/ontology/portrayer': 1, 'http://dbpedia.org/property/firstproshow': 1, 'http://dbpedia.org/ontology/bodyDiscovered': 1, 'http://dbpedia.org/property/alliances': 1, 'http://dbpedia.org/property/powers': 1, 'http://dbpedia.org/property/species': 1, 'http://dbpedia.org/ontology/event': 1, 'http://dbpedia.org/ontology/televisionSeries': 1, 'http://dbpedia.org/property/creator': 1, 'http://dbpedia.org/property/occupation': 1, 'http://dbpedia.org/property/portrayer': 1, 'http://dbpedia.org/property/appointer': 1, 'http://dbpedia.org/property/dipstyle': 1, 'http://dbpedia.org/property/teama': 1, 'http://dbpedia.org/property/teamb': 1, 'http://dbpedia.org/ontology/billed': 1, 'http://dbpedia.org/ontology/formerCoach': 1, 'http://dbpedia.org/property/currentClub': 1, 'http://dbpedia.org/ontology/governor': 1, 'http://dbpedia.org/property/stat3label': 1}\n"
     ]
    }
   ],
   "source": [
    "def frequency_relations(data):\n",
    "    freq = Counter(data.triples[:,1].tolist())\n",
    "    sorted_freq = {data.i2r[k]: v for k, v in sorted(freq.items(), key=lambda item: item[1], reverse=True)}\n",
    "    return sorted_freq\n",
    "f = frequency_relations(data)\n",
    "print(f)"
   ]
  },
  {
   "cell_type": "code",
   "execution_count": 38,
   "metadata": {},
   "outputs": [
    {
     "name": "stdout",
     "output_type": "stream",
     "text": [
      "Average Node Degree: 2.606 ± 6.427\n"
     ]
    }
   ],
   "source": [
    "import torch\n",
    "import statistics\n",
    "def select_matching_triples(triples_tensor, nodes_to_check):\n",
    "    selected_triples = []\n",
    "\n",
    "    # Iterate over the triples and check if any node matches with nodes_to_check\n",
    "    for triple in triples_tensor:\n",
    "        head, relation, tail = triple.tolist()\n",
    "        if head in nodes_to_check or tail in nodes_to_check:\n",
    "            selected_triples.append(triple)\n",
    "\n",
    "    return torch.stack(selected_triples)\n",
    "val = data.withheld[:,0]\n",
    "\n",
    "selected_triples = select_matching_triples(data.triples, val)\n",
    "\n",
    "def compute_average_node_degree(triples_tensor):\n",
    "    # Create an empty dictionary to store the node degrees\n",
    "    node_degrees = {}\n",
    "\n",
    "    # Iterate over the triples and calculate the node degrees\n",
    "    for triple in triples_tensor:\n",
    "        head, relation, tail = triple.tolist()\n",
    "        # Increment the degree for the head node\n",
    "        node_degrees[head] = node_degrees.get(head, 0) + 1\n",
    "        # Increment the degree for the tail node\n",
    "        node_degrees[tail] = node_degrees.get(tail, 0) + 1\n",
    "\n",
    "    # Compute the average node degree\n",
    "    num_nodes = len(node_degrees)\n",
    "    total_degree = sum(node_degrees.values())\n",
    "    average_degree = total_degree / num_nodes\n",
    "        # Compute the standard deviation of node degrees\n",
    "    degree_values = list(node_degrees.values())\n",
    "    degree_std = statistics.stdev(degree_values)\n",
    "\n",
    "    return average_degree, degree_std\n",
    "\n",
    "\n",
    "# Example usage\n",
    "triples_tensor = torch.tensor([[12264, 20, 19861],\n",
    "                               [22808, 0, 22261],\n",
    "                               [21753, 9, 13458]])\n",
    "\n",
    "average_degree, std_degree = compute_average_node_degree(data.triples)\n",
    "print(\"Average Node Degree:\", np.round(average_degree,3), \"±\", np.round(std_degree,3))\n"
   ]
  },
  {
   "cell_type": "code",
   "execution_count": 39,
   "metadata": {},
   "outputs": [
    {
     "name": "stdout",
     "output_type": "stream",
     "text": [
      "Average Degree at 2 Hops: 43.298 ± 93.297\n"
     ]
    }
   ],
   "source": [
    "import torch\n",
    "import statistics\n",
    "\n",
    "def compute_average_degree_at_2_hops(triples_tensor):\n",
    "    # Create an adjacency dictionary to store the neighbors of each node\n",
    "    adjacency_dict = {}\n",
    "\n",
    "    # Iterate over the triples and build the adjacency dictionary\n",
    "    for triple in triples_tensor:\n",
    "        head, relation, tail = triple.tolist()\n",
    "\n",
    "        # Add tail as a neighbor of head\n",
    "        if head not in adjacency_dict:\n",
    "            adjacency_dict[head] = set()\n",
    "        adjacency_dict[head].add(tail)\n",
    "\n",
    "        # Add head as a neighbor of tail\n",
    "        if tail not in adjacency_dict:\n",
    "            adjacency_dict[tail] = set()\n",
    "        adjacency_dict[tail].add(head)\n",
    "\n",
    "    # Compute the average degree at 2 hops for each node\n",
    "    average_degrees_2_hops = []\n",
    "    for node, neighbors in adjacency_dict.items():\n",
    "        two_hop_neighbors = set()\n",
    "        for neighbor in neighbors:\n",
    "            two_hop_neighbors.update(adjacency_dict.get(neighbor, set()))\n",
    "        average_degrees_2_hops.append(len(neighbors) + len(two_hop_neighbors))\n",
    "\n",
    "    # Compute the average degree at 2 hops and its standard deviation\n",
    "    average_degree_2_hops = statistics.mean(average_degrees_2_hops)\n",
    "    degree_std_2_hops = statistics.stdev(average_degrees_2_hops)\n",
    "\n",
    "    return average_degree_2_hops, degree_std_2_hops\n",
    "\n",
    "\n",
    "# Example usage\n",
    "triples_tensor = torch.tensor([[1, 20, 2],\n",
    "                               [2, 0, 3],\n",
    "                               [3, 9, 4],\n",
    "                               [4, 7, 1]])\n",
    "\n",
    "average_degree_2_hops, degree_std_2_hops = compute_average_degree_at_2_hops(data.triples)\n",
    "print(\"Average Degree at 2 Hops:\", np.round(average_degree_2_hops,3),'±', np.round(degree_std_2_hops,3))\n",
    "\n"
   ]
  },
  {
   "cell_type": "code",
   "execution_count": 40,
   "metadata": {},
   "outputs": [
    {
     "name": "stdout",
     "output_type": "stream",
     "text": [
      "avg num edges 0 hop 16.394 ± 9.23\n",
      "avg num edges 2 hop 213.793 ± 155.405\n"
     ]
    }
   ],
   "source": [
    "import statistics\n",
    "def select_matching_triples(triples_tensor, nodes_to_check):\n",
    "    selected_triples = []\n",
    "\n",
    "    # Iterate over the triples and check if any node matches with nodes_to_check\n",
    "    for triple in triples_tensor:\n",
    "        head, relation, tail = triple.tolist()\n",
    "        if head in nodes_to_check or tail in nodes_to_check:\n",
    "            selected_triples.append(triple)\n",
    "\n",
    "    return torch.stack(selected_triples)\n",
    "val = data.withheld[:,0]\n",
    "\n",
    "selected_triples = select_matching_triples(data.triples, val)\n",
    "\n",
    "def compute_num_edges_to_node(triples_tensor, node):\n",
    "    # Create an adjacency dictionary to store the neighbors of each node\n",
    "    adjacency_dict = {}\n",
    "\n",
    "    # Iterate over the triples and build the adjacency dictionary\n",
    "    for triple in triples_tensor:\n",
    "        head, relation, tail = triple.tolist()\n",
    "\n",
    "        # Add tail as a neighbor of head\n",
    "        if head not in adjacency_dict:\n",
    "            adjacency_dict[head] = set()\n",
    "        adjacency_dict[head].add(tail)\n",
    "\n",
    "        # Add head as a neighbor of tail\n",
    "        if tail not in adjacency_dict:\n",
    "            adjacency_dict[tail] = set()\n",
    "        adjacency_dict[tail].add(head)\n",
    "\n",
    "    # Compute the number of edges to the given node at 0 and 2 hops\n",
    "    num_edges_to_node_0_hop = len(adjacency_dict.get(node, set()))\n",
    "    neighbors_2_hops = set()\n",
    "    if node in adjacency_dict:\n",
    "        neighbors = adjacency_dict[node]\n",
    "        for neighbor in neighbors:\n",
    "            if neighbor in adjacency_dict:\n",
    "                neighbors_2_hops.update(adjacency_dict[neighbor])\n",
    "    num_edges_to_node_2_hops = len(neighbors_2_hops)\n",
    "\n",
    "    return num_edges_to_node_0_hop, num_edges_to_node_2_hops\n",
    "\n",
    "sum_0,sum_2 = [], []\n",
    "for i in val:\n",
    "    #print(int(i))\n",
    "    num_edges_0_hop, num_edges_2_hops = compute_num_edges_to_node(data.triples, int(i))\n",
    "    sum_0.append(num_edges_0_hop)\n",
    "    sum_2.append(num_edges_2_hops)\n",
    "print('avg num edges 0 hop', np.round(np.mean(sum_0),3), '±', np.round(np.std(sum_0),3))\n",
    "print('avg num edges 2 hop', np.round(np.mean(sum_2),3), '±', np.round(np.std(sum_2),3))\n",
    "# Example usage\n",
    "\n",
    "\n"
   ]
  },
  {
   "cell_type": "code",
   "execution_count": null,
   "metadata": {},
   "outputs": [],
   "source": [
    "def object_type(v,h,data, relation_id = None,type=True):\n",
    "    ''' Get the object class of a specific relation'''\n",
    "    if type:\n",
    "        relation_id = [i for i in range(data.num_relations) if 'type' in data.i2r[i]][-1]\n",
    "    output_indices_v, output_values, value_indices = select_relation(v, data.num_entities, relation_id)\n",
    "    output_indices_h, output_values, value_indices = select_relation(h, data.num_entities, relation_id)\n",
    "    objects_types = match_to_triples(output_indices_v, output_indices_h,data, sparse=False)\n",
    "    list = []\n",
    "    for i in objects_types:\n",
    "        list.append(data.i2e[i[2]][0])#.split('#')[1])\n",
    "    result = Counter(list)\n",
    "    return result\n",
    "\n",
    "for node_idx in data.withheld[:,0]:\n",
    "    h, v = torch.load(f'chk/aifb_chk/hops_2_size_5e-05_lr_0.1_ent_-1_type_1_threshold_0.5_init_const_exp_/masked_adj/masked_ver{node_idx}'), torch.load(f'chk/aifb_chk/hops_2_size_5e-05_lr_0.1_ent_-1_type_1_threshold_0.5_init_const_exp_/masked_adj/masked_hor{node_idx}')\n",
    "    print(f'node {node_idx}:', object_type(v,h,data, 39))"
   ]
  }
 ],
 "metadata": {
  "kernelspec": {
   "display_name": "base",
   "language": "python",
   "name": "python3"
  },
  "language_info": {
   "codemirror_mode": {
    "name": "ipython",
    "version": 3
   },
   "file_extension": ".py",
   "mimetype": "text/x-python",
   "name": "python",
   "nbconvert_exporter": "python",
   "pygments_lexer": "ipython3",
   "version": "3.9.12"
  },
  "orig_nbformat": 4
 },
 "nbformat": 4,
 "nbformat_minor": 2
}
