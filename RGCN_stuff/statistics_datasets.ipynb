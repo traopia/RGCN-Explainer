{
 "cells": [
  {
   "cell_type": "code",
   "execution_count": 1,
   "metadata": {},
   "outputs": [
    {
     "name": "stderr",
     "output_type": "stream",
     "text": [
      "/usr/local/Caskroom/miniconda/base/envs/RGCNExplainer/lib/python3.9/site-packages/tqdm/auto.py:21: TqdmWarning: IProgress not found. Please update jupyter and ipywidgets. See https://ipywidgets.readthedocs.io/en/stable/user_install.html\n",
      "  from .autonotebook import tqdm as notebook_tqdm\n",
      "/Users/macoftraopia/Documents/GitHub/RGCN-Explainer/RGCN_stuff/src/kgbench.py:247: UserWarning: The validation data is not added to the training data. For AIFB, MUTAG, BGS and AM, the correct evaluation is to combine train and validation for the final evaluation run.Set include_val to True when loading the data.\n",
      "  warnings.warn('The validation data is not added to the training data. For AIFB, MUTAG, BGS and AM, '\n"
     ]
    },
    {
     "name": "stdout",
     "output_type": "stream",
     "text": [
      "loaded data mutag (0.3235s).\n"
     ]
    }
   ],
   "source": [
    "import src.kgbench as kg\n",
    "from src.rgcn_explainer_utils import *\n",
    "\n",
    "data = kg.load('mutag', torch=True, final=True)\n",
    "data = prunee(data, 2)\n",
    "get_relations(data)\n",
    "relations = [data.i2rel[i][0] for i in range(len(data.i2rel))]"
   ]
  },
  {
   "cell_type": "code",
   "execution_count": 2,
   "metadata": {},
   "outputs": [],
   "source": [
    "val = data.withheld[:,0]\n",
    "most_common_node = {}\n",
    "for i in val:\n",
    "    sub_edges, neighborhoods, sub_edges_tensor = find_n_hop_neighbors(data, 2,int(i), adj=True)\n",
    "\n",
    "    counter = Counter([num for tup in sub_edges for num in tup]).most_common(1)[0][0]\n",
    "    most_common_node[int(i)] = counter"
   ]
  },
  {
   "cell_type": "code",
   "execution_count": 3,
   "metadata": {},
   "outputs": [
    {
     "data": {
      "text/plain": [
       "{10670: 13116,\n",
       " 22269: 23076,\n",
       " 16607: 23076,\n",
       " 21167: 23076,\n",
       " 16144: 23076,\n",
       " 7330: 23076,\n",
       " 14186: 23076,\n",
       " 18013: 23076,\n",
       " 4737: 23076,\n",
       " 13391: 23076,\n",
       " 1019: 13116,\n",
       " 7212: 13116,\n",
       " 9982: 23076,\n",
       " 20452: 13116,\n",
       " 18610: 23076,\n",
       " 1950: 23076,\n",
       " 1379: 23076,\n",
       " 5111: 23076,\n",
       " 14178: 23076,\n",
       " 17744: 23076,\n",
       " 16130: 23076,\n",
       " 10348: 13116,\n",
       " 9191: 23076,\n",
       " 19068: 23076,\n",
       " 10022: 23076,\n",
       " 9688: 13116,\n",
       " 8338: 23076,\n",
       " 15502: 23076,\n",
       " 1148: 23076,\n",
       " 1943: 23076,\n",
       " 9715: 23076,\n",
       " 6465: 23076,\n",
       " 4474: 23076,\n",
       " 9734: 23076,\n",
       " 17429: 23076,\n",
       " 2950: 23076,\n",
       " 1700: 23076,\n",
       " 8171: 23076,\n",
       " 8873: 23076,\n",
       " 20780: 23076,\n",
       " 1063: 23076,\n",
       " 10291: 23076,\n",
       " 8701: 13116,\n",
       " 16507: 23076,\n",
       " 14907: 23076,\n",
       " 14914: 23076,\n",
       " 21759: 23076,\n",
       " 11614: 13116,\n",
       " 19062: 13116,\n",
       " 20543: 23076,\n",
       " 1917: 23076,\n",
       " 19854: 23076,\n",
       " 19886: 23076,\n",
       " 4000: 23076,\n",
       " 6581: 23076,\n",
       " 11771: 23076,\n",
       " 18261: 23076,\n",
       " 4246: 23076,\n",
       " 9460: 23076,\n",
       " 19975: 23076,\n",
       " 12812: 23076,\n",
       " 14411: 23076,\n",
       " 13126: 23076,\n",
       " 14676: 23076,\n",
       " 5054: 23076,\n",
       " 3471: 23076,\n",
       " 16282: 23076,\n",
       " 10172: 23076}"
      ]
     },
     "execution_count": 3,
     "metadata": {},
     "output_type": "execute_result"
    }
   ],
   "source": [
    "most_common_node"
   ]
  },
  {
   "cell_type": "code",
   "execution_count": 4,
   "metadata": {},
   "outputs": [
    {
     "name": "stdout",
     "output_type": "stream",
     "text": [
      "{'http://www.w3.org/1999/02/22-rdf-syntax-ns#type': 7942, 'http://dl-learner.org/carcinogenesis#inBond': 6370, 'http://dl-learner.org/carcinogenesis#hasBond': 3185, 'http://dl-learner.org/carcinogenesis#hasAtom': 3133, 'http://dl-learner.org/carcinogenesis#charge': 3133, 'http://dl-learner.org/carcinogenesis#hasStructure': 1197, 'http://dl-learner.org/carcinogenesis#amesTestPositive': 340, 'http://dl-learner.org/carcinogenesis#salmonella': 305, 'http://dl-learner.org/carcinogenesis#cytogen_ca': 293, 'http://dl-learner.org/carcinogenesis#cytogen_sce': 283, 'http://dl-learner.org/carcinogenesis#mouse_lymph': 203, 'http://dl-learner.org/carcinogenesis#salmonella_n': 61, 'http://dl-learner.org/carcinogenesis#chromaberr': 55, 'http://dl-learner.org/carcinogenesis#chromex': 35, 'http://dl-learner.org/carcinogenesis#drosophila_slrl': 25, 'http://dl-learner.org/carcinogenesis#drosophila_rt': 25, 'http://www.w3.org/2000/01/rdf-schema#subClassOf': 19, 'http://www.w3.org/2000/01/rdf-schema#domain': 17, 'http://dl-learner.org/carcinogenesis#micronuc_f': 13, 'http://dl-learner.org/carcinogenesis#micronuc_m': 13, 'http://www.w3.org/2002/07/owl#disjointWith': 6, 'http://dl-learner.org/carcinogenesis#salmonella_reduc': 5, 'http://www.w3.org/2000/01/rdf-schema#range': 3}\n"
     ]
    }
   ],
   "source": [
    "def frequency_relations(data):\n",
    "    freq = Counter(data.triples[:,1].tolist())\n",
    "    sorted_freq = {data.i2r[k]: v for k, v in sorted(freq.items(), key=lambda item: item[1], reverse=True)}\n",
    "    return sorted_freq\n",
    "f = frequency_relations(data)\n",
    "print(f)"
   ]
  },
  {
   "cell_type": "code",
   "execution_count": 5,
   "metadata": {},
   "outputs": [
    {
     "ename": "KeyboardInterrupt",
     "evalue": "",
     "output_type": "error",
     "traceback": [
      "\u001b[0;31m---------------------------------------------------------------------------\u001b[0m",
      "\u001b[0;31mKeyboardInterrupt\u001b[0m                         Traceback (most recent call last)",
      "Cell \u001b[0;32mIn[5], line 10\u001b[0m\n\u001b[1;32m      7\u001b[0m     degree_mean \u001b[39m=\u001b[39m np\u001b[39m.\u001b[39mmean(degree)\n\u001b[1;32m      8\u001b[0m     \u001b[39mreturn\u001b[39;00m degree_mean\n\u001b[0;32m---> 10\u001b[0m degree_distribution(data)\n",
      "Cell \u001b[0;32mIn[5], line 5\u001b[0m, in \u001b[0;36mdegree_distribution\u001b[0;34m(data)\u001b[0m\n\u001b[1;32m      3\u001b[0m degree \u001b[39m=\u001b[39m []\n\u001b[1;32m      4\u001b[0m \u001b[39mfor\u001b[39;00m i \u001b[39min\u001b[39;00m \u001b[39mrange\u001b[39m(data\u001b[39m.\u001b[39mnum_entities):\n\u001b[0;32m----> 5\u001b[0m     _,n,_ \u001b[39m=\u001b[39m find_n_hop_neighbors(edge_index, \u001b[39m0\u001b[39;49m, i)\n\u001b[1;32m      6\u001b[0m     degree\u001b[39m.\u001b[39mappend(\u001b[39mlen\u001b[39m(n))\n\u001b[1;32m      7\u001b[0m degree_mean \u001b[39m=\u001b[39m np\u001b[39m.\u001b[39mmean(degree)\n",
      "File \u001b[0;32m~/Documents/GitHub/RGCN-Explainer/RGCN_stuff/src/rgcn_explainer_utils.py:119\u001b[0m, in \u001b[0;36mfind_n_hop_neighbors\u001b[0;34m(edge_index, n, node, adj)\u001b[0m\n\u001b[1;32m    117\u001b[0m     src, dst \u001b[39m=\u001b[39m edge_index[\u001b[39m0\u001b[39m, j]\u001b[39m.\u001b[39mitem(), edge_index[\u001b[39m1\u001b[39m, j]\u001b[39m.\u001b[39mitem()\n\u001b[1;32m    118\u001b[0m     neighborhoods[src]\u001b[39m.\u001b[39madd(dst)\n\u001b[0;32m--> 119\u001b[0m     neighborhoods[dst]\u001b[39m.\u001b[39madd(src)\n\u001b[1;32m    120\u001b[0m     edges\u001b[39m.\u001b[39mappend((src, dst))\n\u001b[1;32m    122\u001b[0m \u001b[39m# find n-hop neighbors for the specified node or all nodes\u001b[39;00m\n",
      "\u001b[0;31mKeyboardInterrupt\u001b[0m: "
     ]
    }
   ],
   "source": [
    "def degree_distribution(data):\n",
    "    edge_index = edge_index_oneadj(data.triples)\n",
    "    degree = []\n",
    "    for i in range(data.num_entities):\n",
    "        _,n,_ = find_n_hop_neighbors(edge_index, 0, i)\n",
    "        degree.append(len(n))\n",
    "    degree_mean = np.mean(degree)\n",
    "    return degree_mean\n",
    "\n",
    "degree_distribution(data)"
   ]
  },
  {
   "cell_type": "code",
   "execution_count": null,
   "metadata": {},
   "outputs": [],
   "source": []
  },
  {
   "cell_type": "code",
   "execution_count": null,
   "metadata": {},
   "outputs": [],
   "source": [
    "def object_type(v,h,data, relation_id = None,type=True):\n",
    "    ''' Get the object class of a specific relation'''\n",
    "    if type:\n",
    "        relation_id = [i for i in range(data.num_relations) if 'type' in data.i2r[i]][-1]\n",
    "    output_indices_v, output_values, value_indices = select_relation(v, data.num_entities, relation_id)\n",
    "    output_indices_h, output_values, value_indices = select_relation(h, data.num_entities, relation_id)\n",
    "    objects_types = match_to_triples(output_indices_v, output_indices_h,data, sparse=False)\n",
    "    list = []\n",
    "    for i in objects_types:\n",
    "        list.append(data.i2e[i[2]][0])#.split('#')[1])\n",
    "    result = Counter(list)\n",
    "    return result\n",
    "\n",
    "for node_idx in data.withheld[:,0]:\n",
    "    h, v = torch.load(f'chk/aifb_chk/hops_2_size_5e-05_lr_0.1_ent_-1_type_1_threshold_0.5_init_const_exp_/masked_adj/masked_ver{node_idx}'), torch.load(f'chk/aifb_chk/hops_2_size_5e-05_lr_0.1_ent_-1_type_1_threshold_0.5_init_const_exp_/masked_adj/masked_hor{node_idx}')\n",
    "    print(f'node {node_idx}:', object_type(v,h,data, 39))"
   ]
  }
 ],
 "metadata": {
  "kernelspec": {
   "display_name": "base",
   "language": "python",
   "name": "python3"
  },
  "language_info": {
   "codemirror_mode": {
    "name": "ipython",
    "version": 3
   },
   "file_extension": ".py",
   "mimetype": "text/x-python",
   "name": "python",
   "nbconvert_exporter": "python",
   "pygments_lexer": "ipython3",
   "version": "3.9.16"
  },
  "orig_nbformat": 4
 },
 "nbformat": 4,
 "nbformat_minor": 2
}
