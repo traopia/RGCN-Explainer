{
 "cells": [
  {
   "cell_type": "code",
   "execution_count": 1,
   "metadata": {},
   "outputs": [],
   "source": [
    "import torch \n",
    "import torch.nn as nn\n",
    "import torch.nn.functional as F\n",
    "import pandas as pd\n",
    "import numpy as np\n",
    "from tqdm import tqdm\n",
    "from collections import Counter\n",
    "import kgbench as kg\n",
    "import fire, sys\n",
    "import math\n",
    "\n",
    "from kgbench import load, tic, toc, d\n",
    "\n",
    "\n",
    "import numpy as np\n",
    "import matplotlib.pyplot as plt\n",
    "import matplotlib.cm as cm\n",
    "import matplotlib.colors as mcolors\n",
    "\n",
    "\n",
    "#\n",
    "from torch_geometric.utils import to_networkx\n",
    "import networkx as nx\n",
    "\n",
    "from src.rgcn_explainer_utils import *\n",
    "from IPython.core.interactiveshell import InteractiveShell\n",
    "InteractiveShell.ast_node_interactivity = \"all\"\n",
    "from rgcn_model import RGCN"
   ]
  },
  {
   "cell_type": "code",
   "execution_count": 2,
   "metadata": {},
   "outputs": [],
   "source": [
    "\n",
    "def convert_binary(sparse_tensor, threshold):\n",
    "    # convert values to either 0 or 1 based on a threshold of 0.5\n",
    "    mask = sparse_tensor._values() > threshold\n",
    "    converted_values = torch.zeros_like(sparse_tensor._values())\n",
    "    converted_values[mask] = 1\n",
    "\n",
    "    # create a new sparse tensor with the converted values\n",
    "    converted_sparse_tensor = torch.sparse_coo_tensor(sparse_tensor._indices(), converted_values, size=sparse_tensor.size())\n",
    "    return converted_sparse_tensor"
   ]
  },
  {
   "cell_type": "code",
   "execution_count": 82,
   "metadata": {},
   "outputs": [
    {
     "name": "stdout",
     "output_type": "stream",
     "text": [
      "loaded data mdgenre (78.89s).\n"
     ]
    }
   ],
   "source": [
    "data = kg.load('mdgenre', torch=True)\n",
    "model = torch.load('chk/mdgenre_chk/model_mdgenre_prune_False')"
   ]
  },
  {
   "cell_type": "code",
   "execution_count": 106,
   "metadata": {},
   "outputs": [
    {
     "data": {
      "text/plain": [
       "tensor(indices=tensor([[ 88538, 196243, 229383, 328803],\n",
       "                       [     0,   1579,      0,   5230]]),\n",
       "       values=tensor([0.9762, 0.5834, 0.9767, 0.5713]),\n",
       "       size=(753935, 8285), nnz=4, layout=torch.sparse_coo, requires_grad=True)"
      ]
     },
     "execution_count": 106,
     "metadata": {},
     "output_type": "execute_result"
    }
   ],
   "source": [
    "v = torch.sparse_coo_tensor(v.coalesce().indices(), torch.sigmoid(v.coalesce().values()), v.size(), requires_grad=True)\n",
    "v"
   ]
  },
  {
   "cell_type": "code",
   "execution_count": 233,
   "metadata": {},
   "outputs": [
    {
     "name": "stdout",
     "output_type": "stream",
     "text": [
      "loaded data aifb (0.2425s).\n",
      "29043\n",
      "26666\n",
      "ypred explain tensor([0.2647, 0.2476, 0.3399, 0.1478], grad_fn=<SoftmaxBackward0>)\n",
      "tensor([0.6738, 0.6738, 0.6738, 0.6738, 0.6738, 0.6738, 0.6738, 0.6738, 0.6738,\n",
      "        0.6738, 0.6738, 0.6738, 0.6738, 0.6738, 0.6738, 0.6738, 0.6738, 0.6738,\n",
      "        0.6738, 0.6738, 0.6738, 0.6738, 0.6738, 0.6738, 0.6738, 0.6738, 0.6738,\n",
      "        0.6738, 0.6738, 0.6738, 0.6738, 0.6738, 0.6738, 0.6738, 0.6738, 0.6738,\n",
      "        0.6738, 0.6738, 0.6738, 0.6738, 0.6738, 0.6738])\n",
      "tensor([0.3945, 0.3945, 0.3945,  ..., 0.3945, 0.3945, 0.3945])\n",
      "non zero: 0\n",
      "non zero: 0\n",
      "v binary: tensor(indices=tensor([[ 88607, 196312, 229452,  ..., 329925, 329926, 329927],\n",
      "                       [   908,   2227,   1002,  ...,   5230,   5230,   5230]]),\n",
      "       values=tensor([0., 0., 0.,  ..., 0., 0., 0.]),\n",
      "       size=(753935, 8285), nnz=1090, layout=torch.sparse_coo)\n",
      "ypred explain binary tensor([0.2730, 0.2465, 0.2477, 0.2329], grad_fn=<SoftmaxBackward0>)\n",
      "ypred true tensor([2])\n"
     ]
    },
    {
     "data": {
      "text/plain": [
       "RGCN()"
      ]
     },
     "execution_count": 233,
     "metadata": {},
     "output_type": "execute_result"
    },
    {
     "name": "stdout",
     "output_type": "stream",
     "text": [
      "ypred full tensor([4.2013e-07, 1.4282e-06, 1.0000e+00, 6.0994e-09],\n",
      "       grad_fn=<SoftmaxBackward0>)\n"
     ]
    }
   ],
   "source": [
    "name = 'aifb'\n",
    "if name == 'aifb':\n",
    "    data = kg.load('aifb', torch=True) \n",
    "    print(data.triples.shape[0])\n",
    "    node_idx = 5757\n",
    "\n",
    "else:\n",
    "    data = torch.load(f'/Users/macoftraopia/Documents/GitHub/RGCN-Explainer/data/IMDB/finals/{name}.pt')\n",
    "\n",
    "data = prunee(data, 2)\n",
    "print(data.triples.shape[0])\n",
    "data.triples = torch.Tensor(data.triples).to(int)#data.triples.clone().detach()\n",
    "data.withheld = torch.Tensor(data.withheld).to(int)#data.withheld.clone().detach()\n",
    "data.training = torch.Tensor(data.training).to(int)#data.training.clone().detach()\n",
    "#\n",
    "# get_relations(data)\n",
    "# d_classes(data)\n",
    "dict_classes = {key.item(): data.withheld[:, 0][data.withheld[:, 1] == key].tolist() for key in torch.unique(data.withheld[:, 1])}\n",
    "if name != 'aifb':\n",
    "    node_idx = dict_classes[0][0]\n",
    "\n",
    "\n",
    "from src.rgcn_explainer_utils import *\n",
    "v = torch.load(f'/Users/macoftraopia/Documents/GitHub/RGCN-Explainer/chk/{name}_chk/size_0.005_lr_0.1_epochs_30_threshold_0.5_init_overall_frequency/masked_adj/masked_ver{node_idx}')\n",
    "h = torch.load(f'/Users/macoftraopia/Documents/GitHub/RGCN-Explainer/chk/{name}_chk/size_0.005_lr_0.1_epochs_30_threshold_0.5_init_overall_frequency/masked_adj/masked_hor{node_idx}')\n",
    "# h = torch.load(f'/Users/macoftraopia/Documents/GitHub/RGCN-Explainer/chk/{name}_chk/masked_adj/masked_hor{node_idx}_new')\n",
    "# v = torch.load(f'/Users/macoftraopia/Documents/GitHub/RGCN-Explainer/chk/{name}_chk/masked_adj/masked_ver{node_idx}_new')\n",
    "model = torch.load(f'/Users/macoftraopia/Documents/GitHub/RGCN-Explainer/chk/{name}_chk/model_{name}_prune_True')\n",
    "\n",
    "# v = torch.sparse_coo_tensor(v.coalesce().indices(), torch.sigmoid(v.coalesce().values()), v.size(), requires_grad=True)\n",
    "# h = torch.sparse_coo_tensor(h.coalesce().indices(), torch.sigmoid(h.coalesce().values()), h.size(), requires_grad=True)\n",
    "out = model.forward2(h,v)\n",
    "\n",
    "res = nn.Softmax(dim=0)(out[node_idx])\n",
    "print('ypred explain', res)\n",
    "print(v.coalesce().values()[v.coalesce().values()>0.5])\n",
    "print(h.coalesce().values())\n",
    "\n",
    "v,h = convert_binary(v, 0.8), convert_binary(h,0.8)\n",
    "print('v binary:',v)\n",
    "res = nn.Softmax(dim=0)(model.forward2(h,v)[node_idx, :])\n",
    "print('ypred explain binary', res)\n",
    "\n",
    "if node_idx in data.withheld[:,0]:\n",
    "    print('ypred true', data.withheld[data.withheld[:,0]==node_idx,1])\n",
    "    \n",
    "from r_exp import hor_ver_graph\n",
    "model.eval()\n",
    "hor_graph, ver_graph = hor_ver_graph(data.triples, data.num_entities, data.num_relations)\n",
    "y_full = model.forward2(hor_graph, ver_graph)\n",
    "node_pred_full = y_full[node_idx, :]\n",
    "res_full = nn.Softmax(dim=0)(node_pred_full)\n",
    "print('ypred full', res_full)"
   ]
  },
  {
   "cell_type": "code",
   "execution_count": 234,
   "metadata": {},
   "outputs": [
    {
     "data": {
      "text/plain": [
       "'http://www.w3.org/1999/02/22-rdf-syntax-ns#type'"
      ]
     },
     "execution_count": 234,
     "metadata": {},
     "output_type": "execute_result"
    }
   ],
   "source": [
    "data.i2r[39]"
   ]
  },
  {
   "cell_type": "code",
   "execution_count": 180,
   "metadata": {},
   "outputs": [
    {
     "data": {
      "text/plain": [
       "11"
      ]
     },
     "execution_count": 180,
     "metadata": {},
     "output_type": "execute_result"
    }
   ],
   "source": [
    "#get the node of the most important relations - the relations with the highest weights\n",
    "\n",
    "tensor_list = (list(v.coalesce().indices()[1][v.coalesce().values()>0.5]) + list(h.coalesce().indices()[0][h.coalesce().values()>0.5]))\n",
    "float_list = [tensor.item() for tensor in tensor_list]\n",
    "len(set(float_list))\n"
   ]
  },
  {
   "cell_type": "code",
   "execution_count": 159,
   "metadata": {},
   "outputs": [
    {
     "name": "stdout",
     "output_type": "stream",
     "text": [
      "loaded data aifb (0.2127s).\n"
     ]
    },
    {
     "data": {
      "text/plain": [
       "1601"
      ]
     },
     "execution_count": 159,
     "metadata": {},
     "output_type": "execute_result"
    },
    {
     "data": {
      "text/plain": [
       "1171"
      ]
     },
     "execution_count": 159,
     "metadata": {},
     "output_type": "execute_result"
    }
   ],
   "source": [
    "from src.rgcn_explainer_utils import find_n_hop_neighbors, edge_index_oneadj\n",
    "\n",
    "data = kg.load('aifb', torch=True) \n",
    "#data = prunee(data, 2)\n",
    "a_l,n, a = find_n_hop_neighbors( edge_index_oneadj(data.triples), 2, 5757)\n",
    "len(a_l)\n",
    "len(set(n))"
   ]
  },
  {
   "cell_type": "code",
   "execution_count": 169,
   "metadata": {},
   "outputs": [],
   "source": [
    "def find_n_hop_neighbors(edge_index, n, node=None):\n",
    "    \"\"\" \n",
    "    edge_index \n",
    "    n = num hops\n",
    "    node = node_idx\n",
    "    returns: \n",
    "        - sub_edges: list of edges in the n-hop neighborhood of the specified node\n",
    "        - neighborhoods: dictionary of node neighborhoods\n",
    "        - sub_edges: tensor of edges in the n-hop neighborhood of the specified node\n",
    "\n",
    "    \"\"\"\n",
    "    # create dictionary of node neighborhoods\n",
    "    neighborhoods = {}\n",
    "    for i in range(edge_index.max().item() + 1):\n",
    "        neighborhoods[i] = set()\n",
    "\n",
    "    # find 1-hop neighbors and corresponding edges\n",
    "    edges = []\n",
    "    for j in range(edge_index.shape[1]):\n",
    "        src, dst = edge_index[0, j].item(), edge_index[1, j].item()\n",
    "        neighborhoods[src].add(dst)\n",
    "        neighborhoods[dst].add(src)\n",
    "        edges.append((src, dst))\n",
    "\n",
    "    # find n-hop neighbors for the specified node or all nodes\n",
    "\n",
    "    for k in range(2, n+1):\n",
    "        new_neighbors = set()\n",
    "        for neighbor in neighborhoods[node]:\n",
    "            new_neighbors.update(neighborhoods[neighbor])\n",
    "        neighborhoods[node].update(new_neighbors)\n",
    "    sub_edges = []\n",
    "    for edge in edges:\n",
    "        src, dst = edge\n",
    "        if src in neighborhoods[node] and dst in neighborhoods[node] or src == node or dst == node:\n",
    "            sub_edges.append(edge)\n",
    "            \n",
    "    sub_edges_tensor = torch.tensor([sub_edges[i] for i in range(len(sub_edges))]).t()        \n",
    "\n",
    "    #return {node: sub_edges}, {node: neighborhoods[node]}, sub_edges_tensor\n",
    "    return sub_edges, neighborhoods[node], sub_edges_tensor  \n",
    "sub_edges, neighborhoods, sub_edges_tensor  = find_n_hop_neighbors(edge_index_oneadj(data.triples),2, 5857)"
   ]
  },
  {
   "cell_type": "code",
   "execution_count": 170,
   "metadata": {},
   "outputs": [
    {
     "data": {
      "text/plain": [
       "2225"
      ]
     },
     "execution_count": 170,
     "metadata": {},
     "output_type": "execute_result"
    }
   ],
   "source": [
    "len(sub_edges)"
   ]
  },
  {
   "cell_type": "code",
   "execution_count": 161,
   "metadata": {},
   "outputs": [
    {
     "name": "stdout",
     "output_type": "stream",
     "text": [
      "tensor([5388,   18, 5857])\n",
      "tensor([5505,   21, 5857])\n",
      "tensor([5857,   10,    0])\n",
      "tensor([5857,   23, 4559])\n",
      "tensor([5857,   27,    0])\n",
      "tensor([5857,   28, 5637])\n",
      "tensor([5857,   30, 6894])\n",
      "tensor([5857,   30, 6949])\n",
      "tensor([5857,   30, 7140])\n",
      "tensor([5857,   30, 7142])\n",
      "tensor([5857,   30, 7258])\n",
      "tensor([5857,   30, 7892])\n",
      "tensor([5857,   36, 5917])\n",
      "tensor([5857,   36, 5935])\n",
      "tensor([5857,   39, 5230])\n",
      "tensor([5857,   39, 5231])\n",
      "tensor([5917,   21, 5857])\n",
      "tensor([5935,   21, 5857])\n",
      "tensor([5967,   21, 5857])\n",
      "tensor([6894,    2, 5857])\n",
      "tensor([6949,    2, 5857])\n",
      "tensor([7140,    2, 5857])\n",
      "tensor([7142,    2, 5857])\n",
      "tensor([7258,    2, 5857])\n",
      "tensor([7892,    2, 5857])\n"
     ]
    },
    {
     "data": {
      "text/plain": [
       "25"
      ]
     },
     "execution_count": 161,
     "metadata": {},
     "output_type": "execute_result"
    },
    {
     "data": {
      "text/plain": [
       "[tensor(5388),\n",
       " tensor(5505),\n",
       " tensor(0),\n",
       " tensor(4559),\n",
       " tensor(0),\n",
       " tensor(5637),\n",
       " tensor(6894),\n",
       " tensor(6949),\n",
       " tensor(7140),\n",
       " tensor(7142),\n",
       " tensor(7258),\n",
       " tensor(7892),\n",
       " tensor(5917),\n",
       " tensor(5935),\n",
       " tensor(5230),\n",
       " tensor(5231),\n",
       " tensor(5917),\n",
       " tensor(5935),\n",
       " tensor(5967),\n",
       " tensor(6894),\n",
       " tensor(6949),\n",
       " tensor(7140),\n",
       " tensor(7142),\n",
       " tensor(7258),\n",
       " tensor(7892)]"
      ]
     },
     "execution_count": 161,
     "metadata": {},
     "output_type": "execute_result"
    }
   ],
   "source": [
    "count = 0\n",
    "others = []\n",
    "for i in data.triples:\n",
    "\n",
    "    if i[0] == 5857:\n",
    "        print(i)\n",
    "        count += 1\n",
    "        others.append(i[2])\n",
    "    if i[2] == 5857:\n",
    "        print(i)\n",
    "        count += 1\n",
    "        others.append(i[0])\n",
    "\n",
    "count\n",
    "others"
   ]
  },
  {
   "cell_type": "code",
   "execution_count": 160,
   "metadata": {},
   "outputs": [
    {
     "name": "stdout",
     "output_type": "stream",
     "text": [
      "1343\n",
      "14\n"
     ]
    },
    {
     "data": {
      "text/plain": [
       "1343"
      ]
     },
     "execution_count": 160,
     "metadata": {},
     "output_type": "execute_result"
    }
   ],
   "source": [
    "count = 0\n",
    "l = []\n",
    "a = []\n",
    "for i in data.triples:\n",
    "    for n in others:\n",
    "        if i[0] == int(n) or i[2] == int(n):\n",
    "            count += 1\n",
    "            l.append(n)\n",
    "            a.append(i)\n",
    "            #print(i)\n",
    "            break\n",
    "res = set(l)\n",
    "resa = set(a)\n",
    "print(len(resa))            \n",
    "print(len(res))\n",
    "count\n",
    "#others"
   ]
  },
  {
   "cell_type": "code",
   "execution_count": 72,
   "metadata": {},
   "outputs": [],
   "source": [
    "def find_repeating_sublists(sublists):\n",
    "    repeating_elements = {}\n",
    "\n",
    "    for sublist in sublists:\n",
    "        key1 = (sublist[0], sublist[2])\n",
    "        key2 = (sublist[2], sublist[0])\n",
    "\n",
    "        if key1 in repeating_elements:\n",
    "            repeating_elements[key1].append(sublist[1])\n",
    "        elif key2 in repeating_elements:\n",
    "            repeating_elements[key2].append(sublist[1])\n",
    "        else:\n",
    "            repeating_elements[key1] = [sublist[1]]\n",
    "\n",
    "    result_array = []\n",
    "    for key, values in repeating_elements.items():\n",
    "        if len(values) > 1:\n",
    "            result_array.append([key[0], values, key[1]])\n",
    "        else:\n",
    "            result_array.append([key[0], [values[0]], key[1]])\n",
    "\n",
    "    return result_array\n",
    "\n",
    "def unnest_list(nested_list):\n",
    "    return [item for sublist in nested_list for item in (unnest_list(sublist) if isinstance(sublist, list) else [sublist])]\n",
    "\n",
    "def visualize(node_idx, n_hop, data, masked_ver,threshold,name, result_weights=True, low_threshold=False ):\n",
    "    \"\"\" \n",
    "    Visualize important nodes for node idx prediction\n",
    "    \"\"\"\n",
    "    dict_index = dict_index_classes(data,masked_ver)\n",
    "    \n",
    "    #select only nodes with a certain threshold\n",
    "    sel_masked_ver = sub_sparse_tensor(masked_ver, threshold,data, low_threshold)\n",
    "    if len(sel_masked_ver)==0:\n",
    "        sel_masked_ver=sub_sparse_tensor(masked_ver, 0,data, low_threshold)\n",
    "    print('sel masked ver',sel_masked_ver)\n",
    "    indices_nodes = sel_masked_ver.coalesce().indices().detach().numpy()\n",
    "    new_index = np.transpose(np.stack((indices_nodes[0], indices_nodes[1]))) #original edge indexes\n",
    "\n",
    "    \n",
    "    \n",
    "    G = nx.Graph()\n",
    "    if result_weights:\n",
    "        values = sel_masked_ver.coalesce().values().detach().numpy()\n",
    "        for s,p,o in zip(indices_nodes[0],values , indices_nodes[1]):\n",
    "            G.add_edge(int(s), int(o), weight=np.round(p, 2))\n",
    "\n",
    "    else:\n",
    "\n",
    "        triples_matched = match_to_triples(sel_masked_ver, data)\n",
    "        l = []\n",
    "        for i in triples_matched[:,1]:\n",
    "            l.append(data.i2rel[int(i)][0])\n",
    "        triples_matched = find_repeating_sublists(triples_matched.numpy())\n",
    "        for s,p,o in triples_matched:\n",
    "            G.add_edge(int(s), int(o), weight=p)\n",
    "\n",
    "\n",
    "    edges,weights = zip(*nx.get_edge_attributes(G,'weight').items())\n",
    "    \n",
    "    weights = [[item] if not isinstance(item, list) else item for item in weights]\n",
    "\n",
    "\n",
    "    pos = nx.circular_layout(G)\n",
    "\n",
    "    ordered_dict = {}\n",
    "    for item in list(G.nodes):\n",
    "        if item in ordered_dict:\n",
    "            ordered_dict[item].append(dict_index[item])\n",
    "        else:\n",
    "            ordered_dict[item] =  dict_index[item]\n",
    "\n",
    "    dict_index = ordered_dict\n",
    "\n",
    "    labeldict = {}\n",
    "    for node in G.nodes:\n",
    "        labeldict[int(node)] = int(node)  \n",
    "\n",
    "\n",
    "    dict = {}\n",
    "    for k,v in dict_index.items():\n",
    "        for k1,v1 in data.entities_classes.items():\n",
    "            if v==k1: \n",
    "\n",
    "                dict[k] = v1\n",
    "            else:\n",
    "                if k not in dict:\n",
    "                    dict[k] = 0\n",
    "                \n",
    "\n",
    "    color_list = list(dict.values())\n",
    "    color_list = list(encode_dict(dict_index).values())\n",
    "\n",
    "\n",
    "    col_weights = [weights[i][0] for i in range(len(weights))]\n",
    "    if result_weights:\n",
    "        \n",
    "        nx.draw(G, pos,labels = labeldict,  edgelist=edges, edge_color=col_weights, node_color =  color_list, cmap=\"Set2\",edge_cmap=plt.cm.Reds,font_size=8)\n",
    "        nx.draw_networkx_edge_labels( G, pos,edge_labels=nx.get_edge_attributes(G,'weight'),font_size=8,font_color='red')\n",
    "        sm = plt.cm.ScalarMappable(cmap=plt.cm.Reds, norm=plt.Normalize(vmin=0, vmax=1))\n",
    "        sm.set_array(weights)\n",
    "        cbar = plt.colorbar(sm)\n",
    "        cbar.ax.set_title('Weight')\n",
    "        plt.title(\"Node {}'s {}-hop neighborhood important nodes\".format(node_idx, n_hop))\n",
    "    else:\n",
    "        rel = nx.get_edge_attributes(G,'weight')\n",
    "        rel = {k: [data.i2rel[i][0] for i in v] for k,v in rel.items()}\n",
    "        col_weights = [sum(weights[i], 3) if len(weights[i]) > 1 else weights[i][0] for i in range(len(weights))]\n",
    "        nx.draw(G, pos,labels = labeldict, edge_color=col_weights,edgelist=edges,node_color =  color_list, cmap=\"Set2\",font_size=7, arrows = True)\n",
    "        nx.draw_networkx_edge_labels( G, pos,edge_labels=rel,font_size=8,font_color='red')\n",
    "        \n",
    "        res = Counter(unnest_list(rel.values()))\n",
    "    if result_weights:\n",
    "        if not os.path.exists(f'chk/{name}_chk/graphs'):\n",
    "            os.makedirs(f'chk/{name}_chk/graphs')  \n",
    "        plt.savefig(f'chk/{name}_chk/graphs/Explanation_{node_idx}_{n_hop}_weights.png')\n",
    "\n",
    "        #plt.show()\n",
    "\n",
    "    else:\n",
    "        if not os.path.exists(f'chk/{name}_chk/graphs'):\n",
    "            os.makedirs(f'chk/{name}_chk/graphs')  \n",
    "        plt.savefig(f'chk/{name}_chk/graphs/Explanation_{node_idx}_{n_hop}_relations.png')    \n",
    "        #plt.show()\n",
    "        return res, weights\n",
    "    "
   ]
  },
  {
   "cell_type": "code",
   "execution_count": 74,
   "metadata": {},
   "outputs": [
    {
     "name": "stdout",
     "output_type": "stream",
     "text": [
      "sel masked ver tensor(indices=tensor([[6860, 6874, 6920, 6976, 7731, 7837, 7857, 7905, 7933,\n",
      "                        7973, 5757, 5757, 5757, 5757, 5757, 5757, 5757, 5757,\n",
      "                        5757, 5757, 5757, 5757, 5757, 5757],\n",
      "                       [5757, 5757, 5757, 5757, 5757, 5757, 5757, 5757, 5757,\n",
      "                        5757,  908, 2227, 1002, 6860, 6874, 6920, 6976, 7731,\n",
      "                        7837, 7857, 7905, 7933, 7973, 5230]]),\n",
      "       values=tensor([0.9269, 0.9225, 0.9169, 0.2052, 0.9149, 0.2027, 0.9077,\n",
      "                      0.2068, 0.9123, 0.1876, 0.1826, 0.9114, 0.2000, 0.9098,\n",
      "                      0.2027, 0.9020, 0.1819, 0.1815, 0.9160, 0.1857, 0.1849,\n",
      "                      0.9072, 0.1921, 0.9121]),\n",
      "       size=(7974, 7974), nnz=24, layout=torch.sparse_coo)\n"
     ]
    },
    {
     "data": {
      "image/png": "[encoded data removed]",
      "text/plain": [
       "<Figure size 640x480 with 1 Axes>"
      ]
     },
     "metadata": {},
     "output_type": "display_data"
    }
   ],
   "source": [
    "\n",
    "v = torch.load(f'/Users/macoftraopia/Documents/GitHub/RGCN-Explainer/chk/{name}_chk/masked_adj/masked_ver{node_idx}_new')\n",
    "res, weights = visualize(node_idx, 2, data, v, 0, name, result_weights=False, low_threshold=False)"
   ]
  },
  {
   "cell_type": "code",
   "execution_count": 192,
   "metadata": {},
   "outputs": [],
   "source": [
    "import torch\n",
    "\n",
    "def hor_ver_graph(triples, n, r):\n",
    "    \"\"\"\n",
    "    input: triples, number of nodes, number of relations\n",
    "    output: hor_graph, ver_graph : horizontally and vertically stacked adjacency matrix\n",
    "    \"\"\"\n",
    "\n",
    "    hor_ind, hor_size = adj(triples, n, 2*r+1, vertical=False)\n",
    "    ver_ind, ver_size = adj(triples, n, 2*r+1, vertical=True)\n",
    "\n",
    "    rn, _ = hor_size  # horizontally stacked adjacency matrix size\n",
    "    r = rn // n  # number of relations enriched divided by number of nodes\n",
    "\n",
    "    vals = torch.ones(ver_ind.size(0), dtype=torch.float)  # number of enriched triples\n",
    "\n",
    "    hor_graph = torch.sparse.FloatTensor(hor_ind.t(), vals, hor_size)  # size: n, r, emb\n",
    "    ver_graph = torch.sparse.FloatTensor(ver_ind.t(), vals, ver_size)\n",
    "\n",
    "    return hor_graph, ver_graph\n",
    "\n",
    "def adj(triples, num_nodes, num_rels, cuda=False, vertical=True):\n",
    "    \"\"\"\n",
    "     Computes a sparse adjacency matrix for the given graph (the adjacency matrices of all\n",
    "     relations are stacked vertically).\n",
    "\n",
    "     :param edges: List representing the triples\n",
    "     :param i2r: list of relations\n",
    "     :param i2n: list of nodes\n",
    "     :return: sparse tensor\n",
    "    \"\"\"\n",
    "    r, n = num_rels, num_nodes\n",
    "    size = (r * n, n) if vertical else (n, r * n)\n",
    "\n",
    "    from_indices = []\n",
    "    upto_indices = []\n",
    "\n",
    "    for s, p, o in triples:\n",
    "        offset = p.item() * n\n",
    "        s = offset + s.item() if vertical else s.item()\n",
    "        o = offset + o.item() if not vertical else o.item()\n",
    "        from_indices.append(s)\n",
    "        upto_indices.append(o)\n",
    "\n",
    "    indices = torch.tensor([from_indices, upto_indices], dtype=torch.long, device=d(cuda))\n",
    "\n",
    "    return indices.t(), size\n",
    "\n"
   ]
  },
  {
   "cell_type": "code",
   "execution_count": 194,
   "metadata": {},
   "outputs": [
    {
     "data": {
      "text/plain": [
       "(tensor([[352915,   5230],\n",
       "         [352916,   5230],\n",
       "         [352921,   5230],\n",
       "         ...,\n",
       "         [329873,   5230],\n",
       "         [329889,   5230],\n",
       "         [329890,   5230]]),\n",
       " (372825, 8285))"
      ]
     },
     "execution_count": 194,
     "metadata": {},
     "output_type": "execute_result"
    },
    {
     "data": {
      "text/plain": [
       "(tensor(indices=tensor([[  4945,   4946,   4951,  ...,   6758,   6774,   6775],\n",
       "                        [353200, 353200, 353200,  ..., 328345, 328345, 328345]]),\n",
       "        values=tensor([1., 1., 1.,  ..., 1., 1., 1.]),\n",
       "        size=(8285, 753935), nnz=26666, layout=torch.sparse_coo),\n",
       " tensor(indices=tensor([[352915, 352916, 352921,  ..., 329873, 329889, 329890],\n",
       "                        [  5230,   5230,   5230,  ...,   5230,   5230,   5230]]),\n",
       "        values=tensor([1., 1., 1.,  ..., 1., 1., 1.]),\n",
       "        size=(753935, 8285), nnz=26666, layout=torch.sparse_coo))"
      ]
     },
     "execution_count": 194,
     "metadata": {},
     "output_type": "execute_result"
    }
   ],
   "source": [
    "adj(data.triples, data.num_entities, data.num_relations, cuda=False, vertical=True)\n",
    "hor_ver_graph(data.triples, data.num_entities, data.num_relations)"
   ]
  },
  {
   "cell_type": "code",
   "execution_count": 236,
   "metadata": {},
   "outputs": [],
   "source": [
    "def find_n_hop_neighbors(edge_index, n, node=None):\n",
    "    \"\"\" \n",
    "    edge_index \n",
    "    n = num hops\n",
    "    node = node_idx\n",
    "    returns: \n",
    "        - sub_edges: list of edges in the n-hop neighborhood of the specified node\n",
    "        - neighborhoods: dictionary of node neighborhoods\n",
    "        - sub_edges: tensor of edges in the n-hop neighborhood of the specified node\n",
    "\n",
    "    \"\"\"\n",
    "    # create dictionary of node neighborhoods\n",
    "    neighborhoods = {}\n",
    "    for i in range(edge_index.max().item() + 1):\n",
    "        neighborhoods[i] = set()\n",
    "\n",
    "    # find 1-hop neighbors and corresponding edges\n",
    "    edges = []\n",
    "    for j in range(edge_index.shape[1]):\n",
    "        src, dst = edge_index[0, j].item(), edge_index[1, j].item()\n",
    "        neighborhoods[src].add(dst)\n",
    "        neighborhoods[dst].add(src)\n",
    "        edges.append((src, dst))\n",
    "\n",
    "    # find n-hop neighbors for the specified node or all nodes\n",
    "\n",
    "    for k in range(2, n+1):\n",
    "        new_neighbors = set()\n",
    "        for neighbor in neighborhoods[node]:\n",
    "            new_neighbors.update(neighborhoods[neighbor])\n",
    "        neighborhoods[node].update(new_neighbors)\n",
    "    sub_edges = []\n",
    "    for edge in edges:\n",
    "        src, dst = edge\n",
    "        if src in neighborhoods[node] and dst in neighborhoods[node] or src == node or dst == node:\n",
    "            sub_edges.append(edge)\n",
    "            \n",
    "    sub_edges_tensor = torch.tensor([sub_edges[i] for i in range(len(sub_edges))]).t()        \n",
    "\n",
    "    #return {node: sub_edges}, {node: neighborhoods[node]}, sub_edges_tensor\n",
    "    return sub_edges, neighborhoods[node], sub_edges_tensor  \n",
    "sub_edges, neighborhoods, sub_edges_tensor  = find_n_hop_neighbors(edge_index_oneadj(data.triples),2, 5857)"
   ]
  },
  {
   "cell_type": "code",
   "execution_count": 276,
   "metadata": {},
   "outputs": [],
   "source": [
    "\n",
    "hor_graph, ver_graph = hor_ver_graph(data.triples, data.num_entities, data.num_relations)\n",
    "edge_h, edge_v = hor_graph.coalesce().indices(), ver_graph.coalesce().indices()\n",
    "_,_,sub_edges_tensor_h  = find_n_hop_neighbors(edge_h,2, 5699)\n",
    "_,_,sub_edges_tensor_v  = find_n_hop_neighbors(edge_v,2, 5699)\n"
   ]
  },
  {
   "cell_type": "code",
   "execution_count": 282,
   "metadata": {},
   "outputs": [
    {
     "data": {
      "text/plain": [
       "0"
      ]
     },
     "execution_count": 282,
     "metadata": {},
     "output_type": "execute_result"
    }
   ],
   "source": [
    "len(sub_edges_tensor_v)"
   ]
  },
  {
   "cell_type": "code",
   "execution_count": 247,
   "metadata": {},
   "outputs": [
    {
     "data": {
      "text/plain": [
       "tensor([[4945, 4946, 4951,  ..., 6758, 6774, 6775],\n",
       "        [5230, 5230, 5230,  ..., 5230, 5230, 5230]])"
      ]
     },
     "execution_count": 247,
     "metadata": {},
     "output_type": "execute_result"
    },
    {
     "data": {
      "text/plain": [
       "tensor([[4945, 4946, 4951,  ..., 6758, 6774, 6775],\n",
       "        [5230, 5230, 5230,  ..., 5230, 5230, 5230]])"
      ]
     },
     "execution_count": 247,
     "metadata": {},
     "output_type": "execute_result"
    },
    {
     "name": "stderr",
     "output_type": "stream",
     "text": [
      "/var/folders/ww/33zq_rh50tx94n81lb4thx0w0000gn/T/ipykernel_39897/416362161.py:4: UserWarning: __floordiv__ is deprecated, and its behavior will change in a future version of pytorch. It currently rounds toward 0 (like the 'trunc' function NOT 'floor'). This results in incorrect rounding for negative values. To keep the current behavior, use torch.div(a, b, rounding_mode='trunc'), or for actual floor division, use torch.div(a, b, rounding_mode='floor').\n",
      "  r = sub_edges_tensor//data.num_entities\n"
     ]
    },
    {
     "data": {
      "text/plain": [
       "tensor([[0, 0, 0,  ..., 0, 0, 0],\n",
       "        [0, 0, 0,  ..., 0, 0, 0]])"
      ]
     },
     "execution_count": 247,
     "metadata": {},
     "output_type": "execute_result"
    }
   ],
   "source": [
    "sub_edges_tensor\n",
    "indexes = sub_edges_tensor%data.num_entities\n",
    "indexes\n",
    "r = sub_edges_tensor//data.num_entities\n",
    "r"
   ]
  },
  {
   "cell_type": "code",
   "execution_count": 239,
   "metadata": {},
   "outputs": [
    {
     "data": {
      "text/plain": [
       "tensor([[4945,    0, 5230],\n",
       "        [4946,    0, 5230],\n",
       "        [4951,    0, 5230],\n",
       "        ...,\n",
       "        [6758,    0, 5230],\n",
       "        [6774,    0, 5230],\n",
       "        [6775,    0, 5230]])"
      ]
     },
     "execution_count": 239,
     "metadata": {},
     "output_type": "execute_result"
    }
   ],
   "source": [
    "_,p = torch.div(sub_edges_tensor, data.num_entities, rounding_mode='floor')#v.coalesce().indices()//data.num_entities\n",
    "s,o = sub_edges_tensor%data.num_entities\n",
    "result = torch.stack([s,p,o], dim=1)\n",
    "result"
   ]
  },
  {
   "cell_type": "code",
   "execution_count": 268,
   "metadata": {},
   "outputs": [
    {
     "data": {
      "text/plain": [
       "tensor([[7842,    0,    0],\n",
       "        [6926,    0, 5886],\n",
       "        [6926,    0, 5897],\n",
       "        ...,\n",
       "        [6810,   39, 5230],\n",
       "        [6811,   39, 5230],\n",
       "        [6812,   39, 5230]])"
      ]
     },
     "execution_count": 268,
     "metadata": {},
     "output_type": "execute_result"
    }
   ],
   "source": [
    "\n",
    "def match_to_triples(v,h, data, sparse=True):\n",
    "    if sparse:\n",
    "        pv,_ = torch.div(v.coalesce().indices(), data.num_entities, rounding_mode='floor')#v.coalesce().indices()//data.num_entities\n",
    "        sv,ov = v.coalesce().indices()%data.num_entities\n",
    "        result:v = torch.stack([sv,pv,ov], dim=1)\n",
    "        ph,_ = torch.div(h.coalesce().indices(), data.num_entities, rounding_mode='floor')#v.coalesce().indices()//data.num_entities\n",
    "        sh,oh = h.coalesce().indices()%data.num_entities\n",
    "        result_h = torch.stack([sh,ph,oh], dim=1)\n",
    "        result = torch.cat((result_v, result_h), 0)\n",
    "\n",
    "\n",
    "                    \n",
    "    else:\n",
    "        if len(h )!= 0:\n",
    "            _,ph = torch.div(h, data.num_entities, rounding_mode='floor')#v.coalesce().indices()//data.num_entities\n",
    "            sh,oh = h%data.num_entities\n",
    "            result_h = torch.stack([sh,ph,oh], dim=1)\n",
    "        if len(v)!=0:\n",
    "            pv, _ = torch.div(v, data.num_entities, rounding_mode='floor')#v.coalesce().indices()//data.num_entities\n",
    "            sv,ov = v%data.num_entities\n",
    "            result_v = torch.stack([sv,pv,ov], dim=1)\n",
    "        if len(h) != 0 and len(v) != 0:\n",
    "            result = torch.cat((result_v, result_h), 0)\n",
    "        if len(h) == 0:\n",
    "            result = result_v\n",
    "        if len(v) == 0:\n",
    "            result = result_h\n",
    "\n",
    "                    \n",
    "    \n",
    "    return result\n",
    "\n",
    "#match_to_triples(v, data, sparse=True)\n",
    "m = match_to_triples(sub_edges_tensor_v,sub_edges_tensor_h, data, sparse=False)\n",
    "m"
   ]
  },
  {
   "cell_type": "code",
   "execution_count": 237,
   "metadata": {},
   "outputs": [
    {
     "ename": "KeyboardInterrupt",
     "evalue": "",
     "output_type": "error",
     "traceback": [
      "\u001b[0;31m---------------------------------------------------------------------------\u001b[0m",
      "\u001b[0;31mKeyboardInterrupt\u001b[0m                         Traceback (most recent call last)",
      "Cell \u001b[0;32mIn[237], line 29\u001b[0m\n\u001b[1;32m     26\u001b[0m     \u001b[39mreturn\u001b[39;00m result\n\u001b[1;32m     28\u001b[0m \u001b[39m#match_to_triples(v, data, sparse=True)\u001b[39;00m\n\u001b[0;32m---> 29\u001b[0m match_to_triples(sub_edges_tensor\u001b[39m.\u001b[39;49mt(), data, sparse\u001b[39m=\u001b[39;49m\u001b[39mFalse\u001b[39;49;00m)\n",
      "Cell \u001b[0;32mIn[237], line 20\u001b[0m, in \u001b[0;36mmatch_to_triples\u001b[0;34m(v, data, sparse)\u001b[0m\n\u001b[1;32m     18\u001b[0m \u001b[39mfor\u001b[39;00m i,i2 \u001b[39min\u001b[39;00m \u001b[39mzip\u001b[39m(v[:,\u001b[39m0\u001b[39m],v[:,\u001b[39m1\u001b[39m]):\n\u001b[1;32m     19\u001b[0m     \u001b[39mfor\u001b[39;00m j,j1,j2, index \u001b[39min\u001b[39;00m \u001b[39mzip\u001b[39m(data[:,\u001b[39m0\u001b[39m],data[:,\u001b[39m1\u001b[39m],  data[:,\u001b[39m2\u001b[39m], \u001b[39mrange\u001b[39m(\u001b[39mlen\u001b[39m(data[:,\u001b[39m0\u001b[39m]))):\n\u001b[0;32m---> 20\u001b[0m         \u001b[39mif\u001b[39;00m i \u001b[39m==\u001b[39;49m j \u001b[39mand\u001b[39;00m i2 \u001b[39m==\u001b[39m j2:\n\u001b[1;32m     21\u001b[0m             matching\u001b[39m.\u001b[39mappend(data[index])\n\u001b[1;32m     24\u001b[0m result \u001b[39m=\u001b[39m torch\u001b[39m.\u001b[39mstack(matching)\n",
      "\u001b[0;31mKeyboardInterrupt\u001b[0m: "
     ]
    }
   ],
   "source": [
    "def match_to_triples(v, data, sparse=True):\n",
    "    if sparse:\n",
    "        # p,_ = torch.div(v.coalesce().indices(), data.num_entities, rounding_mode='floor')#v.coalesce().indices()//data.num_entities\n",
    "        # s,o = v.coalesce().indices()%data.num_entities\n",
    "        # result = torch.stack([s,p,o], dim=1)\n",
    "        matching = []\n",
    "        indexes = v.coalesce().indices()%data.num_entities\n",
    "        for j in range(indexes.size()[1]):\n",
    "            for triple in data.triples:\n",
    "                if triple[0] == indexes[0][j] and triple[2] == indexes[1][j]:\n",
    "                    matching.append(triple)\n",
    "        result = torch.stack(matching)\n",
    "\n",
    "                    \n",
    "    else:\n",
    "        data = data.triples\n",
    "        matching = []\n",
    "        for i,i2 in zip(v[:,0],v[:,1]):\n",
    "            for j,j1,j2, index in zip(data[:,0],data[:,1],  data[:,2], range(len(data[:,0]))):\n",
    "                if i == j and i2 == j2:\n",
    "                    matching.append(data[index])\n",
    "                    \n",
    "\n",
    "        result = torch.stack(matching)\n",
    "    \n",
    "    return result\n",
    "\n",
    "#match_to_triples(v, data, sparse=True)\n",
    "match_to_triples(sub_edges_tensor.t(), data, sparse=False)"
   ]
  },
  {
   "cell_type": "code",
   "execution_count": 217,
   "metadata": {},
   "outputs": [
    {
     "data": {
      "text/plain": [
       "<kgbench.load.Data at 0x7fcf64b28940>"
      ]
     },
     "execution_count": 217,
     "metadata": {},
     "output_type": "execute_result"
    }
   ],
   "source": [
    "data"
   ]
  }
 ],
 "metadata": {
  "kernelspec": {
   "display_name": "base",
   "language": "python",
   "name": "python3"
  },
  "language_info": {
   "codemirror_mode": {
    "name": "ipython",
    "version": 3
   },
   "file_extension": ".py",
   "mimetype": "text/x-python",
   "name": "python",
   "nbconvert_exporter": "python",
   "pygments_lexer": "ipython3",
   "version": "3.9.12"
  },
  "orig_nbformat": 4
 },
 "nbformat": 4,
 "nbformat_minor": 2
}
