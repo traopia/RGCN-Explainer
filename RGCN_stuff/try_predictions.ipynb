{
 "cells": [
  {
   "cell_type": "code",
   "execution_count": 135,
   "metadata": {},
   "outputs": [],
   "source": [
    "import torch \n",
    "import torch.nn as nn\n",
    "import torch.nn.functional as F\n",
    "import pandas as pd\n",
    "import numpy as np\n",
    "from tqdm import tqdm\n",
    "from collections import Counter\n",
    "import kgbench as kg\n",
    "import fire, sys\n",
    "import math\n",
    "\n",
    "from kgbench import load, tic, toc, d\n",
    "\n",
    "\n",
    "import numpy as np\n",
    "import matplotlib.pyplot as plt\n",
    "import matplotlib.cm as cm\n",
    "import matplotlib.colors as mcolors\n",
    "\n",
    "\n",
    "#\n",
    "from torch_geometric.utils import to_networkx\n",
    "import networkx as nx\n",
    "\n",
    "from src.rgcn_explainer_utils import *\n",
    "from IPython.core.interactiveshell import InteractiveShell\n",
    "from rgcn_model import RGCN\n",
    "\n"
   ]
  },
  {
   "cell_type": "code",
   "execution_count": null,
   "metadata": {},
   "outputs": [],
   "source": []
  },
  {
   "cell_type": "code",
   "execution_count": 5,
   "metadata": {},
   "outputs": [
    {
     "name": "stdout",
     "output_type": "stream",
     "text": [
      "/Users/macoftraopia/Documents/GitHub/RGCN-Explainer\n"
     ]
    }
   ],
   "source": [
    "import os\n",
    "\n",
    "# Get the current directory\n",
    "current_dir = os.getcwd()\n",
    "\n",
    "# Get the parent directory\n",
    "parent_dir = os.path.dirname(current_dir)\n",
    "\n",
    "# Check if the current directory is already the parent directory\n",
    "if current_dir != '/Users/macoftraopia/Documents/GitHub/RGCN-Explainer':\n",
    "    # Set the parent directory as the current directory\n",
    "    os.chdir(parent_dir)\n",
    "!pwd"
   ]
  },
  {
   "cell_type": "code",
   "execution_count": 6,
   "metadata": {},
   "outputs": [],
   "source": [
    "\n",
    "def convert_binary(sparse_tensor, threshold):\n",
    "    # convert values to either 0 or 1 based on a threshold of 0.5\n",
    "    mask = sparse_tensor._values() > threshold\n",
    "    converted_values = torch.zeros_like(sparse_tensor._values())\n",
    "    converted_values[mask] = 1\n",
    "    #print number of non zero values\n",
    "    print(\"Number of non zero values: \", converted_values.nonzero().size(0))\n",
    "\n",
    "    # create a new sparse tensor with the converted values\n",
    "    converted_sparse_tensor = torch.sparse_coo_tensor(sparse_tensor._indices(), converted_values, size=sparse_tensor.size())\n",
    "    return converted_sparse_tensor"
   ]
  },
  {
   "cell_type": "code",
   "execution_count": 138,
   "metadata": {},
   "outputs": [
    {
     "name": "stdout",
     "output_type": "stream",
     "text": [
      "loaded data am (28.88s).\n"
     ]
    },
    {
     "data": {
      "text/plain": [
       "tensor([[ 772026,       4],\n",
       "        [ 239273,       1],\n",
       "        [ 726856,       4],\n",
       "        ...,\n",
       "        [ 756836,       7],\n",
       "        [1358781,       5],\n",
       "        [ 333111,       2]], dtype=torch.int32)"
      ]
     },
     "execution_count": 138,
     "metadata": {},
     "output_type": "execute_result"
    }
   ],
   "source": [
    "name = 'am'\n",
    "data = kg.load(name, torch=True)\n",
    "data = prunee(data, 2)\n",
    "data.withheld\n",
    "# model = torch.load(f'/Users/macoftraopia/Documents/GitHub/RGCN-Explainer/chk/{name}_chk/model_{name}_prune_True')"
   ]
  },
  {
   "cell_type": "code",
   "execution_count": 103,
   "metadata": {},
   "outputs": [
    {
     "name": "stdout",
     "output_type": "stream",
     "text": [
      "loaded data aifb (0.1977s).\n",
      "29043\n",
      "26666\n",
      "ypred explain tensor([0.4521, 0.1908, 0.2938, 0.0633], grad_fn=<SoftmaxBackward0>)\n",
      "v binary: tensor(indices=tensor([[ 23451,  23451,  23451,  ..., 329925, 329926, 329927],\n",
      "                       [  5678,   5743,   5746,  ...,   5230,   5230,   5230]]),\n",
      "       values=tensor([1., 1., 0.,  ..., 0., 0., 0.]),\n",
      "       size=(753935, 8285), nnz=1311, layout=torch.sparse_coo) tensor(311)\n",
      "ypred explain binary tensor([0.4549, 0.1793, 0.2861, 0.0797], grad_fn=<SoftmaxBackward0>)\n",
      "ypred true tensor([0])\n",
      "ypred full tensor([9.8647e-01, 5.4700e-04, 1.2982e-02, 1.1929e-06],\n",
      "       grad_fn=<SoftmaxBackward0>)\n"
     ]
    },
    {
     "data": {
      "text/plain": [
       "Counter({2: 55,\n",
       "         9: 2,\n",
       "         10: 1,\n",
       "         15: 1,\n",
       "         18: 52,\n",
       "         21: 27,\n",
       "         23: 1,\n",
       "         27: 1,\n",
       "         28: 1,\n",
       "         30: 57,\n",
       "         36: 3,\n",
       "         39: 1110,\n",
       "         0: 1311})"
      ]
     },
     "execution_count": 103,
     "metadata": {},
     "output_type": "execute_result"
    }
   ],
   "source": [
    "name = 'am'\n",
    "\n",
    "data = kg.load(name, torch=True) \n",
    "print(data.triples.shape[0])\n",
    "node_idx = 5678\n",
    "\n",
    "# else:\n",
    "#     data = torch.load(f'/Users/macoftraopia/Documents/GitHub/RGCN-Explainer/data/IMDB/finals/{name}.pt')\n",
    "\n",
    "data = prunee(data, 2)\n",
    "print(data.triples.shape[0])\n",
    "data.triples = torch.Tensor(data.triples).to(int)#data.triples.clone().detach()\n",
    "data.withheld = torch.Tensor(data.withheld).to(int)#data.withheld.clone().detach()\n",
    "data.training = torch.Tensor(data.training).to(int)#data.training.clone().detach()\n",
    "#\n",
    "# get_relations(data)\n",
    "# d_classes(data)\n",
    "dict_classes = {key.item(): data.withheld[:, 0][data.withheld[:, 1] == key].tolist() for key in torch.unique(data.withheld[:, 1])}\n",
    "if name != 'aifb':\n",
    "    node_idx = dict_classes[0][0]\n",
    "\n",
    "\n",
    "from src.rgcn_explainer_utils import *\n",
    "v = torch.load(f'/Users/macoftraopia/Documents/GitHub/RGCN-Explainer/chk/{name}_chk/size_0.005_lr_0.1_epochs_30_threshold_0.5_init_normal/masked_adj/masked_ver{node_idx}')\n",
    "h = torch.load(f'/Users/macoftraopia/Documents/GitHub/RGCN-Explainer/chk/{name}_chk/size_0.005_lr_0.1_epochs_30_threshold_0.5_init_normal/masked_adj/masked_hor{node_idx}')\n",
    "model = torch.load(f'/Users/macoftraopia/Documents/GitHub/RGCN-Explainer/chk/{name}_chk/model_{name}_prune_True')\n",
    "\n",
    "# v = torch.sparse_coo_tensor(v.coalesce().indices(), torch.sigmoid(v.coalesce().values()), v.size(), requires_grad=True)\n",
    "# h = torch.sparse_coo_tensor(h.coalesce().indices(), torch.sigmoid(h.coalesce().values()), h.size(), requires_grad=True)\n",
    "out = model.forward2(h,v)\n",
    "\n",
    "res = nn.Softmax(dim=0)(out[node_idx])\n",
    "print('ypred explain', res)\n",
    "# print(v.coalesce().values()[v.coalesce().values()>0.5])\n",
    "# print(h.coalesce().values())\n",
    "\n",
    "v_bin,h_bin = convert_binary(v, 0.5), convert_binary(h,0.5)\n",
    "print('v binary:',v_bin, torch.count_nonzero(v_bin.coalesce().values()))\n",
    "res = nn.Softmax(dim=0)(model.forward2(h_bin,v_bin)[node_idx, :])\n",
    "print('ypred explain binary', res)\n",
    "\n",
    "if node_idx in data.withheld[:,0]:\n",
    "    print('ypred true', data.withheld[data.withheld[:,0]==node_idx,1])\n",
    "    \n",
    "from r_exp import hor_ver_graph\n",
    "model.eval()\n",
    "hor_graph, ver_graph = hor_ver_graph(data.triples, data.num_entities, data.num_relations)\n",
    "y_full = model.forward2(hor_graph, ver_graph)\n",
    "node_pred_full = y_full[node_idx, :]\n",
    "res_full = nn.Softmax(dim=0)(node_pred_full)\n",
    "print('ypred full', res_full)\n",
    "\n",
    "m = match_to_triples(v,h,data, node_idx)\n",
    "Counter(m[:,1].tolist())"
   ]
  },
  {
   "cell_type": "code",
   "execution_count": 110,
   "metadata": {},
   "outputs": [],
   "source": [
    "def select_on_relation_sparse(sparse_tensor,data, relation):\n",
    "    ''' Selects the values of a sparse tensor based on the relation'''\n",
    "    output_indices, output_values, value_indices=select_relation(sparse_tensor,data.num_entities,relation)\n",
    "    coalesced_tensor = sparse_tensor.coalesce()\n",
    "    coalesced_values = coalesced_tensor._values()\n",
    "    coalesced_indices = coalesced_tensor._indices()\n",
    "    coalesced_values[value_indices] = 0\n",
    "    masked_sparse_tensor = torch.sparse_coo_tensor(coalesced_indices, coalesced_values, sparse_tensor.size())\n",
    "    return masked_sparse_tensor\n",
    "  "
   ]
  },
  {
   "cell_type": "code",
   "execution_count": 129,
   "metadata": {},
   "outputs": [
    {
     "data": {
      "text/plain": [
       "tensor(193)"
      ]
     },
     "execution_count": 129,
     "metadata": {},
     "output_type": "execute_result"
    }
   ],
   "source": [
    "def select_one_relation(sparse_tensor,data, relation):\n",
    "    ''' Selects the values of a sparse tensor based on the relation'''\n",
    "    sparse_tensor = torch.sparse_coo_tensor(sparse_tensor._indices(), torch.zeros(sparse_tensor._indices().shape[1]), sparse_tensor.size() )\n",
    "    output_indices, output_values, value_indices=select_relation(sparse_tensor,data.num_entities,relation)\n",
    "    coalesced_tensor = sparse_tensor.coalesce()\n",
    "    coalesced_values = coalesced_tensor._values()\n",
    "    coalesced_indices = coalesced_tensor._indices()\n",
    "    coalesced_values[value_indices] = 1\n",
    "    masked_sparse_tensor = torch.sparse_coo_tensor(coalesced_indices, coalesced_values, sparse_tensor.size())\n",
    "    return masked_sparse_tensor\n",
    "\n",
    "v = select_one_relation(v,data, 2)\n",
    "h = select_one_relation(h,data, 2)\n"
   ]
  },
  {
   "cell_type": "code",
   "execution_count": 134,
   "metadata": {},
   "outputs": [
    {
     "name": "stdout",
     "output_type": "stream",
     "text": [
      "correct only with http://swrc.ontoware.org/ontology#phone\n",
      "ypred only with http://swrc.ontoware.org/ontology#phone, 27 tensor([0.2593, 0.2533, 0.2668, 0.2206], grad_fn=<SoftmaxBackward0>)\n",
      "correct only with http://swrc.ontoware.org/ontology#publication\n",
      "ypred only with http://swrc.ontoware.org/ontology#publication, 30 tensor([0.1912, 0.2236, 0.5274, 0.0578], grad_fn=<SoftmaxBackward0>)\n"
     ]
    }
   ],
   "source": [
    "v = torch.load(f'/Users/macoftraopia/Documents/GitHub/RGCN-Explainer/chk/{name}_chk/size_0.005_lr_0.1_epochs_30_threshold_0.5_init_normal/masked_adj/masked_ver{node_idx}')\n",
    "h = torch.load(f'/Users/macoftraopia/Documents/GitHub/RGCN-Explainer/chk/{name}_chk/size_0.005_lr_0.1_epochs_30_threshold_0.5_init_normal/masked_adj/masked_hor{node_idx}')\n",
    "#loop over keys of counter\n",
    "for key in Counter(m[:,1].tolist()).keys():\n",
    "    # v_ = select_on_relation_sparse(v,data, key)\n",
    "    # h_ = select_on_relation_sparse(h,data, key)\n",
    "    v_ = select_one_relation(v,data, key)\n",
    "    h_ = select_one_relation(h,data, key)\n",
    "    out = model.forward2(h_,v_)\n",
    "    res = nn.Softmax(dim=0)(out[node_idx])\n",
    "    #print(f'ypred explain no {data.i2r[key]}, {key}', res)\n",
    "    if torch.argmax(res)!=torch.argmax(res_full):\n",
    "        pass\n",
    "        #print(f'wrong prediction without {data.i2r[key]}')\n",
    "    else:\n",
    "        print(f'correct only with {data.i2r[key]}')\n",
    "        print(f'ypred only with {data.i2r[key]}, {key}', res)\n",
    "\n"
   ]
  },
  {
   "cell_type": "code",
   "execution_count": 102,
   "metadata": {},
   "outputs": [
    {
     "name": "stdout",
     "output_type": "stream",
     "text": [
      "ypred true tensor([2])\n",
      "ypred explain all subgraph: 0 with prediction probability: tensor([0.2730, 0.2465, 0.2477, 0.2329], grad_fn=<SoftmaxBackward0>)\n"
     ]
    }
   ],
   "source": [
    "#define a baseline: no use RGCNExplainer - just rule out relations based on prediction of the model\n",
    "\n",
    "#node:\n",
    "node_idx = 5757\n",
    "\n",
    "#label for that node\n",
    "if node_idx in data.withheld[:,0]:\n",
    "    print('ypred true', data.withheld[data.withheld[:,0]==node_idx,1])\n",
    "\n",
    "#edge index\n",
    "edge_index = edge_index_oneadj(data.triples)\n",
    "\n",
    "#number of hops\n",
    "n_hops = 2\n",
    "\n",
    "#augment dataset with self loops and inverse relations\n",
    "\n",
    "hor_graph, ver_graph = hor_ver_graph(data.triples, data.num_entities, data.num_relations)\n",
    "\n",
    "#get the edge index at 2 hops per node\n",
    "_,_,index_h = find_n_hop_neighbors(hor_graph.coalesce().indices(), n_hops, node_idx)\n",
    "_,_,index_v = find_n_hop_neighbors(ver_graph.coalesce().indices(), n_hops, node_idx)\n",
    "\n",
    "h = torch.sparse_coo_tensor(index_h, torch.ones(index_h.shape[1]), hor_graph.size() )\n",
    "v = torch.sparse_coo_tensor(index_v, torch.ones(index_v.shape[1]), ver_graph.size() )\n",
    "\n",
    "#match to triple\n",
    "m = match_to_triples(v,h, data)\n",
    "\n",
    "#counter of relations in the 2 hops subgraph\n",
    "Counter(m[:,1].tolist())\n",
    "\n",
    "#forward pass of the model\n",
    "out = model.forward2(h,v)\n",
    "res = nn.Softmax(dim=0)(out[node_idx])\n",
    "print(f'ypred explain all subgraph: {torch.argmax(res)} with prediction probability: {res}')\n"
   ]
  },
  {
   "cell_type": "code",
   "execution_count": 117,
   "metadata": {},
   "outputs": [
    {
     "name": "stdout",
     "output_type": "stream",
     "text": [
      "ypred full tensor([4.2013e-07, 1.4282e-06, 1.0000e+00, 6.0994e-09],\n",
      "       grad_fn=<SoftmaxBackward0>)\n",
      "for node 5757, wrong prediction without http://swrc.ontoware.org/ontology#publication\n"
     ]
    }
   ],
   "source": [
    "node_idx = 5757\n",
    "hor_graph, ver_graph = hor_ver_graph(data.triples, data.num_entities, data.num_relations)\n",
    "y_full = model.forward2(hor_graph, ver_graph)\n",
    "node_pred_full = y_full[node_idx, :]\n",
    "res_full = nn.Softmax(dim=0)(node_pred_full)\n",
    "print('ypred full', res_full)\n",
    "\n",
    "m = match_to_triples(ver_graph,hor_graph,data, node_idx)\n",
    "v, h = ver_graph, hor_graph\n",
    "for key in Counter(m[:,1].tolist()).keys():\n",
    "    v_ = select_on_relation_sparse(v,data, key)\n",
    "    h_ = select_on_relation_sparse(h,data, key)\n",
    "    out = model.forward2(h_,v_)\n",
    "    res = nn.Softmax(dim=0)(out[node_idx])\n",
    "    #print(f'ypred explain no {data.i2r[key]}, {key}', res)\n",
    "    if torch.argmax(res)!=torch.argmax(res_full):\n",
    "        print(f'for node {node_idx}, wrong prediction without {data.i2r[key]}')"
   ]
  },
  {
   "cell_type": "code",
   "execution_count": 99,
   "metadata": {},
   "outputs": [
    {
     "name": "stdout",
     "output_type": "stream",
     "text": [
      "ypred explain no http://swrc.ontoware.org/ontology#author, 2 tensor([0.2730, 0.2465, 0.2477, 0.2329], grad_fn=<SoftmaxBackward0>)\n",
      "ypred explain no http://swrc.ontoware.org/ontology#editor, 9 tensor([0.2730, 0.2465, 0.2477, 0.2329], grad_fn=<SoftmaxBackward0>)\n",
      "ypred explain no http://swrc.ontoware.org/ontology#isWorkedOnBy, 18 tensor([0.2730, 0.2465, 0.2477, 0.2329], grad_fn=<SoftmaxBackward0>)\n",
      "ypred explain no http://swrc.ontoware.org/ontology#member, 21 tensor([0.2730, 0.2465, 0.2477, 0.2329], grad_fn=<SoftmaxBackward0>)\n",
      "ypred explain no http://swrc.ontoware.org/ontology#abstract, 0 tensor([0.2730, 0.2465, 0.2477, 0.2329], grad_fn=<SoftmaxBackward0>)\n"
     ]
    }
   ],
   "source": [
    "for key in Counter(m[:,1].tolist()).keys():\n",
    "    v_ = select_on_relation_sparse(v,data, key)\n",
    "    h_ = select_on_relation_sparse(h,data, key)\n",
    "    out = model.forward2(h_,v_)\n",
    "    res = nn.Softmax(dim=0)(out[node_idx])\n",
    "    print(f'ypred explain no {data.i2r[key]}, {key}', res)\n",
    "    if torch.argmax(res)!=torch.argmax(res_full):\n",
    "        print(f'wrong prediction without {data.i2r[key]}')"
   ]
  },
  {
   "cell_type": "code",
   "execution_count": 180,
   "metadata": {},
   "outputs": [
    {
     "data": {
      "text/plain": [
       "11"
      ]
     },
     "execution_count": 180,
     "metadata": {},
     "output_type": "execute_result"
    }
   ],
   "source": [
    "#get the node of the most important relations - the relations with the highest weights\n",
    "\n",
    "tensor_list = (list(v.coalesce().indices()[1][v.coalesce().values()>0.5]) + list(h.coalesce().indices()[0][h.coalesce().values()>0.5]))\n",
    "float_list = [tensor.item() for tensor in tensor_list]\n",
    "len(set(float_list))\n"
   ]
  },
  {
   "cell_type": "code",
   "execution_count": 159,
   "metadata": {},
   "outputs": [
    {
     "name": "stdout",
     "output_type": "stream",
     "text": [
      "loaded data aifb (0.2127s).\n"
     ]
    },
    {
     "data": {
      "text/plain": [
       "1601"
      ]
     },
     "execution_count": 159,
     "metadata": {},
     "output_type": "execute_result"
    },
    {
     "data": {
      "text/plain": [
       "1171"
      ]
     },
     "execution_count": 159,
     "metadata": {},
     "output_type": "execute_result"
    }
   ],
   "source": [
    "from src.rgcn_explainer_utils import find_n_hop_neighbors, edge_index_oneadj\n",
    "\n",
    "data = kg.load('aifb', torch=True) \n",
    "#data = prunee(data, 2)\n",
    "a_l,n, a = find_n_hop_neighbors( edge_index_oneadj(data.triples), 2, 5757)\n",
    "len(a_l)\n",
    "len(set(n))"
   ]
  },
  {
   "cell_type": "code",
   "execution_count": 161,
   "metadata": {},
   "outputs": [
    {
     "name": "stdout",
     "output_type": "stream",
     "text": [
      "tensor([5388,   18, 5857])\n",
      "tensor([5505,   21, 5857])\n",
      "tensor([5857,   10,    0])\n",
      "tensor([5857,   23, 4559])\n",
      "tensor([5857,   27,    0])\n",
      "tensor([5857,   28, 5637])\n",
      "tensor([5857,   30, 6894])\n",
      "tensor([5857,   30, 6949])\n",
      "tensor([5857,   30, 7140])\n",
      "tensor([5857,   30, 7142])\n",
      "tensor([5857,   30, 7258])\n",
      "tensor([5857,   30, 7892])\n",
      "tensor([5857,   36, 5917])\n",
      "tensor([5857,   36, 5935])\n",
      "tensor([5857,   39, 5230])\n",
      "tensor([5857,   39, 5231])\n",
      "tensor([5917,   21, 5857])\n",
      "tensor([5935,   21, 5857])\n",
      "tensor([5967,   21, 5857])\n",
      "tensor([6894,    2, 5857])\n",
      "tensor([6949,    2, 5857])\n",
      "tensor([7140,    2, 5857])\n",
      "tensor([7142,    2, 5857])\n",
      "tensor([7258,    2, 5857])\n",
      "tensor([7892,    2, 5857])\n"
     ]
    },
    {
     "data": {
      "text/plain": [
       "25"
      ]
     },
     "execution_count": 161,
     "metadata": {},
     "output_type": "execute_result"
    },
    {
     "data": {
      "text/plain": [
       "[tensor(5388),\n",
       " tensor(5505),\n",
       " tensor(0),\n",
       " tensor(4559),\n",
       " tensor(0),\n",
       " tensor(5637),\n",
       " tensor(6894),\n",
       " tensor(6949),\n",
       " tensor(7140),\n",
       " tensor(7142),\n",
       " tensor(7258),\n",
       " tensor(7892),\n",
       " tensor(5917),\n",
       " tensor(5935),\n",
       " tensor(5230),\n",
       " tensor(5231),\n",
       " tensor(5917),\n",
       " tensor(5935),\n",
       " tensor(5967),\n",
       " tensor(6894),\n",
       " tensor(6949),\n",
       " tensor(7140),\n",
       " tensor(7142),\n",
       " tensor(7258),\n",
       " tensor(7892)]"
      ]
     },
     "execution_count": 161,
     "metadata": {},
     "output_type": "execute_result"
    }
   ],
   "source": [
    "count = 0\n",
    "others = []\n",
    "for i in data.triples:\n",
    "\n",
    "    if i[0] == 5857:\n",
    "        print(i)\n",
    "        count += 1\n",
    "        others.append(i[2])\n",
    "    if i[2] == 5857:\n",
    "        print(i)\n",
    "        count += 1\n",
    "        others.append(i[0])\n",
    "\n",
    "count\n",
    "others"
   ]
  },
  {
   "cell_type": "code",
   "execution_count": 160,
   "metadata": {},
   "outputs": [
    {
     "name": "stdout",
     "output_type": "stream",
     "text": [
      "1343\n",
      "14\n"
     ]
    },
    {
     "data": {
      "text/plain": [
       "1343"
      ]
     },
     "execution_count": 160,
     "metadata": {},
     "output_type": "execute_result"
    }
   ],
   "source": [
    "count = 0\n",
    "l = []\n",
    "a = []\n",
    "for i in data.triples:\n",
    "    for n in others:\n",
    "        if i[0] == int(n) or i[2] == int(n):\n",
    "            count += 1\n",
    "            l.append(n)\n",
    "            a.append(i)\n",
    "            #print(i)\n",
    "            break\n",
    "res = set(l)\n",
    "resa = set(a)\n",
    "print(len(resa))            \n",
    "print(len(res))\n",
    "count\n",
    "#others"
   ]
  },
  {
   "cell_type": "code",
   "execution_count": 72,
   "metadata": {},
   "outputs": [],
   "source": [
    "def find_repeating_sublists(sublists):\n",
    "    repeating_elements = {}\n",
    "\n",
    "    for sublist in sublists:\n",
    "        key1 = (sublist[0], sublist[2])\n",
    "        key2 = (sublist[2], sublist[0])\n",
    "\n",
    "        if key1 in repeating_elements:\n",
    "            repeating_elements[key1].append(sublist[1])\n",
    "        elif key2 in repeating_elements:\n",
    "            repeating_elements[key2].append(sublist[1])\n",
    "        else:\n",
    "            repeating_elements[key1] = [sublist[1]]\n",
    "\n",
    "    result_array = []\n",
    "    for key, values in repeating_elements.items():\n",
    "        if len(values) > 1:\n",
    "            result_array.append([key[0], values, key[1]])\n",
    "        else:\n",
    "            result_array.append([key[0], [values[0]], key[1]])\n",
    "\n",
    "    return result_array\n",
    "\n",
    "def unnest_list(nested_list):\n",
    "    return [item for sublist in nested_list for item in (unnest_list(sublist) if isinstance(sublist, list) else [sublist])]\n",
    "\n",
    "def visualize(node_idx, n_hop, data, masked_ver,threshold,name, result_weights=True, low_threshold=False ):\n",
    "    \"\"\" \n",
    "    Visualize important nodes for node idx prediction\n",
    "    \"\"\"\n",
    "    dict_index = dict_index_classes(data,masked_ver)\n",
    "    \n",
    "    #select only nodes with a certain threshold\n",
    "    sel_masked_ver = sub_sparse_tensor(masked_ver, threshold,data, low_threshold)\n",
    "    if len(sel_masked_ver)==0:\n",
    "        sel_masked_ver=sub_sparse_tensor(masked_ver, 0,data, low_threshold)\n",
    "    print('sel masked ver',sel_masked_ver)\n",
    "    indices_nodes = sel_masked_ver.coalesce().indices().detach().numpy()\n",
    "    new_index = np.transpose(np.stack((indices_nodes[0], indices_nodes[1]))) #original edge indexes\n",
    "\n",
    "    \n",
    "    \n",
    "    G = nx.Graph()\n",
    "    if result_weights:\n",
    "        values = sel_masked_ver.coalesce().values().detach().numpy()\n",
    "        for s,p,o in zip(indices_nodes[0],values , indices_nodes[1]):\n",
    "            G.add_edge(int(s), int(o), weight=np.round(p, 2))\n",
    "\n",
    "    else:\n",
    "\n",
    "        triples_matched = match_to_triples(sel_masked_ver, data)\n",
    "        l = []\n",
    "        for i in triples_matched[:,1]:\n",
    "            l.append(data.i2rel[int(i)][0])\n",
    "        triples_matched = find_repeating_sublists(triples_matched.numpy())\n",
    "        for s,p,o in triples_matched:\n",
    "            G.add_edge(int(s), int(o), weight=p)\n",
    "\n",
    "\n",
    "    edges,weights = zip(*nx.get_edge_attributes(G,'weight').items())\n",
    "    \n",
    "    weights = [[item] if not isinstance(item, list) else item for item in weights]\n",
    "\n",
    "\n",
    "    pos = nx.circular_layout(G)\n",
    "\n",
    "    ordered_dict = {}\n",
    "    for item in list(G.nodes):\n",
    "        if item in ordered_dict:\n",
    "            ordered_dict[item].append(dict_index[item])\n",
    "        else:\n",
    "            ordered_dict[item] =  dict_index[item]\n",
    "\n",
    "    dict_index = ordered_dict\n",
    "\n",
    "    labeldict = {}\n",
    "    for node in G.nodes:\n",
    "        labeldict[int(node)] = int(node)  \n",
    "\n",
    "\n",
    "    dict = {}\n",
    "    for k,v in dict_index.items():\n",
    "        for k1,v1 in data.entities_classes.items():\n",
    "            if v==k1: \n",
    "\n",
    "                dict[k] = v1\n",
    "            else:\n",
    "                if k not in dict:\n",
    "                    dict[k] = 0\n",
    "                \n",
    "\n",
    "    color_list = list(dict.values())\n",
    "    color_list = list(encode_dict(dict_index).values())\n",
    "\n",
    "\n",
    "    col_weights = [weights[i][0] for i in range(len(weights))]\n",
    "    if result_weights:\n",
    "        \n",
    "        nx.draw(G, pos,labels = labeldict,  edgelist=edges, edge_color=col_weights, node_color =  color_list, cmap=\"Set2\",edge_cmap=plt.cm.Reds,font_size=8)\n",
    "        nx.draw_networkx_edge_labels( G, pos,edge_labels=nx.get_edge_attributes(G,'weight'),font_size=8,font_color='red')\n",
    "        sm = plt.cm.ScalarMappable(cmap=plt.cm.Reds, norm=plt.Normalize(vmin=0, vmax=1))\n",
    "        sm.set_array(weights)\n",
    "        cbar = plt.colorbar(sm)\n",
    "        cbar.ax.set_title('Weight')\n",
    "        plt.title(\"Node {}'s {}-hop neighborhood important nodes\".format(node_idx, n_hop))\n",
    "    else:\n",
    "        rel = nx.get_edge_attributes(G,'weight')\n",
    "        rel = {k: [data.i2rel[i][0] for i in v] for k,v in rel.items()}\n",
    "        col_weights = [sum(weights[i], 3) if len(weights[i]) > 1 else weights[i][0] for i in range(len(weights))]\n",
    "        nx.draw(G, pos,labels = labeldict, edge_color=col_weights,edgelist=edges,node_color =  color_list, cmap=\"Set2\",font_size=7, arrows = True)\n",
    "        nx.draw_networkx_edge_labels( G, pos,edge_labels=rel,font_size=8,font_color='red')\n",
    "        \n",
    "        res = Counter(unnest_list(rel.values()))\n",
    "    if result_weights:\n",
    "        if not os.path.exists(f'chk/{name}_chk/graphs'):\n",
    "            os.makedirs(f'chk/{name}_chk/graphs')  \n",
    "        plt.savefig(f'chk/{name}_chk/graphs/Explanation_{node_idx}_{n_hop}_weights.png')\n",
    "\n",
    "        #plt.show()\n",
    "\n",
    "    else:\n",
    "        if not os.path.exists(f'chk/{name}_chk/graphs'):\n",
    "            os.makedirs(f'chk/{name}_chk/graphs')  \n",
    "        plt.savefig(f'chk/{name}_chk/graphs/Explanation_{node_idx}_{n_hop}_relations.png')    \n",
    "        #plt.show()\n",
    "        return res, weights\n",
    "    "
   ]
  },
  {
   "cell_type": "code",
   "execution_count": 74,
   "metadata": {},
   "outputs": [
    {
     "name": "stdout",
     "output_type": "stream",
     "text": [
      "sel masked ver tensor(indices=tensor([[6860, 6874, 6920, 6976, 7731, 7837, 7857, 7905, 7933,\n",
      "                        7973, 5757, 5757, 5757, 5757, 5757, 5757, 5757, 5757,\n",
      "                        5757, 5757, 5757, 5757, 5757, 5757],\n",
      "                       [5757, 5757, 5757, 5757, 5757, 5757, 5757, 5757, 5757,\n",
      "                        5757,  908, 2227, 1002, 6860, 6874, 6920, 6976, 7731,\n",
      "                        7837, 7857, 7905, 7933, 7973, 5230]]),\n",
      "       values=tensor([0.9269, 0.9225, 0.9169, 0.2052, 0.9149, 0.2027, 0.9077,\n",
      "                      0.2068, 0.9123, 0.1876, 0.1826, 0.9114, 0.2000, 0.9098,\n",
      "                      0.2027, 0.9020, 0.1819, 0.1815, 0.9160, 0.1857, 0.1849,\n",
      "                      0.9072, 0.1921, 0.9121]),\n",
      "       size=(7974, 7974), nnz=24, layout=torch.sparse_coo)\n"
     ]
    },
    {
     "data": {
      "image/png": "[encoded data removed]",
      "text/plain": [
       "<Figure size 640x480 with 1 Axes>"
      ]
     },
     "metadata": {},
     "output_type": "display_data"
    }
   ],
   "source": [
    "\n",
    "v = torch.load(f'/Users/macoftraopia/Documents/GitHub/RGCN-Explainer/chk/{name}_chk/masked_adj/masked_ver{node_idx}_new')\n",
    "res, weights = visualize(node_idx, 2, data, v, 0, name, result_weights=False, low_threshold=False)"
   ]
  },
  {
   "cell_type": "code",
   "execution_count": 192,
   "metadata": {},
   "outputs": [],
   "source": [
    "import torch\n",
    "\n",
    "def hor_ver_graph(triples, n, r):\n",
    "    \"\"\"\n",
    "    input: triples, number of nodes, number of relations\n",
    "    output: hor_graph, ver_graph : horizontally and vertically stacked adjacency matrix\n",
    "    \"\"\"\n",
    "\n",
    "    hor_ind, hor_size = adj(triples, n, 2*r+1, vertical=False)\n",
    "    ver_ind, ver_size = adj(triples, n, 2*r+1, vertical=True)\n",
    "\n",
    "    rn, _ = hor_size  # horizontally stacked adjacency matrix size\n",
    "    r = rn // n  # number of relations enriched divided by number of nodes\n",
    "\n",
    "    vals = torch.ones(ver_ind.size(0), dtype=torch.float)  # number of enriched triples\n",
    "\n",
    "    hor_graph = torch.sparse.FloatTensor(hor_ind.t(), vals, hor_size)  # size: n, r, emb\n",
    "    ver_graph = torch.sparse.FloatTensor(ver_ind.t(), vals, ver_size)\n",
    "\n",
    "    return hor_graph, ver_graph\n",
    "\n",
    "def adj(triples, num_nodes, num_rels, cuda=False, vertical=True):\n",
    "    \"\"\"\n",
    "     Computes a sparse adjacency matrix for the given graph (the adjacency matrices of all\n",
    "     relations are stacked vertically).\n",
    "\n",
    "     :param edges: List representing the triples\n",
    "     :param i2r: list of relations\n",
    "     :param i2n: list of nodes\n",
    "     :return: sparse tensor\n",
    "    \"\"\"\n",
    "    r, n = num_rels, num_nodes\n",
    "    size = (r * n, n) if vertical else (n, r * n)\n",
    "\n",
    "    from_indices = []\n",
    "    upto_indices = []\n",
    "\n",
    "    for s, p, o in triples:\n",
    "        offset = p.item() * n\n",
    "        s = offset + s.item() if vertical else s.item()\n",
    "        o = offset + o.item() if not vertical else o.item()\n",
    "        from_indices.append(s)\n",
    "        upto_indices.append(o)\n",
    "\n",
    "    indices = torch.tensor([from_indices, upto_indices], dtype=torch.long, device=d(cuda))\n",
    "\n",
    "    return indices.t(), size\n",
    "\n"
   ]
  },
  {
   "cell_type": "code",
   "execution_count": 194,
   "metadata": {},
   "outputs": [
    {
     "data": {
      "text/plain": [
       "(tensor([[352915,   5230],\n",
       "         [352916,   5230],\n",
       "         [352921,   5230],\n",
       "         ...,\n",
       "         [329873,   5230],\n",
       "         [329889,   5230],\n",
       "         [329890,   5230]]),\n",
       " (372825, 8285))"
      ]
     },
     "execution_count": 194,
     "metadata": {},
     "output_type": "execute_result"
    },
    {
     "data": {
      "text/plain": [
       "(tensor(indices=tensor([[  4945,   4946,   4951,  ...,   6758,   6774,   6775],\n",
       "                        [353200, 353200, 353200,  ..., 328345, 328345, 328345]]),\n",
       "        values=tensor([1., 1., 1.,  ..., 1., 1., 1.]),\n",
       "        size=(8285, 753935), nnz=26666, layout=torch.sparse_coo),\n",
       " tensor(indices=tensor([[352915, 352916, 352921,  ..., 329873, 329889, 329890],\n",
       "                        [  5230,   5230,   5230,  ...,   5230,   5230,   5230]]),\n",
       "        values=tensor([1., 1., 1.,  ..., 1., 1., 1.]),\n",
       "        size=(753935, 8285), nnz=26666, layout=torch.sparse_coo))"
      ]
     },
     "execution_count": 194,
     "metadata": {},
     "output_type": "execute_result"
    }
   ],
   "source": [
    "adj(data.triples, data.num_entities, data.num_relations, cuda=False, vertical=True)\n",
    "hor_ver_graph(data.triples, data.num_entities, data.num_relations)"
   ]
  },
  {
   "cell_type": "code",
   "execution_count": 276,
   "metadata": {},
   "outputs": [],
   "source": [
    "\n",
    "hor_graph, ver_graph = hor_ver_graph(data.triples, data.num_entities, data.num_relations)\n",
    "edge_h, edge_v = hor_graph.coalesce().indices(), ver_graph.coalesce().indices()\n",
    "_,_,sub_edges_tensor_h  = find_n_hop_neighbors(edge_h,2, 5699)\n",
    "_,_,sub_edges_tensor_v  = find_n_hop_neighbors(edge_v,2, 5699)\n"
   ]
  },
  {
   "cell_type": "code",
   "execution_count": 282,
   "metadata": {},
   "outputs": [
    {
     "data": {
      "text/plain": [
       "0"
      ]
     },
     "execution_count": 282,
     "metadata": {},
     "output_type": "execute_result"
    }
   ],
   "source": [
    "len(sub_edges_tensor_v)"
   ]
  },
  {
   "cell_type": "code",
   "execution_count": 247,
   "metadata": {},
   "outputs": [
    {
     "data": {
      "text/plain": [
       "tensor([[4945, 4946, 4951,  ..., 6758, 6774, 6775],\n",
       "        [5230, 5230, 5230,  ..., 5230, 5230, 5230]])"
      ]
     },
     "execution_count": 247,
     "metadata": {},
     "output_type": "execute_result"
    },
    {
     "data": {
      "text/plain": [
       "tensor([[4945, 4946, 4951,  ..., 6758, 6774, 6775],\n",
       "        [5230, 5230, 5230,  ..., 5230, 5230, 5230]])"
      ]
     },
     "execution_count": 247,
     "metadata": {},
     "output_type": "execute_result"
    },
    {
     "name": "stderr",
     "output_type": "stream",
     "text": [
      "/var/folders/ww/33zq_rh50tx94n81lb4thx0w0000gn/T/ipykernel_39897/416362161.py:4: UserWarning: __floordiv__ is deprecated, and its behavior will change in a future version of pytorch. It currently rounds toward 0 (like the 'trunc' function NOT 'floor'). This results in incorrect rounding for negative values. To keep the current behavior, use torch.div(a, b, rounding_mode='trunc'), or for actual floor division, use torch.div(a, b, rounding_mode='floor').\n",
      "  r = sub_edges_tensor//data.num_entities\n"
     ]
    },
    {
     "data": {
      "text/plain": [
       "tensor([[0, 0, 0,  ..., 0, 0, 0],\n",
       "        [0, 0, 0,  ..., 0, 0, 0]])"
      ]
     },
     "execution_count": 247,
     "metadata": {},
     "output_type": "execute_result"
    }
   ],
   "source": [
    "sub_edges_tensor\n",
    "indexes = sub_edges_tensor%data.num_entities\n",
    "indexes\n",
    "r = sub_edges_tensor//data.num_entities\n",
    "r"
   ]
  },
  {
   "cell_type": "code",
   "execution_count": 239,
   "metadata": {},
   "outputs": [
    {
     "data": {
      "text/plain": [
       "tensor([[4945,    0, 5230],\n",
       "        [4946,    0, 5230],\n",
       "        [4951,    0, 5230],\n",
       "        ...,\n",
       "        [6758,    0, 5230],\n",
       "        [6774,    0, 5230],\n",
       "        [6775,    0, 5230]])"
      ]
     },
     "execution_count": 239,
     "metadata": {},
     "output_type": "execute_result"
    }
   ],
   "source": [
    "_,p = torch.div(sub_edges_tensor, data.num_entities, rounding_mode='floor')#v.coalesce().indices()//data.num_entities\n",
    "s,o = sub_edges_tensor%data.num_entities\n",
    "result = torch.stack([s,p,o], dim=1)\n",
    "result"
   ]
  },
  {
   "cell_type": "code",
   "execution_count": 217,
   "metadata": {},
   "outputs": [
    {
     "data": {
      "text/plain": [
       "<kgbench.load.Data at 0x7fcf64b28940>"
      ]
     },
     "execution_count": 217,
     "metadata": {},
     "output_type": "execute_result"
    }
   ],
   "source": [
    "#try initialization where the first hop neighborhood gets initialized with 1s and the rest with different methods??\n",
    "def construct_edge_mask(self, num_nodes,sparse_tensor,data, const_val=1.0, relation_id = 2):\n",
    "    \"\"\"\n",
    "    Construct edge mask\n",
    "    \"\"\"\n",
    "    init_strategy = self.init_strategy\n",
    "    # if num_nodes > 1000:\n",
    "    #     init(strategy=\"const\", const_val=0.1)\n",
    "    data = self.data\n",
    "    num_entities = data.num_entities\n",
    "    torch.manual_seed(42)\n",
    "    mask = nn.Parameter(torch.FloatTensor(num_nodes))\n",
    "\n",
    "    if init_strategy == \"normal\":\n",
    "        std = nn.init.calculate_gain(\"relu\") * math.sqrt(\n",
    "            2.0 / (num_nodes + num_nodes)\n",
    "        )\n",
    "        with torch.no_grad():\n",
    "            mask.normal_(1.0, std)\n",
    "    elif init_strategy == \"const\":\n",
    "        nn.init.constant_(mask, const_val) \n",
    "    elif init_strategy == \"zero_out\":\n",
    "        '''initialize the mask with the zero out strategy: we zero out edges belonging to specific relations'''\n",
    "        std = nn.init.calculate_gain(\"relu\") * math.sqrt(\n",
    "            2.0 / (num_nodes + num_nodes)\n",
    "        )\n",
    "        with torch.no_grad():\n",
    "            mask.normal_(1.0, std)\n",
    "        output_indices, output_values, value_indices=select_relation(sparse_tensor,relation_id)\n",
    "        _,_,value_indices1=select_relation(sparse_tensor,33)\n",
    "        print(value_indices, value_indices1)\n",
    "        value_indices = torch.cat((value_indices, value_indices1), 0)\n",
    "        mask.data[[value_indices]] = 0\n",
    "    \n",
    "\n",
    "    elif init_strategy == \"overall_frequency\":\n",
    "        '''Initialize the mask with the overall frequency of the relations'''\n",
    "        _ ,p = torch.div(sparse_tensor.coalesce().indices(), num_entities, rounding_mode='floor').tolist()\n",
    "        overall_rel_frequency = dict(Counter(data.triples[:,1].tolist()))#.most_common()\n",
    "\n",
    "        overall_rel_frequency_  = {key: round(value/len(data.triples[:,1].tolist()),5) for key, value in overall_rel_frequency.items()}\n",
    "        for i in p:\n",
    "            _,_,value_indices=select_relation(sparse_tensor,num_entities,i)\n",
    "            mask.data[[value_indices]] = overall_rel_frequency_[i]\n",
    "    \n",
    "    elif init_strategy == \"relative_frequency\":\n",
    "        ''' Initialize the mask with the relative frequency of the relations-relative for the node to be explained'''\n",
    "        _ ,p = torch.div(sparse_tensor.coalesce().indices(), num_entities, rounding_mode='floor').tolist()\n",
    "        rel_frequency = dict(Counter(p))\n",
    "        rel_frequency_  = {key: round(value/len(p),5) for key, value in rel_frequency.items()}\n",
    "        for i in p:\n",
    "            _,_,value_indices=select_relation(sparse_tensor,num_entities,i)\n",
    "            mask.data[[value_indices]] = rel_frequency_[i]\n",
    "\n",
    "    elif init_strategy == \"inverse_relative_frequency\":\n",
    "        ''' Initialize the mask with the relative frequency of the relations-relative for the node to be explained'''\n",
    "        _ ,p = torch.div(sparse_tensor.coalesce().indices(), num_entities, rounding_mode='floor').tolist()\n",
    "        rel_frequency = dict(Counter(p))\n",
    "        rel_frequency_  = {key: 1 - round(value/len(p),5) for key, value in rel_frequency.items()}\n",
    "        for i in p:\n",
    "            _,_,value_indices=select_relation(sparse_tensor,num_entities,i)\n",
    "            mask.data[[value_indices]] = rel_frequency_[i]\n",
    "\n",
    "\n",
    "    elif init_strategy == \"domain_frequency\":\n",
    "        _ ,p = torch.div(sparse_tensor.coalesce().indices(), num_entities, rounding_mode='floor').tolist()\n",
    "        dict_domain, dict_range = domain_range_freq(data, len(d_classes(data)))\n",
    "        for i in p:\n",
    "\n",
    "            _,_,value_indices=select_relation(sparse_tensor,num_entities,i)\n",
    "            mask.data[[value_indices]] = dict_domain[i]\n",
    "\n",
    "    elif init_strategy == \"range_frequency\":\n",
    "        _ ,p = torch.div(sparse_tensor.coalesce().indices(), num_entities, rounding_mode='floor').tolist()\n",
    "        dict_domain, dict_range = domain_range_freq(data, len(d_classes(data)))\n",
    "        for i in p:\n",
    "                _,_,value_indices=select_relation(sparse_tensor,num_entities,i)\n",
    "                mask.data[[value_indices]] = dict_range[i]\n",
    "    elif init_strategy == \"rdf\":\n",
    "        rdf = [i for i in range(data.num_relations) if 'rdf' in data.i2r[i]]\n",
    "        for i in rdf:\n",
    "            _,_,value_indices=select_relation(sparse_tensor,num_entities,i)\n",
    "            mask.data[[value_indices]] = 0\n",
    "    elif init_strategy == \"owl\":\n",
    "        owl = [i for i in range(data.num_relations) if 'owl' in data.i2r[i]]\n",
    "        for i in owl:\n",
    "            _,_,value_indices=select_relation(sparse_tensor,num_entities,i)\n",
    "            mask.data[[value_indices]] = 0\n",
    "    print(f'mask initialized with {init_strategy} strategy: {mask}')   \n",
    "    return mask"
   ]
  },
  {
   "cell_type": "code",
   "execution_count": 2,
   "metadata": {},
   "outputs": [
    {
     "data": {
      "text/plain": [
       "4.5399929762484854e-05"
      ]
     },
     "execution_count": 2,
     "metadata": {},
     "output_type": "execute_result"
    }
   ],
   "source": [
    "import numpy as np\n",
    "np.exp(-10)"
   ]
  },
  {
   "cell_type": "code",
   "execution_count": 43,
   "metadata": {},
   "outputs": [],
   "source": [
    "\n",
    "v  = torch.load('chk/aifb_chk/size_0.05_lr_0.1_epochs_30_threshold_0.7_init_normal/masked_adj/masked_ver5757')\n",
    "h = torch.load('chk/aifb_chk/size_0.05_lr_0.1_epochs_30_threshold_0.7_init_normal/masked_adj/masked_hor5757')"
   ]
  },
  {
   "cell_type": "code",
   "execution_count": 38,
   "metadata": {},
   "outputs": [
    {
     "data": {
      "text/plain": [
       "tensor(indices=tensor([[ 23430,  23430,  23430,  ..., 329925, 329926, 329927],\n",
       "                       [  5757,   5789,   5791,  ...,   5230,   5230,   5230]]),\n",
       "       values=tensor([0.7401, 0.6510, 0.4919,  ..., 0.7693, 0.4461, 0.4092]),\n",
       "       size=(753935, 8285), nnz=1132, layout=torch.sparse_coo)"
      ]
     },
     "execution_count": 38,
     "metadata": {},
     "output_type": "execute_result"
    }
   ],
   "source": [
    "v"
   ]
  },
  {
   "cell_type": "code",
   "execution_count": 44,
   "metadata": {},
   "outputs": [
    {
     "data": {
      "text/plain": [
       "tensor(indices=tensor([[ 23430,  24407,  24503, 254307, 254341, 254436, 328834,\n",
       "                        328881, 328898, 328908, 328933, 328935, 328946, 328996,\n",
       "                        328999, 329014, 329155, 329156, 329157, 329163, 329166,\n",
       "                        329167, 329272, 329273, 329274, 329299, 329348, 329351,\n",
       "                        329356, 329357, 329379, 329402, 329405, 329438, 329447,\n",
       "                        329468, 329487, 329497, 329519, 329525, 329543, 329544,\n",
       "                        329555, 329558, 329587, 329623, 329625, 329659, 329698,\n",
       "                        329705, 329708, 329718, 329769, 329782, 329798, 329845,\n",
       "                        329898, 329925],\n",
       "                       [  5757,   5791,   5791,   6860,   7837,   6976,   5230,\n",
       "                          5230,   5230,   5230,   5230,   5230,   5230,   5230,\n",
       "                          5230,   5230,   5230,   5230,   5230,   5230,   5230,\n",
       "                          5230,   5230,   5230,   5230,   5230,   5230,   5230,\n",
       "                          5230,   5230,   5230,   5230,   5230,   5230,   5230,\n",
       "                          5230,   5230,   5230,   5230,   5230,   5230,   5230,\n",
       "                          5230,   5230,   5230,   5230,   5230,   5230,   5230,\n",
       "                          5230,   5230,   5230,   5230,   5230,   5230,   5230,\n",
       "                          5230,   5230]]),\n",
       "       values=tensor([0.7401, 0.7040, 0.7115, 0.7536, 0.7314, 0.7584, 0.7405,\n",
       "                      0.7478, 0.7216, 0.7530, 0.7059, 0.7009, 0.7452, 0.7099,\n",
       "                      0.7410, 0.7474, 0.7452, 0.7376, 0.7070, 0.7362, 0.7547,\n",
       "                      0.7090, 0.7822, 0.7424, 0.7493, 0.7434, 0.7465, 0.7214,\n",
       "                      0.7332, 0.7748, 0.7568, 0.7208, 0.7632, 0.7389, 0.7257,\n",
       "                      0.7540, 0.7787, 0.7882, 0.7519, 0.7162, 0.7426, 0.7206,\n",
       "                      0.7828, 0.7364, 0.7378, 0.7394, 0.7549, 0.7017, 0.7350,\n",
       "                      0.7017, 0.7335, 0.7741, 0.7568, 0.7302, 0.7546, 0.7527,\n",
       "                      0.7374, 0.7693]),\n",
       "       size=(329926, 7838), nnz=58, layout=torch.sparse_coo)"
      ]
     },
     "execution_count": 44,
     "metadata": {},
     "output_type": "execute_result"
    }
   ],
   "source": [
    "nonzero_indices = v.coalesce().indices()[:, v.coalesce().values() > 0.7]\n",
    "nonzero_indices[0] = nonzero_indices[0]#%data.num_entities\n",
    "nonzero_values = v.coalesce().values()[v.coalesce().values() > 0.7]\n",
    "sel_masked_ver = torch.sparse_coo_tensor(nonzero_indices, nonzero_values)\n",
    "sel_masked_ver"
   ]
  },
  {
   "cell_type": "code",
   "execution_count": 28,
   "metadata": {},
   "outputs": [],
   "source": [
    "v = sub_sparse_tensor(v, 0.5, data, low_threshold=False)\n",
    "h = sub_sparse_tensor(h, 0.5, data, low_threshold=False)"
   ]
  },
  {
   "cell_type": "code",
   "execution_count": 7,
   "metadata": {},
   "outputs": [],
   "source": [
    "def sub(v):\n",
    "    nonzero_indices = v.coalesce().indices()[:, v.coalesce().values() < 0.5]\n",
    "    nonzero_indices[0] = nonzero_indices[0]#%data.num_entities\n",
    "    nonzero_values = v.coalesce().values()[v.coalesce().values() < 0.5]\n",
    "    sel_masked_ver = torch.sparse_coo_tensor(nonzero_indices, nonzero_values)\n",
    "    return sel_masked_ver\n",
    "    "
   ]
  },
  {
   "cell_type": "code",
   "execution_count": 13,
   "metadata": {},
   "outputs": [
    {
     "data": {
      "text/plain": [
       "tensor(indices=tensor([[254307, 254436, 329166, 329272, 329357, 329379, 329405,\n",
       "                        329468, 329487, 329497, 329555, 329625, 329718, 329769,\n",
       "                        329798, 329925],\n",
       "                       [  6860,   6976,   5230,   5230,   5230,   5230,   5230,\n",
       "                          5230,   5230,   5230,   5230,   5230,   5230,   5230,\n",
       "                          5230,   5230]]),\n",
       "       values=tensor([0.5001, 0.5010, 0.5003, 0.5074, 0.5052, 0.5007, 0.5021,\n",
       "                      0.5001, 0.5063, 0.5094, 0.5076, 0.5003, 0.5050, 0.5007,\n",
       "                      0.5003, 0.5037]),\n",
       "       size=(329926, 6977), nnz=16, layout=torch.sparse_coo)"
      ]
     },
     "execution_count": 13,
     "metadata": {},
     "output_type": "execute_result"
    }
   ],
   "source": [
    "def sub(v, threshold):\n",
    "    nonzero_indices = v.coalesce().indices()[:, v.coalesce().values() > threshold]\n",
    "    nonzero_indices[0] = nonzero_indices[0]#%data.num_entities\n",
    "    nonzero_values = v.coalesce().values()[v.coalesce().values() > threshold]\n",
    "    sel_masked_ver = torch.sparse_coo_tensor(nonzero_indices, nonzero_values)\n",
    "    return sel_masked_ver\n",
    "sub(v, 0.5)"
   ]
  },
  {
   "cell_type": "code",
   "execution_count": 31,
   "metadata": {},
   "outputs": [
    {
     "data": {
      "text/plain": [
       "Counter({30: 2, 39: 14, 0: 16})"
      ]
     },
     "execution_count": 31,
     "metadata": {},
     "output_type": "execute_result"
    }
   ],
   "source": [
    "def match_to_triples(v,h, data, sparse=True):\n",
    "    if sparse:\n",
    "        pv,_ = torch.div(v.coalesce().indices(), data.num_entities, rounding_mode='floor')#v.coalesce().indices()//data.num_entities\n",
    "        sv,ov = v.coalesce().indices()%data.num_entities\n",
    "        result_v = torch.stack([sv,pv,ov], dim=1)\n",
    "        ph,_ = torch.div(h.coalesce().indices(), data.num_entities, rounding_mode='floor')#v.coalesce().indices()//data.num_entities\n",
    "        sh,oh = h.coalesce().indices()%data.num_entities\n",
    "        result_h = torch.stack([sh,ph,oh], dim=1)\n",
    "        result = torch.cat((result_v, result_h), 0)\n",
    "\n",
    "\n",
    "                    \n",
    "    else:\n",
    "        if len(h )!= 0:\n",
    "            _,ph = torch.div(h, data.num_entities, rounding_mode='floor')#v.coalesce().indices()//data.num_entities\n",
    "            sh,oh = h%data.num_entities\n",
    "            result_h = torch.stack([sh,ph,oh], dim=1)\n",
    "        if len(v)!=0:\n",
    "            pv, _ = torch.div(v, data.num_entities, rounding_mode='floor')#v.coalesce().indices()//data.num_entities\n",
    "            sv,ov = v%data.num_entities\n",
    "            result_v = torch.stack([sv,pv,ov], dim=1)\n",
    "        if len(h) != 0 and len(v) != 0:\n",
    "            result = torch.cat((result_v, result_h), 0)\n",
    "            print(pv,ph)\n",
    "        if len(h) == 0:\n",
    "            result = result_v\n",
    "            print(pv)\n",
    "        if len(v) == 0:\n",
    "            result = result_h\n",
    "            print(ph)\n",
    "        \n",
    "\n",
    "                    \n",
    "    \n",
    "    return result\n",
    "\n",
    "m = match_to_triples(v,h, data, sparse=True)\n",
    "Counter(m[:,1].tolist())\n",
    "\n",
    "\n"
   ]
  },
  {
   "cell_type": "code",
   "execution_count": 30,
   "metadata": {},
   "outputs": [
    {
     "data": {
      "text/plain": [
       "Counter({39: 15, 2: 1})"
      ]
     },
     "execution_count": 30,
     "metadata": {},
     "output_type": "execute_result"
    }
   ],
   "source": [
    "def match_to_triples(v, data, sparse=True):\n",
    "    if sparse:\n",
    "        # p,_ = torch.div(v.coalesce().indices(), data.num_entities, rounding_mode='floor')#v.coalesce().indices()//data.num_entities\n",
    "        # s,o = v.coalesce().indices()%data.num_entities\n",
    "        # result = torch.stack([s,p,o], dim=1)\n",
    "        matching = []\n",
    "        indexes = v.coalesce().indices()%data.num_entities\n",
    "        for j in range(indexes.size()[1]):\n",
    "            for triple in data.triples:\n",
    "                if triple[0] == indexes[0][j] and triple[2] == indexes[1][j]:\n",
    "                    matching.append(triple)\n",
    "        result = torch.stack(matching)\n",
    "\n",
    "                    \n",
    "    else:\n",
    "        matching = []\n",
    "        for i,i2 in zip(v[:,0],v[:,1]):\n",
    "            for j,j1,j2, index in zip(data[:,0],data[:,1],  data[:,2], range(len(data[:,0]))):\n",
    "                if i == j and i2 == j2:\n",
    "                    matching.append(data[index])\n",
    "                    \n",
    "\n",
    "        result = torch.stack(matching)\n",
    "    \n",
    "    return result\n",
    "m = match_to_triples(h, data, sparse=True)\n",
    "Counter(m[:,1].tolist())"
   ]
  },
  {
   "cell_type": "code",
   "execution_count": 22,
   "metadata": {},
   "outputs": [],
   "source": [
    "def sub(v, threshold):\n",
    "    nonzero_indices = v.coalesce().indices()[:, v.coalesce().values() > threshold]\n",
    "    nonzero_indices[0] = nonzero_indices[0]#%data.num_entities\n",
    "    nonzero_values = v.coalesce().values()[v.coalesce().values() > threshold]\n",
    "    sel_masked_ver = torch.sparse_coo_tensor(nonzero_indices, nonzero_values)\n",
    "    return sel_masked_ver\n",
    "\n",
    "def visualize(node_idx, n_hop, data, masked_ver,masked_hor, threshold,name, result_weights=True, low_threshold=False,experiment_name=None ):\n",
    "    \"\"\" \n",
    "    Visualize important nodes for node idx prediction\n",
    "    \"\"\"\n",
    "    dict_index = dict_index_classes(data,masked_ver)\n",
    "    mask = torch.vstack((masked_ver, masked_hor.t()))\n",
    "    mask = sub(mask, threshold)\n",
    "    print(mask)\n",
    "    #select only nodes with a certain threshold\n",
    "    sel_masked_ver = sub(masked_ver, threshold)\n",
    "    sel_masked_hor = sub(masked_hor, threshold)\n",
    "    if len(sel_masked_ver)==0:\n",
    "        sel_masked_ver=sub_sparse_tensor(masked_ver, 0,data, low_threshold)\n",
    "    #mask = torch.vstack((sel_masked_ver, sel_masked_hor.t()))\n",
    "    print('sel masked ver',mask)\n",
    "    indices_nodes = mask.coalesce().indices().detach().numpy()\n",
    "    new_index = np.transpose(np.stack((indices_nodes[0], indices_nodes[1]))) #original edge indexes\n",
    "\n",
    "    \n",
    "    \n",
    "    G = nx.Graph()\n",
    "    if result_weights:\n",
    "        values = mask.coalesce().values().detach().numpy()\n",
    "        for s,p,o in zip(indices_nodes[0],values , indices_nodes[1]):\n",
    "            G.add_edge(int(s), int(o), weight=np.round(p, 2))\n",
    "\n",
    "    else:\n",
    "\n",
    "        triples_matched = match_to_triples(sel_masked_ver,sel_masked_hor, data)\n",
    "        l = []\n",
    "        for i in triples_matched[:,1]:\n",
    "            l.append(data.i2rel[int(i)][0])\n",
    "        triples_matched = find_repeating_sublists(triples_matched.numpy())\n",
    "        print(triples_matched)\n",
    "        for s,p,o in triples_matched:\n",
    "            G.add_edge(int(s), int(o), weight=p)\n",
    "\n",
    "\n",
    "    edges,weights = zip(*nx.get_edge_attributes(G,'weight').items())\n",
    "    \n",
    "    weights = [[item] if not isinstance(item, list) else item for item in weights]\n",
    "\n",
    "\n",
    "    pos = nx.circular_layout(G)\n",
    "\n",
    "    ordered_dict = {}\n",
    "    for item in list(G.nodes):\n",
    "        if item in ordered_dict:\n",
    "            ordered_dict[item].append(dict_index[item])\n",
    "        # else:\n",
    "        #     ordered_dict[item] =  dict_index[item]\n",
    "\n",
    "    dict_index = ordered_dict\n",
    "\n",
    "    labeldict = {}\n",
    "    for node in G.nodes:\n",
    "        labeldict[int(node)] = int(node)  \n",
    "\n",
    "\n",
    "    dict = {}\n",
    "    for k,v in dict_index.items():\n",
    "        for k1,v1 in data.entities_classes.items():\n",
    "            if v==k1: \n",
    "\n",
    "                dict[k] = v1\n",
    "            else:\n",
    "                if k not in dict:\n",
    "                    dict[k] = 0\n",
    "                \n",
    "\n",
    "    color_list = list(dict.values())\n",
    "    color_list = list(encode_dict(dict_index).values())\n",
    "\n",
    "\n",
    "    col_weights = [weights[i][0] for i in range(len(weights))]\n",
    "    if result_weights:\n",
    "        \n",
    "        nx.draw(G, pos,labels = labeldict,  edgelist=edges, edge_color=col_weights, node_color =  color_list, cmap=\"Set2\",edge_cmap=plt.cm.Reds,font_size=8)\n",
    "        nx.draw_networkx_edge_labels( G, pos,edge_labels=nx.get_edge_attributes(G,'weight'),font_size=8,font_color='red')\n",
    "        sm = plt.cm.ScalarMappable(cmap=plt.cm.Reds, norm=plt.Normalize(vmin=0, vmax=1))\n",
    "        sm.set_array(weights)\n",
    "        cbar = plt.colorbar(sm)\n",
    "        cbar.ax.set_title('Weight')\n",
    "        plt.title(\"Node {}'s {}-hop neighborhood important nodes\".format(node_idx, n_hop))\n",
    "    else:\n",
    "        rel = nx.get_edge_attributes(G,'weight')\n",
    "        rel = {k: [data.i2rel[i][0] for i in v] for k,v in rel.items()}\n",
    "        col_weights = [sum(weights[i], 3) if len(weights[i]) > 1 else weights[i][0] for i in range(len(weights))]\n",
    "        nx.draw(G, pos,labels = labeldict, edge_color=col_weights,edgelist=edges,node_color =  color_list, cmap=\"Set2\",font_size=7, arrows = True)\n",
    "        nx.draw_networkx_edge_labels( G, pos,edge_labels=rel,font_size=8,font_color='red')\n",
    "        \n",
    "        res = Counter(unnest_list(rel.values()))\n",
    "        print(res)\n",
    "    if result_weights:\n",
    "        if not os.path.exists(f'chk/{name}_chk/{experiment_name}⁄graphs'):\n",
    "            os.makedirs(f'chk/{name}_chk/{experiment_name}⁄graphs')  \n",
    "        plt.savefig(f'chk/{name}_chk/{experiment_name}⁄graphs/Explanation_{node_idx}_weights.png')\n",
    "\n",
    "        #plt.show()\n",
    "\n",
    "    else:\n",
    "        if not os.path.exists(f'chk/{name}_chk/{experiment_name}⁄graphs'):\n",
    "            os.makedirs(f'chk/{name}_chk/{experiment_name}⁄graphs')  \n",
    "        plt.savefig(f'chk/{name}_chk/{experiment_name}⁄graphs/Explanation_{node_idx}_relations.png')    \n",
    "        #plt.show()\n",
    "        return res, weights\n",
    "    \n"
   ]
  },
  {
   "cell_type": "code",
   "execution_count": 61,
   "metadata": {},
   "outputs": [
    {
     "data": {
      "text/plain": [
       "tensor(indices=tensor([[ 23430,  23430,  23430,  ..., 776294, 776296, 776405],\n",
       "                       [  5757,   5789,   5791,  ...,   7973,   7973,   7973]]),\n",
       "       values=tensor([0.4981, 0.4939, 0.4888,  ..., 0.5037, 0.4862, 0.4832]),\n",
       "       size=(1507870, 8285), nnz=2264, layout=torch.sparse_coo)"
      ]
     },
     "execution_count": 61,
     "metadata": {},
     "output_type": "execute_result"
    }
   ],
   "source": [
    "torch.vstack((v,h.t()))"
   ]
  },
  {
   "cell_type": "code",
   "execution_count": 23,
   "metadata": {},
   "outputs": [
    {
     "name": "stdout",
     "output_type": "stream",
     "text": [
      "tensor(indices=tensor([[ 254307,  254436,  329166,  329272,  329357,  329379,\n",
      "                         329405,  329468,  329487,  329497,  329555,  329625,\n",
      "                         329718,  329769,  329798,  329925,  776294, 1082280,\n",
      "                        1082280, 1082280, 1082280, 1082280, 1082280, 1082280,\n",
      "                        1082280, 1082280, 1082280, 1082280, 1082280, 1082280,\n",
      "                        1082280, 1082280],\n",
      "                       [   6860,    6976,    5230,    5230,    5230,    5230,\n",
      "                           5230,    5230,    5230,    5230,    5230,    5230,\n",
      "                           5230,    5230,    5230,    5230,    7973,    5723,\n",
      "                           5744,    6099,    6205,    6290,    6312,    6338,\n",
      "                           6401,    6420,    6430,    6488,    6558,    6646,\n",
      "                           6697,    6726]]),\n",
      "       values=tensor([0.5001, 0.5010, 0.5003, 0.5074, 0.5052, 0.5007, 0.5021,\n",
      "                      0.5001, 0.5063, 0.5094, 0.5076, 0.5003, 0.5050, 0.5007,\n",
      "                      0.5003, 0.5037, 0.5037, 0.5001, 0.5010, 0.5003, 0.5074,\n",
      "                      0.5052, 0.5007, 0.5021, 0.5001, 0.5063, 0.5094, 0.5076,\n",
      "                      0.5003, 0.5050, 0.5007, 0.5003]),\n",
      "       size=(1082281, 7974), nnz=32, layout=torch.sparse_coo)\n",
      "sel masked ver tensor(indices=tensor([[ 254307,  254436,  329166,  329272,  329357,  329379,\n",
      "                         329405,  329468,  329487,  329497,  329555,  329625,\n",
      "                         329718,  329769,  329798,  329925,  776294, 1082280,\n",
      "                        1082280, 1082280, 1082280, 1082280, 1082280, 1082280,\n",
      "                        1082280, 1082280, 1082280, 1082280, 1082280, 1082280,\n",
      "                        1082280, 1082280],\n",
      "                       [   6860,    6976,    5230,    5230,    5230,    5230,\n",
      "                           5230,    5230,    5230,    5230,    5230,    5230,\n",
      "                           5230,    5230,    5230,    5230,    7973,    5723,\n",
      "                           5744,    6099,    6205,    6290,    6312,    6338,\n",
      "                           6401,    6420,    6430,    6488,    6558,    6646,\n",
      "                           6697,    6726]]),\n",
      "       values=tensor([0.5001, 0.5010, 0.5003, 0.5074, 0.5052, 0.5007, 0.5021,\n",
      "                      0.5001, 0.5063, 0.5094, 0.5076, 0.5003, 0.5050, 0.5007,\n",
      "                      0.5003, 0.5037, 0.5037, 0.5001, 0.5010, 0.5003, 0.5074,\n",
      "                      0.5052, 0.5007, 0.5021, 0.5001, 0.5063, 0.5094, 0.5076,\n",
      "                      0.5003, 0.5050, 0.5007, 0.5003]),\n",
      "       size=(1082281, 7974), nnz=32, layout=torch.sparse_coo)\n",
      "[[5757, [30], 6860], [5886, [30], 6976], [6051, [39], 5230], [6157, [39], 5230], [6242, [39], 5230], [6264, [39], 5230], [6290, [39, 0], 5230], [6353, [39], 5230], [6372, [39], 5230], [6382, [39], 5230], [6440, [39], 5230], [6510, [39], 5230], [6603, [39], 5230], [6654, [39], 5230], [6683, [39], 5230], [6810, [39], 5230], [5723, [0], 5230], [5744, [0], 5230], [6099, [0], 5230], [6205, [0], 5230], [6312, [0], 5230], [6338, [0], 5230], [6401, [0], 5230], [6420, [0], 5230], [6430, [0], 5230], [6488, [0], 5230], [6558, [0], 5230], [6646, [0], 5230], [6697, [0], 5230], [6726, [0], 5230], [7973, [0], 5789]]\n",
      "Counter({'abstract': 16, 'type': 14, 'publication': 2})\n"
     ]
    },
    {
     "name": "stderr",
     "output_type": "stream",
     "text": [
      "/usr/local/Caskroom/miniconda/base/lib/python3.9/site-packages/networkx/drawing/nx_pylab.py:433: UserWarning: No data for colormapping provided via 'c'. Parameters 'cmap' will be ignored\n",
      "  node_collection = ax.scatter(\n"
     ]
    },
    {
     "data": {
      "text/plain": [
       "(Counter({'publication': 2, 'type': 14, 'abstract': 16}),\n",
       " [[30],\n",
       "  [30],\n",
       "  [39],\n",
       "  [39],\n",
       "  [39],\n",
       "  [39],\n",
       "  [39, 0],\n",
       "  [39],\n",
       "  [39],\n",
       "  [39],\n",
       "  [39],\n",
       "  [39],\n",
       "  [39],\n",
       "  [39],\n",
       "  [39],\n",
       "  [39],\n",
       "  [0],\n",
       "  [0],\n",
       "  [0],\n",
       "  [0],\n",
       "  [0],\n",
       "  [0],\n",
       "  [0],\n",
       "  [0],\n",
       "  [0],\n",
       "  [0],\n",
       "  [0],\n",
       "  [0],\n",
       "  [0],\n",
       "  [0],\n",
       "  [0]])"
      ]
     },
     "execution_count": 23,
     "metadata": {},
     "output_type": "execute_result"
    },
    {
     "data": {
      "image/png": "[encoded data removed]",
      "text/plain": [
       "<Figure size 640x480 with 1 Axes>"
      ]
     },
     "metadata": {},
     "output_type": "display_data"
    }
   ],
   "source": [
    "visualize(node_idx, 2, data, v,h, 0.5,name, result_weights=False, low_threshold=False,experiment_name=None )"
   ]
  },
  {
   "cell_type": "code",
   "execution_count": 62,
   "metadata": {},
   "outputs": [
    {
     "data": {
      "text/plain": [
       "'http://www.w3.org/1999/02/22-rdf-syntax-ns#type'"
      ]
     },
     "execution_count": 62,
     "metadata": {},
     "output_type": "execute_result"
    }
   ],
   "source": [
    "data.i2r[39]"
   ]
  }
 ],
 "metadata": {
  "kernelspec": {
   "display_name": "base",
   "language": "python",
   "name": "python3"
  },
  "language_info": {
   "codemirror_mode": {
    "name": "ipython",
    "version": 3
   },
   "file_extension": ".py",
   "mimetype": "text/x-python",
   "name": "python",
   "nbconvert_exporter": "python",
   "pygments_lexer": "ipython3",
   "version": "3.9.12"
  },
  "orig_nbformat": 4
 },
 "nbformat": 4,
 "nbformat_minor": 2
}
